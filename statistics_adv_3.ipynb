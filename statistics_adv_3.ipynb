{
 "cells": [
  {
   "cell_type": "markdown",
   "id": "34f9ace0",
   "metadata": {},
   "source": [
    "## Q1"
   ]
  },
  {
   "cell_type": "markdown",
   "id": "e3a89749",
   "metadata": {},
   "source": [
    "Assumptions for Anova\n",
    "\n",
    "1. Normality of sampling distribution of mean:\n",
    "    1. The distribution of sample means is normally distributed.\n",
    "    \n",
    "2. Absence of outliers:\n",
    "    1. The outlying score need to be removed.\n",
    "    \n",
    "3. Homogenity of variance:\n",
    "    1. population variance in different levels of each independent variable  are equal.\n",
    "    \n",
    "4. Samples are independent and randomly selected.    \n",
    "\n",
    "Examples of violations:\n",
    "\n",
    "Non-Normality: If the data within groups are not normally distributed, ANOVA may lead to incorrect conclusions. For example, if you're comparing the exam scores of students from different schools, and the scores within one group are skewed or not normally distributed, ANOVA results might be unreliable.\n",
    "    "
   ]
  },
  {
   "cell_type": "markdown",
   "id": "e1ab095a",
   "metadata": {},
   "source": [
    "## Q2"
   ]
  },
  {
   "cell_type": "markdown",
   "id": "2674f8f3",
   "metadata": {},
   "source": [
    "1. One-Way ANOVA: Use when you have one categorical independent variable (factor) and want to compare the means of three or more independent groups.\n",
    "\n",
    "2. Two-Way ANOVA: Use when you have two categorical independent variables (factors) and want to examine their individual and interaction effects on a continuous dependent variable. It's particularly useful for studying how two factors might interact to influence the outcome.\n",
    "\n",
    "3. Repeated Measures ANOVA: Use when you have a single group of subjects or items measured under multiple conditions or time points. This allows you to analyze changes within the same subjects over time or across different conditions."
   ]
  },
  {
   "cell_type": "markdown",
   "id": "060243f0",
   "metadata": {},
   "source": [
    "## Q3"
   ]
  },
  {
   "cell_type": "markdown",
   "id": "fd403a12",
   "metadata": {},
   "source": [
    "The partitioning of variance in Analysis of Variance (ANOVA) is a fundamental concept that helps us understand how the total variability in a dataset is divided into different components, allowing us to assess the sources of variation and draw meaningful conclusions from our analysis.\n",
    "\n",
    "\n",
    "It is crucial to understand this concept because it provides insights into the factors contributing to differences in the data and helps determine whether those differences are statistically significant."
   ]
  },
  {
   "cell_type": "markdown",
   "id": "7376a4d9",
   "metadata": {},
   "source": [
    "## Q4"
   ]
  },
  {
   "cell_type": "code",
   "execution_count": 1,
   "id": "432d78a9",
   "metadata": {},
   "outputs": [],
   "source": [
    "import numpy as np"
   ]
  },
  {
   "cell_type": "code",
   "execution_count": 2,
   "id": "85fc12d1",
   "metadata": {},
   "outputs": [],
   "source": [
    "group1 = [12, 15, 18, 10, 14]\n",
    "group2 = [9, 8, 11, 6, 10]\n",
    "group3 = [17, 20, 22, 15, 19]"
   ]
  },
  {
   "cell_type": "code",
   "execution_count": 7,
   "id": "32a9ff20",
   "metadata": {},
   "outputs": [
    {
     "name": "stdout",
     "output_type": "stream",
     "text": [
      "Total Sum of squares:  320.9333333333333\n",
      "Explained Sum of squares:  240.13333333333338\n",
      "Residual Sum of squares:  80.8\n"
     ]
    }
   ],
   "source": [
    "data = np.concatenate([group1,group2,group3])\n",
    "Grand_mean = np.mean(data)\n",
    "\n",
    "sst = np.sum((data - Grand_mean)**2)\n",
    "\n",
    "Group1_mean = np.mean(group1)\n",
    "Group2_mean = np.mean(group2)\n",
    "Group3_mean = np.mean(group3)\n",
    "\n",
    "sse_group1 = len(group1) * ((Group1_mean - Grand_mean)**2)\n",
    "sse_group2 = len(group2) * ((Group2_mean - Grand_mean)**2)\n",
    "sse_group3 = len(group3) * ((Group3_mean - Grand_mean)**2)\n",
    "Total_sse = sse_group1 + sse_group2 + sse_group3\n",
    "\n",
    "ssr_group1 = np.sum((group1 - Group1_mean)**2)\n",
    "ssr_group2 = np.sum((group2 - Group2_mean)**2)\n",
    "ssr_group3 = np.sum((group3 - Group3_mean)**2)\n",
    "Total_ssr = ssr_group1 + ssr_group2 + ssr_group3\n",
    "\n",
    "print(\"Total Sum of squares: \",sst)\n",
    "print(\"Explained Sum of squares: \",Total_sse)\n",
    "print(\"Residual Sum of squares: \",Total_ssr)"
   ]
  },
  {
   "cell_type": "markdown",
   "id": "4c3c5123",
   "metadata": {},
   "source": [
    "## Q5"
   ]
  },
  {
   "cell_type": "code",
   "execution_count": 9,
   "id": "498d64b2",
   "metadata": {},
   "outputs": [],
   "source": [
    "import numpy as np\n",
    "import pandas as pd\n",
    "import statsmodels.api as sm\n",
    "from statsmodels.formula.api import ols"
   ]
  },
  {
   "cell_type": "code",
   "execution_count": 11,
   "id": "fa54ac1a",
   "metadata": {},
   "outputs": [
    {
     "data": {
      "text/html": [
       "<div>\n",
       "<style scoped>\n",
       "    .dataframe tbody tr th:only-of-type {\n",
       "        vertical-align: middle;\n",
       "    }\n",
       "\n",
       "    .dataframe tbody tr th {\n",
       "        vertical-align: top;\n",
       "    }\n",
       "\n",
       "    .dataframe thead th {\n",
       "        text-align: right;\n",
       "    }\n",
       "</style>\n",
       "<table border=\"1\" class=\"dataframe\">\n",
       "  <thead>\n",
       "    <tr style=\"text-align: right;\">\n",
       "      <th></th>\n",
       "      <th>A</th>\n",
       "      <th>B</th>\n",
       "      <th>Y</th>\n",
       "    </tr>\n",
       "  </thead>\n",
       "  <tbody>\n",
       "    <tr>\n",
       "      <th>0</th>\n",
       "      <td>10</td>\n",
       "      <td>5</td>\n",
       "      <td>35</td>\n",
       "    </tr>\n",
       "    <tr>\n",
       "      <th>1</th>\n",
       "      <td>15</td>\n",
       "      <td>8</td>\n",
       "      <td>40</td>\n",
       "    </tr>\n",
       "    <tr>\n",
       "      <th>2</th>\n",
       "      <td>20</td>\n",
       "      <td>10</td>\n",
       "      <td>45</td>\n",
       "    </tr>\n",
       "    <tr>\n",
       "      <th>3</th>\n",
       "      <td>25</td>\n",
       "      <td>12</td>\n",
       "      <td>60</td>\n",
       "    </tr>\n",
       "    <tr>\n",
       "      <th>4</th>\n",
       "      <td>30</td>\n",
       "      <td>15</td>\n",
       "      <td>65</td>\n",
       "    </tr>\n",
       "  </tbody>\n",
       "</table>\n",
       "</div>"
      ],
      "text/plain": [
       "    A   B   Y\n",
       "0  10   5  35\n",
       "1  15   8  40\n",
       "2  20  10  45\n",
       "3  25  12  60\n",
       "4  30  15  65"
      ]
     },
     "execution_count": 11,
     "metadata": {},
     "output_type": "execute_result"
    }
   ],
   "source": [
    "data = pd.DataFrame({'A': [10, 15, 20, 25, 30],\n",
    "                     'B': [5, 8, 10, 12, 15],\n",
    "                     'Y': [35, 40, 45, 60, 65]})\n",
    "data"
   ]
  },
  {
   "cell_type": "code",
   "execution_count": 12,
   "id": "e5447f64",
   "metadata": {},
   "outputs": [],
   "source": [
    "model = ols('Y ~ A + B + A:B', data=data).fit()"
   ]
  },
  {
   "cell_type": "code",
   "execution_count": 13,
   "id": "c877c571",
   "metadata": {},
   "outputs": [
    {
     "name": "stdout",
     "output_type": "stream",
     "text": [
      "             sum_sq   df      F    PR(>F)\n",
      "A         27.586207  1.0  2.000  0.391827\n",
      "B         10.000000  1.0  0.725  0.550962\n",
      "A:B        6.206897  1.0  0.450  0.623839\n",
      "Residual  13.793103  1.0    NaN       NaN\n"
     ]
    }
   ],
   "source": [
    "anova_table = sm.stats.anova_lm(model, typ=2)\n",
    "print(anova_table)"
   ]
  },
  {
   "cell_type": "markdown",
   "id": "b1da471a",
   "metadata": {},
   "source": [
    "## Q6"
   ]
  },
  {
   "cell_type": "code",
   "execution_count": 14,
   "id": "0d26e264",
   "metadata": {},
   "outputs": [
    {
     "name": "stdout",
     "output_type": "stream",
     "text": [
      "Reject the Null Hypothesis\n"
     ]
    }
   ],
   "source": [
    "signicance_level = 0.05\n",
    "F_statistics = 5.23\n",
    "p_value = 0.02\n",
    "\n",
    "if p_value < signicance_level:\n",
    "    print(\"Reject the Null Hypothesis\")\n",
    "else:\n",
    "    print(\"Accept the Null Hypothesis\")"
   ]
  },
  {
   "cell_type": "markdown",
   "id": "ae9d43e5",
   "metadata": {},
   "source": [
    "There is a significant different between the groups."
   ]
  },
  {
   "cell_type": "markdown",
   "id": "f5e0c899",
   "metadata": {},
   "source": [
    "## Q7"
   ]
  },
  {
   "cell_type": "markdown",
   "id": "7420b772",
   "metadata": {},
   "source": [
    "1. Mean Imputation:\n",
    "    1. Method: Replace missing values with the mean of the observed values for that variable (column).\n",
    "    2. Consequences:\n",
    "        1. Advantages: Easy to implement and does not reduce the sample size.\n",
    "        2. Disadvantages: Can underestimate the variance and standard errors, leading to inaccurate p-values and confidence intervals. It assumes that missing values are missing at random (MAR) and may introduce bias if this assumption is violated.\n",
    "        \n",
    "        \n",
    "2. Interpolation and Extrapolation:\n",
    "    1. Method: Estimate missing values based on patterns or relationships in the observed data.\n",
    "    2. Consequences:\n",
    "        1. Advantages: Can provide more accurate imputations if patterns exist in the data.\n",
    "        2. Disadvantages: Requires more complex modeling and assumptions about data patterns. Can be sensitive to model misspecification.        "
   ]
  },
  {
   "cell_type": "markdown",
   "id": "1047deb1",
   "metadata": {},
   "source": [
    "## Q8"
   ]
  },
  {
   "cell_type": "markdown",
   "id": "faf1df87",
   "metadata": {},
   "source": [
    "Post-hoc tests are used in the context of analysis of variance (ANOVA) to make pairwise comparisons between group means when the ANOVA reveals a significant overall difference among groups.\n",
    "\n",
    "There are several common post-hoc tests, and the choice of which one to use depends on factors like the number of groups, sample size, and assumptions about the data.\n",
    "\n",
    "1. Tukey's Honestly Significant Difference (Tukey HSD):\n",
    "\n",
    "2. Use: Tukey's HSD is a widely used post-hoc test that is appropriate when you have three or more groups and you want to control the familywise error rate. It provides simultaneous confidence intervals for all pairwise group comparisons.\n",
    "3. Example: In a one-way ANOVA comparing the test scores of students from different schools, if the ANOVA indicates a significant overall difference, you could use Tukey's HSD to determine which schools have significantly different mean scores."
   ]
  },
  {
   "cell_type": "markdown",
   "id": "db06c8fa",
   "metadata": {},
   "source": [
    "## Q9"
   ]
  },
  {
   "cell_type": "code",
   "execution_count": 15,
   "id": "38954668",
   "metadata": {},
   "outputs": [],
   "source": [
    "import scipy.stats as stat\n",
    "import numpy as np"
   ]
  },
  {
   "cell_type": "code",
   "execution_count": 17,
   "id": "c27a963f",
   "metadata": {},
   "outputs": [],
   "source": [
    "dietA = np.random.normal(2.0,0.5,50)\n",
    "dietB = np.random.normal(1.8,1.2,50)\n",
    "dietC = np.random.normal(2.23,0.98,50)"
   ]
  },
  {
   "cell_type": "code",
   "execution_count": 20,
   "id": "321b0415",
   "metadata": {},
   "outputs": [
    {
     "name": "stdout",
     "output_type": "stream",
     "text": [
      "F statistics :   0.6382367320045343\n",
      "P value :  0.5296803286827185\n"
     ]
    }
   ],
   "source": [
    "f_statistics , p_value = stat.f_oneway(dietA,dietB,dietC)\n",
    "print(\"F statistics :  \",f_statistics)\n",
    "print(\"P value : \",p_value)"
   ]
  },
  {
   "cell_type": "markdown",
   "id": "66f2ef76",
   "metadata": {},
   "source": [
    "1. If the p-value is less than your chosen significance level (e.g., 0.05), you would reject the null hypothesis.\n",
    "2. If the p-value is greater than or equal to your chosen significance level, you would fail to reject the null hypothesis.\n"
   ]
  },
  {
   "cell_type": "code",
   "execution_count": 22,
   "id": "788709c7",
   "metadata": {},
   "outputs": [
    {
     "name": "stdout",
     "output_type": "stream",
     "text": [
      "Accept the Null Hypothesis\n"
     ]
    }
   ],
   "source": [
    "if p_value < 0.05:\n",
    "    print(\"Reject the Null Hypothesis\")\n",
    "else:\n",
    "    print(\"Accept the Null Hypothesis\")\n",
    "    "
   ]
  },
  {
   "cell_type": "markdown",
   "id": "3a5f9e11",
   "metadata": {},
   "source": [
    "## Q10"
   ]
  },
  {
   "cell_type": "code",
   "execution_count": 24,
   "id": "fd604b34",
   "metadata": {},
   "outputs": [],
   "source": [
    "import pandas as pd\n",
    "import statsmodels.api as sm\n",
    "from statsmodels.formula.api import ols\n",
    "import random"
   ]
  },
  {
   "cell_type": "code",
   "execution_count": 25,
   "id": "bd0dad54",
   "metadata": {},
   "outputs": [
    {
     "data": {
      "text/html": [
       "<div>\n",
       "<style scoped>\n",
       "    .dataframe tbody tr th:only-of-type {\n",
       "        vertical-align: middle;\n",
       "    }\n",
       "\n",
       "    .dataframe tbody tr th {\n",
       "        vertical-align: top;\n",
       "    }\n",
       "\n",
       "    .dataframe thead th {\n",
       "        text-align: right;\n",
       "    }\n",
       "</style>\n",
       "<table border=\"1\" class=\"dataframe\">\n",
       "  <thead>\n",
       "    <tr style=\"text-align: right;\">\n",
       "      <th></th>\n",
       "      <th>Time</th>\n",
       "      <th>Program</th>\n",
       "      <th>Experience</th>\n",
       "    </tr>\n",
       "  </thead>\n",
       "  <tbody>\n",
       "    <tr>\n",
       "      <th>0</th>\n",
       "      <td>40.892854</td>\n",
       "      <td>A</td>\n",
       "      <td>Novice</td>\n",
       "    </tr>\n",
       "    <tr>\n",
       "      <th>1</th>\n",
       "      <td>57.171282</td>\n",
       "      <td>B</td>\n",
       "      <td>Novice</td>\n",
       "    </tr>\n",
       "    <tr>\n",
       "      <th>2</th>\n",
       "      <td>33.531470</td>\n",
       "      <td>A</td>\n",
       "      <td>Novice</td>\n",
       "    </tr>\n",
       "    <tr>\n",
       "      <th>3</th>\n",
       "      <td>21.767108</td>\n",
       "      <td>A</td>\n",
       "      <td>Experience</td>\n",
       "    </tr>\n",
       "    <tr>\n",
       "      <th>4</th>\n",
       "      <td>25.137024</td>\n",
       "      <td>A</td>\n",
       "      <td>Novice</td>\n",
       "    </tr>\n",
       "  </tbody>\n",
       "</table>\n",
       "</div>"
      ],
      "text/plain": [
       "        Time Program  Experience\n",
       "0  40.892854       A      Novice\n",
       "1  57.171282       B      Novice\n",
       "2  33.531470       A      Novice\n",
       "3  21.767108       A  Experience\n",
       "4  25.137024       A      Novice"
      ]
     },
     "execution_count": 25,
     "metadata": {},
     "output_type": "execute_result"
    }
   ],
   "source": [
    "data = {\n",
    "    \"Time\" : [],\n",
    "    \"Program\" : [],\n",
    "    \"Experience\" : []\n",
    "}\n",
    "\n",
    "for i in range(30):\n",
    "    \n",
    "    time = random.uniform(10,60)\n",
    "    program = random.choice([\"A\",\"B\",\"C\"])\n",
    "    experience = random.choice([\"Novice\",\"Experience\"])\n",
    "    \n",
    "    data[\"Time\"].append(time)\n",
    "    data[\"Program\"].append(program)\n",
    "    data[\"Experience\"].append(experience)\n",
    "    \n",
    "\n",
    "df = pd.DataFrame(data)\n",
    "df.head()\n"
   ]
  },
  {
   "cell_type": "code",
   "execution_count": 26,
   "id": "eed1a890",
   "metadata": {},
   "outputs": [],
   "source": [
    "model = ols('Time ~ Program + Experience + Program:Experience', data=df).fit()"
   ]
  },
  {
   "cell_type": "code",
   "execution_count": 27,
   "id": "7b0fb151",
   "metadata": {},
   "outputs": [
    {
     "name": "stdout",
     "output_type": "stream",
     "text": [
      "                         sum_sq    df         F    PR(>F)\n",
      "Program              201.056588   2.0  0.489689  0.618807\n",
      "Experience           308.430946   1.0  1.502415  0.232192\n",
      "Program:Experience   296.571257   2.0  0.722322  0.495882\n",
      "Residual            4926.962278  24.0       NaN       NaN\n"
     ]
    }
   ],
   "source": [
    "anova_table = sm.stats.anova_lm(model, typ=2)\n",
    "print(anova_table)"
   ]
  },
  {
   "cell_type": "markdown",
   "id": "2f7b3112",
   "metadata": {},
   "source": [
    "1. If the p-value for the main effect of \"Program\" is less than your chosen significance level (e.g., 0.05), you would conclude that there is a significant main effect of software program on task completion time.\n",
    "\n",
    "2. If the p-value for the main effect of \"Experience\" is less than your chosen significance level (e.g., 0.05), you would conclude that there is a significant main effect of employee experience level on task completion time.\n",
    "\n",
    "3. If the p-value for the interaction effect (Program:Experience) is less than your chosen significance level (e.g., 0.05), you would conclude that there is a significant interaction effect between software program and employee experience level, indicating that the effect of one variable depends on the other.\n",
    "\n"
   ]
  },
  {
   "cell_type": "markdown",
   "id": "2427f069",
   "metadata": {},
   "source": [
    "## Q11"
   ]
  },
  {
   "cell_type": "code",
   "execution_count": 31,
   "id": "d356b001",
   "metadata": {},
   "outputs": [],
   "source": [
    "import numpy as np\n",
    "import scipy.stats as stat"
   ]
  },
  {
   "cell_type": "code",
   "execution_count": 30,
   "id": "eebe9a41",
   "metadata": {},
   "outputs": [],
   "source": [
    "control_group = np.random.normal(80,10,100)\n",
    "experimental_group = np.random.normal(85,10,100)"
   ]
  },
  {
   "cell_type": "code",
   "execution_count": 32,
   "id": "b041396d",
   "metadata": {},
   "outputs": [
    {
     "name": "stdout",
     "output_type": "stream",
     "text": [
      "-2.3311282991152447\n",
      "0.020752776974165534\n"
     ]
    }
   ],
   "source": [
    "t_statistics, p_value = stat.ttest_ind(control_group, experimental_group)\n",
    "print(t_statistics)\n",
    "print(p_value)"
   ]
  },
  {
   "cell_type": "markdown",
   "id": "96b1909c",
   "metadata": {},
   "source": [
    "Interpret the results:\n",
    "\n",
    "1. If the p-value is less than your chosen significance level (e.g., 0.05), you would conclude that there are statistically significant differences in test scores between the control and experimental groups.\n",
    "\n",
    "2. If the results are significant (i.e., you reject the null hypothesis), you can proceed with a post-hoc test (e.g., Tukey's HSD) to determine which group(s) differ significantly from each other. However, please note that post-hoc tests like Tukey's HSD are typically used in the context of ANOVA, not t-tests. If you have more than two groups to compare, it would be appropriate to use ANOVA followed by Tukey's HSD for pairwise comparisons."
   ]
  },
  {
   "cell_type": "markdown",
   "id": "8da3ee91",
   "metadata": {},
   "source": [
    "There is no significance value given in the question \n",
    "still Assuming alpha or significance level to be 0.05"
   ]
  },
  {
   "cell_type": "code",
   "execution_count": 33,
   "id": "125bdebb",
   "metadata": {},
   "outputs": [
    {
     "name": "stdout",
     "output_type": "stream",
     "text": [
      "Reject the Null Hypothesis\n"
     ]
    }
   ],
   "source": [
    "if p_value < 0.05:\n",
    "    print(\"Reject the Null Hypothesis\")\n",
    "else:\n",
    "    print(\"Accept the Null Hypothesis\")"
   ]
  },
  {
   "cell_type": "markdown",
   "id": "f7167df0",
   "metadata": {},
   "source": [
    "## Q12"
   ]
  },
  {
   "cell_type": "code",
   "execution_count": 62,
   "id": "7da7df08",
   "metadata": {},
   "outputs": [],
   "source": [
    "import pandas as pd\n",
    "import numpy as np\n",
    "import scipy.stats as stats\n",
    "from statsmodels.stats.multicomp import pairwise_tukeyhsd"
   ]
  },
  {
   "cell_type": "code",
   "execution_count": 48,
   "id": "e773405f",
   "metadata": {},
   "outputs": [
    {
     "data": {
      "text/html": [
       "<div>\n",
       "<style scoped>\n",
       "    .dataframe tbody tr th:only-of-type {\n",
       "        vertical-align: middle;\n",
       "    }\n",
       "\n",
       "    .dataframe tbody tr th {\n",
       "        vertical-align: top;\n",
       "    }\n",
       "\n",
       "    .dataframe thead th {\n",
       "        text-align: right;\n",
       "    }\n",
       "</style>\n",
       "<table border=\"1\" class=\"dataframe\">\n",
       "  <thead>\n",
       "    <tr style=\"text-align: right;\">\n",
       "      <th></th>\n",
       "      <th>Days</th>\n",
       "      <th>Stores</th>\n",
       "      <th>Sales</th>\n",
       "    </tr>\n",
       "  </thead>\n",
       "  <tbody>\n",
       "    <tr>\n",
       "      <th>0</th>\n",
       "      <td>1</td>\n",
       "      <td>A</td>\n",
       "      <td>239</td>\n",
       "    </tr>\n",
       "    <tr>\n",
       "      <th>1</th>\n",
       "      <td>2</td>\n",
       "      <td>A</td>\n",
       "      <td>281</td>\n",
       "    </tr>\n",
       "    <tr>\n",
       "      <th>2</th>\n",
       "      <td>3</td>\n",
       "      <td>A</td>\n",
       "      <td>310</td>\n",
       "    </tr>\n",
       "    <tr>\n",
       "      <th>3</th>\n",
       "      <td>4</td>\n",
       "      <td>A</td>\n",
       "      <td>252</td>\n",
       "    </tr>\n",
       "    <tr>\n",
       "      <th>4</th>\n",
       "      <td>5</td>\n",
       "      <td>A</td>\n",
       "      <td>223</td>\n",
       "    </tr>\n",
       "  </tbody>\n",
       "</table>\n",
       "</div>"
      ],
      "text/plain": [
       "   Days Stores  Sales\n",
       "0     1      A    239\n",
       "1     2      A    281\n",
       "2     3      A    310\n",
       "3     4      A    252\n",
       "4     5      A    223"
      ]
     },
     "execution_count": 48,
     "metadata": {},
     "output_type": "execute_result"
    }
   ],
   "source": [
    "days = np.arange(1,31)\n",
    "\n",
    "sales_A = np.random.randint(200,400,30)\n",
    "sales_B = np.random.randint(180,380,30)\n",
    "sales_C = np.random.randint(220,420,30)\n",
    "\n",
    "data1 = {\n",
    "    \"Days\" : np.tile(days,3),\n",
    "    \"Stores\" : [\"A\"] *30 + [\"B\"]* 30 + [\"C\"] *30,\n",
    "    \"Sales\" : np.concatenate([sales_A, sales_B, sales_C])\n",
    "}\n",
    "\n",
    "df = pd.DataFrame(data1)\n",
    "df.head()"
   ]
  },
  {
   "cell_type": "code",
   "execution_count": 57,
   "id": "f96a7b26",
   "metadata": {},
   "outputs": [],
   "source": [
    "f_statistic, p_value = stats.f_oneway(\n",
    "    df['Sales'][df['Stores'] == 'A'],\n",
    "    df['Sales'][df['Stores'] == 'B'],\n",
    "    df['Sales'][df['Stores'] == 'C']\n",
    ")\n"
   ]
  },
  {
   "cell_type": "code",
   "execution_count": 59,
   "id": "6894d2b6",
   "metadata": {},
   "outputs": [
    {
     "name": "stdout",
     "output_type": "stream",
     "text": [
      "F-statistic: 4.4582055983411895\n",
      "p-value: 0.01434648245968254\n"
     ]
    }
   ],
   "source": [
    "print(\"F-statistic:\", f_statistic)\n",
    "print(\"p-value:\", p_value)"
   ]
  },
  {
   "cell_type": "markdown",
   "id": "bffc62e2",
   "metadata": {},
   "source": [
    "Interpret the results:\n",
    "\n",
    "1. If the p-value is less than your chosen significance level (e.g., 0.05), you would conclude that there are statistically significant differences in average daily sales between the three stores.\n",
    "2. If the results are significant (i.e., you reject the null hypothesis), you can follow up with a post-hoc test, such as Tukey's HSD, to determine which store(s) differ significantly from each other"
   ]
  },
  {
   "cell_type": "code",
   "execution_count": 60,
   "id": "3bf2279d",
   "metadata": {},
   "outputs": [
    {
     "name": "stdout",
     "output_type": "stream",
     "text": [
      "Reject the Null Hypothesis\n"
     ]
    }
   ],
   "source": [
    "if p_value < 0.05:\n",
    "    print(\"Reject the Null Hypothesis\")\n",
    "else:\n",
    "    print(\"Accept the Null Hypothesis\")"
   ]
  },
  {
   "cell_type": "markdown",
   "id": "5fb31fab",
   "metadata": {},
   "source": [
    "We can conclude that there are statistically significant differences in average daily sales between the three stores."
   ]
  },
  {
   "cell_type": "code",
   "execution_count": 64,
   "id": "d61c6a5a",
   "metadata": {},
   "outputs": [
    {
     "name": "stdout",
     "output_type": "stream",
     "text": [
      " Multiple Comparison of Means - Tukey HSD, FWER=0.05 \n",
      "=====================================================\n",
      "group1 group2 meandiff p-adj   lower    upper  reject\n",
      "-----------------------------------------------------\n",
      "     A      B    -15.0  0.556 -49.5104 19.5104  False\n",
      "     A      C     27.6 0.1428  -6.9104 62.1104  False\n",
      "     B      C     42.6 0.0115   8.0896 77.1104   True\n",
      "-----------------------------------------------------\n"
     ]
    }
   ],
   "source": [
    "\n",
    "posthoc = pairwise_tukeyhsd(df['Sales'], df['Stores'], alpha=0.05)\n",
    "\n",
    "print(posthoc)\n"
   ]
  },
  {
   "cell_type": "code",
   "execution_count": null,
   "id": "30ce1045",
   "metadata": {},
   "outputs": [],
   "source": []
  }
 ],
 "metadata": {
  "kernelspec": {
   "display_name": "Python 3 (ipykernel)",
   "language": "python",
   "name": "python3"
  },
  "language_info": {
   "codemirror_mode": {
    "name": "ipython",
    "version": 3
   },
   "file_extension": ".py",
   "mimetype": "text/x-python",
   "name": "python",
   "nbconvert_exporter": "python",
   "pygments_lexer": "ipython3",
   "version": "3.11.4"
  }
 },
 "nbformat": 4,
 "nbformat_minor": 5
}
