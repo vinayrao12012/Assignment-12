{
 "cells": [
  {
   "cell_type": "markdown",
   "id": "41b4dde8-570b-403f-ad0e-5bb2225ac357",
   "metadata": {},
   "source": [
    "## Q1"
   ]
  },
  {
   "cell_type": "markdown",
   "id": "497418f1-0d0d-47bd-9377-14621816ab15",
   "metadata": {},
   "source": [
    "An API, or Application Programming Interface, is a set of rules, protocols, and tools that allows different software applications to communicate and interact with each other. It defines how different components of software systems should interact, specifying methods and data structures that applications can use to request and exchange information.\n",
    "\n",
    "Example: Suppose I went to Google search and I searched like Engineering (for example) then Engineering as a input will pass to a server then doing optimization it will search  the best method that will pass into and then it will compute the output and it will send as a response to the client  interface. "
   ]
  },
  {
   "cell_type": "markdown",
   "id": "ea1bacec-e9ce-42ab-be51-4cc36c39b0ea",
   "metadata": {},
   "source": [
    "## Q2"
   ]
  },
  {
   "cell_type": "markdown",
   "id": "f7c92ecb-0c40-44f4-82ab-32b2fd2c3a78",
   "metadata": {},
   "source": [
    "Advantage of api:\n",
    "\n",
    "1. Time and Cost Savings: Using APIs can save development time and costs by leveraging existing functionality instead of building everything from scratch.\n",
    "2. Access to Third-Party Services: APIs allow developers to access the capabilities of third-party services without needing to understand their internal implementations.\n",
    "3. Scalability\n",
    "\n",
    "\n",
    "Disadvantage of api:\n",
    "\n",
    "1. Data Privacy: Sharing data with external APIs might raise concerns about data privacy and compliance with regulations.\n",
    "2. Complexity: Integrating multiple APIs and managing their interactions can become complex and require careful planning.\n",
    "3. Costs: Some APIs may have usage-based pricing models that can become costly as your application scales.\n"
   ]
  },
  {
   "cell_type": "markdown",
   "id": "fbbdeeec-854c-40b8-9083-25de93584c26",
   "metadata": {},
   "source": [
    "## Q3"
   ]
  },
  {
   "cell_type": "markdown",
   "id": "9309b2d4-d30d-4059-a1dc-19d34f1925f0",
   "metadata": {},
   "source": [
    "A Web API (Web Application Programming Interface) is a type of API specifically designed to facilitate communication and interaction between different web-based software applications. It enables applications to request and exchange data and functionality over the internet using standardized protocols. Web APIs are typically designed to be accessible over HTTP (Hypertext Transfer Protocol) .\n",
    "\n",
    "Difference between API adn WEBAPI\n",
    "\n",
    "1. Definition: \n",
    "\n",
    "    i)API (Application Programming Interface): An API is a set of rules, protocols, and tools that allow different software components or applications to interact and communicate with each other. APIs can exist in various forms, such as libraries, functions, classes, and protocols.\n",
    "    \n",
    "    ii)Web API (Web Application Programming Interface): A Web API is a specific type of API that is accessible over the web, allowing applications to exchange data and services using HTTP protocols.\n",
    "\n",
    "2 . Communication Medium: \n",
    "\n",
    "    i) API: APIs can be used for communication between software components within the same system or between different systems, regardless of whether they are web-based or not.\n",
    "    \n",
    "    ii)Web API: Web APIs are specifically designed for communication between web-based applications over the internet.\n",
    "    \n",
    "    \n",
    "3. Accessibilty: \n",
    "\n",
    "     i)API: APIs can be local (used within a single application) or remote (used across different applications or systems).\n",
    "     \n",
    "     ii)Web API: Web APIs are always remote APIs, accessed over a network, typically the internet.\n"
   ]
  },
  {
   "cell_type": "markdown",
   "id": "0d1cfa62-8d73-4dba-8c34-e9043f0d55b2",
   "metadata": {},
   "source": [
    "## Q4"
   ]
  },
  {
   "cell_type": "markdown",
   "id": "57fbdd2c-f356-4396-b132-2297e1773e0a",
   "metadata": {},
   "source": [
    "REST is an architectural style and set of constraints used to design networked applications. It is commonly used for creating web services that communicate over HTTP. REST focuses on simplicity, scalability, and the concept of resources. \n",
    "\n",
    "SOAP is a protocol for exchanging structured information in the implementation of web services. It is more rigid and heavyweight compared to REST. SOAP messages are XML-based and can be transported using various protocols, including HTTP, SMTP, and more. \n",
    "\n",
    "Shortcomings of SOAP:\n",
    "\n",
    "1. Complexity: SOAP messages are often larger and more complex due to their XML structure, which can lead to increased overhead and slower communication compared to REST.\n",
    "\n",
    "2. Ease of Use: Building and parsing SOAP messages can be more complex and time-consuming compared to REST, which has a more straightforward data exchange format.\n"
   ]
  },
  {
   "cell_type": "markdown",
   "id": "2bf89721-287f-44d5-bb40-3bf4607a0b45",
   "metadata": {},
   "source": [
    "## Q5"
   ]
  },
  {
   "cell_type": "markdown",
   "id": "cd1c6076-f623-48e3-9944-69a014c58883",
   "metadata": {},
   "source": [
    "1. Communication style:\n",
    "    \n",
    "    REST: Uses a stateless client-server communication model, meaning each request from the client to the server must contain all necessary information. It uses standard HTTP methods (GET, POST, PUT, DELETE) to perform operations on resources.\n",
    "    \n",
    "    SOAP: Uses a more complex request-response model, involving XML-based messages. It can be transported using various protocols, not limited to HTTP.\n",
    "    \n",
    "    \n",
    "2. Data Format:\n",
    "    \n",
    "    REST: Typically uses lightweight data formats like JSON, which are easy to read and parse. However, it can also work with XML or other formats.\n",
    "    \n",
    "    SOAP: Uses XML for message formatting, which can be more structured and formal but also more verbose and complex.\n"
   ]
  },
  {
   "cell_type": "code",
   "execution_count": null,
   "id": "19b489c3-7a30-4927-b8c1-d1db0a931de1",
   "metadata": {},
   "outputs": [],
   "source": []
  }
 ],
 "metadata": {
  "kernelspec": {
   "display_name": "Python 3 (ipykernel)",
   "language": "python",
   "name": "python3"
  },
  "language_info": {
   "codemirror_mode": {
    "name": "ipython",
    "version": 3
   },
   "file_extension": ".py",
   "mimetype": "text/x-python",
   "name": "python",
   "nbconvert_exporter": "python",
   "pygments_lexer": "ipython3",
   "version": "3.10.8"
  }
 },
 "nbformat": 4,
 "nbformat_minor": 5
}
