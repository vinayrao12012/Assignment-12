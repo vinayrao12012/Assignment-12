{
 "cells": [
  {
   "cell_type": "markdown",
   "id": "2f4e9a50",
   "metadata": {},
   "source": [
    "## Q1"
   ]
  },
  {
   "cell_type": "markdown",
   "id": "35c569cb",
   "metadata": {},
   "source": [
    "1. Z Test\n",
    "\n",
    "    1. Population Parameters: Z-tests are used when you know the population standard deviation (σ) and want to test a hypothesis about the population mean (μ).\n",
    "    2. Sample Size: Z-tests are typically more appropriate with larger sample sizes (usually n > 30). However, they can also be used with smaller sample sizes if the data is approximately normally distributed and the population standard deviation is known.\n",
    "    \n",
    "    3. Scenario : Suppose the average heights of all residents in a city is 168 cm (population mean) with a standard deviation of 3.9 (population std dev) . A doctor believes the mean to be different . He measured the height of 36 individuals and found the average height to be 169.5 cm . In this case, you would use a Z-test to analyze the data.\n",
    "    \n",
    "    \n",
    "2. T Test\n",
    "\n",
    "    1. Population Parameters: T-tests are used when you don't know the population standard deviation (σ) and want to test a hypothesis about the population mean (μ).\n",
    "    2. Sample Size: T-tests are more robust when dealing with smaller sample sizes (typically n < 30). They are also appropriate for larger samples.\n",
    "    3. Scenario : Scenario: Suppose you want to test if a new medication has a different effect on blood pressure compared to a placebo. You randomly select 15 patients and measure their blood pressure before and after treatment. Since you don't know the population standard deviation of blood pressure changes, and your sample size is relatively small (n = 15), you would use a paired-sample t-test to analyze the data."
   ]
  },
  {
   "cell_type": "markdown",
   "id": "194d45b7",
   "metadata": {},
   "source": [
    "## Q2"
   ]
  },
  {
   "cell_type": "markdown",
   "id": "7eb8abae",
   "metadata": {},
   "source": [
    "One Tailed Test\n",
    "\n",
    "1. Alternative Hypothesis: In a one-tailed test, the alternative hypothesis (denoted as Ha) specifies the direction of the effect. For example:\n",
    "\n",
    "    1. Greater Than: Ha: μ > μ0 (Sample mean is greater than the population mean)\n",
    "    2. Less Than: Ha: μ < μ0 (Sample mean is less than the population mean)\n",
    "    \n",
    "2. Critical Region: The critical region, where you compare your test statistic to a critical value, is located in one tail of the distribution. The alpha (α) level is usually split entirely in that one tail.\n",
    "\n",
    "\n",
    "Two Tailed Test\n",
    "\n",
    "1. Alternative Hypothesis: In a two-tailed test, the alternative hypothesis (Ha) typically specifies that there is a significant difference between the sample statistic and the population parameter, regardless of the direction of the difference. For example:\n",
    "\n",
    "    1. Two-Sided: Ha: μ ≠ μ0 (Sample mean is not equal to the population mean)\n",
    "    \n",
    "2. Critical Region: The critical region is divided into two tails of the distribution, with each tail typically containing half of the alpha (α) level. You compare your test statistic to the critical values in both tails.    "
   ]
  },
  {
   "cell_type": "markdown",
   "id": "8406971e",
   "metadata": {},
   "source": [
    "## Q3"
   ]
  },
  {
   "cell_type": "markdown",
   "id": "e2620872",
   "metadata": {},
   "source": [
    "Type 1 Error : We reject the Null Hypothesis when in reality it is true.\n",
    "\n",
    "    1. Example :  Imagine a medical test for a rare disease where the null hypothesis (H0) is that the patient does not have the disease. A Type I error in this context would mean telling a healthy patient that they have the disease, leading to unnecessary stress, treatments, and costs, even though they are actually disease-free.\n",
    "    \n",
    "Type 2 Error : We retain the / accept the Null Hypothesis when in reality it is False.\n",
    "\n",
    "    1. Example : Consider a quality control scenario where the null hypothesis (H0) is that a manufacturing process is producing defective items at an acceptable rate. A Type II error in this context would mean failing to detect that the process is, in fact, producing an unacceptably high number of defective items, which could lead to the release of faulty products into the market."
   ]
  },
  {
   "cell_type": "markdown",
   "id": "b22f1238",
   "metadata": {},
   "source": [
    "## Q4"
   ]
  },
  {
   "cell_type": "markdown",
   "id": "024c5c78",
   "metadata": {},
   "source": [
    "In probability theory and statistics, Bayes' theorem, named after Thomas Bayes, describes the probability of an event, based on prior knowledge of conditions that might be related to the event.\n",
    "\n",
    "Bayes's theorem is commonly used in spam email filtering algorithms.\n",
    "\n",
    "    1. P(Spam∣Word): Probability that an email is spam given the presence of a specific word."
   ]
  },
  {
   "cell_type": "markdown",
   "id": "2ed9e736",
   "metadata": {},
   "source": [
    "## Q5"
   ]
  },
  {
   "cell_type": "markdown",
   "id": "76589f04",
   "metadata": {},
   "source": [
    "A confidence interval is a range of values, derived from a sample of data, that is used to estimate an unknown population parameter with a certain degree of confidence.\n",
    "\n",
    "Confidence Interval = Point Estimate ± Margin of Error\n",
    "\n",
    "Example for Confidence Interval\n",
    "\n",
    "Suppose you want to estimate the average height of adult males in a particular city. You collect a random sample of 100 adult males from that city and measure their heights. Let's assume the sample mean height is 175 cm, and you want to calculate a 95% confidence interval for the population mean height."
   ]
  },
  {
   "cell_type": "markdown",
   "id": "fcca0c80",
   "metadata": {},
   "source": [
    "## Q6"
   ]
  },
  {
   "cell_type": "markdown",
   "id": "7ef54c8c",
   "metadata": {},
   "source": [
    "Sample Problem: Coin Toss\n",
    "\n",
    "Imagine you have two coins in a bag: Coin A and Coin B. Coin A is fair, and Coin B is biased to land on heads 70% of the time. You choose one coin at random and toss it. The coin lands on heads. What is the probability that you picked Coin B?\n",
    "\n",
    "Solution:\n",
    "\n",
    "Let's define our events:\n",
    "\n",
    "1. Event A: You picked Coin A.\n",
    "2. Event B: You picked Coin B.\n",
    "3. Event H: The coin landed on heads.\n",
    "\n",
    "\n",
    "We want to calculate P(B∣H), which is the probability that you picked Coin B given that the coin landed on heads. We can use Bayes' Theorem to calculate this:\n",
    "\n",
    "P(B | H ) = (P(H|B) * P(B)) / P(H)\n",
    "\n",
    "P(H∣B) is the probability of getting heads when using Coin B, which is 0.70.\n",
    "P(B) is the prior probability of choosing Coin B, which is 0.5 since you randomly selected one of the two coins.\n",
    "\n",
    "P(H) is the total probability of getting heads, which is a weighted average of getting heads using Coin A and Coin B, taking into account their probabilities of being chosen:\n",
    "\n",
    "P(H)=P(H∣A)⋅P(A)+P(H∣B)⋅P(B)\n",
    "\n",
    "P(H∣A) is the probability of getting heads when using Coin A, which is 0.50 since Coin A is fair.\n",
    "\n",
    "Now we can calculate \n",
    "\n",
    "P(H)=(0.50⋅0.5)+(0.70⋅0.5)=0.60\n",
    "\n",
    "Now, we can use Bayes' Theorem to calculate P(B∣H):\n",
    "\n",
    "P(B∣H) = 0.70⋅0.5 / 0.60 = 0.5833\n",
    "\n",
    "So, given that the coin landed on heads, the probability that you picked Coin B is approximately 0.5833 or 58.33%."
   ]
  },
  {
   "cell_type": "markdown",
   "id": "1f992546",
   "metadata": {},
   "source": [
    "## Q7"
   ]
  },
  {
   "cell_type": "markdown",
   "id": "a34c403a",
   "metadata": {},
   "source": [
    "To calculate the 95% confidence interval for a sample of data with a mean of 50 and a standard deviation of 5, you can use the formula for a confidence interval for a population mean when the population standard deviation is known. The formula is:\n",
    "\n",
    "CI = sample mean +- margin of error\n",
    "CI = sample mean +- ((Z-score * standard deviation)) / sqrt(sample size)\n",
    "\n",
    "In this case, for a 95% confidence interval, the critical Z-Score is 1.96 (assuming a standard normal distribution). The standard deviation is 5, and if you don't have a specific sample size mentioned, we'll assume a reasonably large sample size (n > 30) for the sake of this calculation.\n",
    "\n",
    "Confidence Interval=50±((1.96× 5)) / sqrt(100)\n",
    "\n",
    "The sample mean (point estimate) is 50.\n",
    "The critical value (1.96) corresponds to the 95% confidence level for a two-tailed test.\n",
    "The standard deviation of the population is 5.\n",
    "we have specified the sample size to be 100\n",
    "\n",
    "If you calculate the margin of error using the formula above, you can provide a specific numerical range for the confidence interval. This range will give you a 95% level of confidence that the true population mean falls within it.\n",
    "\n",
    "So, the 95% confidence interval would be:\n",
    "\n",
    "50±0.98\n",
    "\n",
    "This means you can be 95% confident that the true population mean falls within the range of approximately 49.02 to 50.98 based on your sample data. In other words, you're reasonably sure that the population mean is somewhere within this interval."
   ]
  },
  {
   "cell_type": "markdown",
   "id": "5cefc86a",
   "metadata": {},
   "source": [
    "## Q8"
   ]
  },
  {
   "cell_type": "markdown",
   "id": "d9a0c874",
   "metadata": {},
   "source": [
    "The margin of error (MOE) in a confidence interval is a measure of the precision or uncertainty associated with estimating a population parameter (e.g., mean or proportion) from a sample. It quantifies the range around a point estimate (e.g., sample mean) within which you can reasonably expect the true population parameter to fall with a certain level of confidence.\n",
    "\n",
    "Inversed Relationship : The margin of error and sample size have an inverse relationship. As the sample size increases, the margin of error decreases.\n",
    "\n",
    "Increased Precision: A larger sample size provides more information about the population, which leads to a more precise estimate of the population parameter. This increased precision is reflected in a smaller margin of error.\n",
    "\n",
    "Scenario: Customer Satisfaction Survey\n",
    "\n",
    "Suppose a company conducts a customer satisfaction survey to estimate the average satisfaction rating (on a scale of 1 to 10) of its customers. Initially, they survey 100 randomly selected customers and calculate a 95% confidence interval for the mean satisfaction rating.\n",
    "\n",
    "Sample Size (Initial): 100\n",
    "Margin of Error (Initial): 0.98 (hypothetical value)\n",
    "Confidence Interval (Initial): 7.02 to 8.02 (hypothetical values)\n",
    "\n",
    "Now, the company decides to improve the precision of their estimate by increasing the sample size to 400 customers for the next survey.\n",
    "\n",
    "Sample Size (Increased): 400\n",
    "Margin of Error (Increased): 0.49 (smaller than the initial MOE)\n",
    "Confidence Interval (Increased): 7.51 to 8.01 (narrower than the initial CI)\n",
    "\n",
    "\n",
    "In this scenario, the larger sample size (400) results in a smaller margin of error (0.49), which means the company is more confident about the range (7.51 to 8.01) within which the true average satisfaction rating falls. This increased precision is valuable for making more informed decisions based on customer feedback."
   ]
  },
  {
   "cell_type": "markdown",
   "id": "4896812e",
   "metadata": {},
   "source": [
    "## Q9"
   ]
  },
  {
   "cell_type": "markdown",
   "id": "4064c1dd",
   "metadata": {},
   "source": [
    "The z-score (also called the standard score) measures how many standard deviations a data point is away from the mean in a normal distribution. It is calculated using the formula:\n",
    "\n",
    "Z-score = (X - U) / standard deviation\n",
    "\n",
    "X = Data point\n",
    "U = population mean\n",
    "\n",
    "Z-score = (75-70) / 5\n",
    "Z-score = 1\n",
    "\n",
    "A z-score of 1 indicates that the data point (75) is one standard deviation above the mean (70) in the population. In a standard normal distribution (where the mean is 0 and the standard deviation is 1), a z-score of 1 corresponds to being one standard deviation above the mean."
   ]
  },
  {
   "cell_type": "markdown",
   "id": "a4fdb163",
   "metadata": {},
   "source": [
    "## Q10"
   ]
  },
  {
   "cell_type": "markdown",
   "id": "1abf9454",
   "metadata": {},
   "source": [
    "To determine if the new weight loss drug is significantly effective, you can conduct a hypothesis test using a t-test. In this case, you'll perform a one-sample t-test because you are comparing the sample mean to a known value (in this case, testing if the drug's effect is significantly different from zero).\n",
    "\n",
    "Step 1: Define the Null Hypothesis (H0) and Alternative Hypothesis (Ha):\n",
    "\n",
    "1. Null Hypothesis (H0): The new weight loss drug has no significant effect, and the population mean weight loss (\n",
    "μ) is equal to zero pounds. Mathematically, H0: μ=0.\n",
    "\n",
    "2. Alternative Hypothesis (Ha): The new weight loss drug is significantly effective, and the population mean weight loss (μ) is not equal to zero pounds. Mathematically, Ha: μ != 0.\n",
    "\n",
    "Step 2: Choose the Significance Level (α):\n",
    "\n",
    "significance Level : α = 0.05\n",
    "\n",
    "Step 3: Collect and Analyze Data:\n",
    "\n",
    "You have the following data:\n",
    "\n",
    "Sample Size (n): 50 participants\n",
    "Sample Mean : 6 pounds\n",
    "Sample Standard Deviation (s): 2.5 pounds\n",
    "\n",
    "Step 4: Calculate the Test Statistic:\n",
    "\n",
    "Step 5: Determine the Critical Value:\n",
    "\n",
    "Since it's a two-tailed test (we want to know if the drug is significantly effective in either direction), you'll need to find the critical t-values for a 95% confidence level with 49 degrees of freedom (50 - 1). You can use a t-table or a calculator to find these values. For a 95% confidence level and a two-tailed test, you'll typically find critical values around ±2.0096.\n",
    "\n",
    "Step 6: Make a Decision:\n",
    "\n",
    "If the absolute value of the calculated t statistic is greater than the critical value, reject the null hypothesis (H0).\n",
    "If the absolute value of the calculated t statistic is less than or equal to the critical value, fail to reject the null hypothesis (H0).\n",
    "\n",
    "Step 7: Draw a Conclusion:\n",
    "\n",
    "Compare the calculated t statistic to the critical value and make a conclusion based on the decision made in Step 6.\n",
    "\n",
    "My test statistics is 16.972 which is more than the critical value \n",
    "16.972 > 2.0096\n",
    "\n",
    "Reject the Null Hypothesis. It simply means the drug is significantly effective"
   ]
  },
  {
   "cell_type": "markdown",
   "id": "f9a10748",
   "metadata": {},
   "source": [
    "## Q11"
   ]
  },
  {
   "cell_type": "markdown",
   "id": "be7deaa0",
   "metadata": {},
   "source": [
    "To calculate the 95% confidence interval for the true proportion of people who are satisfied with their job, you can use the formula for the confidence interval for a population proportion. The formula for a confidence interval for a proportion is:\n",
    "\n",
    "CI = P^ +- Z * sqrt((P^(1-P^)) / n)\n",
    "\n",
    "1. P^ is the sample proportion which is 0.65 or 65%\n",
    "2. Z is the critical Z-score for the desired confidence level (95% confidence corresponds to 1.96\n",
    "Z=1.96 for a two-tailed test).\n",
    "3. n is the sample size (in this case, 500).\n",
    "\n",
    "Confidence Interval=0.65±(1.96×0.0391)\n",
    "\n",
    "Confidence Interval=0.65±0.0766\n",
    "\n",
    "So, the 95% confidence interval for the true proportion of people who are satisfied with their job is approximately:\n",
    "\n",
    "0.5734≤True Proportion≤0.7266\n",
    "\n",
    "This means that we are 95% confident that the true proportion of people satisfied with their job falls within this range, which is 57.34% to 72.66%."
   ]
  },
  {
   "cell_type": "markdown",
   "id": "8a0ead95",
   "metadata": {},
   "source": [
    "## Q12"
   ]
  },
  {
   "cell_type": "markdown",
   "id": "f70e6262",
   "metadata": {},
   "source": [
    "Step 1: Define the Null Hypothesis (H0) and Alternative Hypothesis (Ha):\n",
    "\n",
    "Null Hypothesis (H0): There is no significant difference in student performance between the two teaching methods. Mathematically, H0: μA - μB = 0.\n",
    "Alternative Hypothesis (Ha): There is a significant difference in student performance between the two teaching methods. Mathematically, Ha: μA - μB ≠ 0.\n",
    "\n",
    "\n",
    "Step 2: Choose the Significance Level (α):\n",
    "\n",
    "Given a significance level of 0.01, α = 0.01.\n",
    "\n",
    "Step 3: Collect and Analyze Data:\n",
    "\n",
    "For both samples:\n",
    "\n",
    "Sample A :\n",
    "1. sample mean = 85\n",
    "2. sample std = 6\n",
    "3. sample size = 50\n",
    "\n",
    "Sample B:\n",
    "1. sample mean = 82\n",
    "2. sample std = 5\n",
    "3. sample size = 50\n",
    "\n",
    "Step 4: Calculate the Test Statistic (t-statistic):\n",
    "\n",
    "So, the test statistic for the two-sample t-test is approximately 2.43.\n",
    "\n",
    "Step 5: Determine the Critical Value:\n",
    "\n",
    "you can find the critical t-values using a t-table or calculator. For a 99% confidence level, you'll typically find critical t-values around ±2.626.\n",
    "\n",
    "Step 6: Make a Decision:\n",
    "\n",
    "Compare the calculated t-statistic to the critical t-value. If the absolute value of the calculated t-statistic is greater than the critical t-value, reject the null hypothesis (H0). Otherwise, fail to reject the null hypothesis.\n",
    "\n",
    "Step 7: Draw a Conclusion:\n",
    "\n",
    "We accept the null hypothesis \n",
    "It simply says that there is no significant difference in student performance between the two teaching methods"
   ]
  },
  {
   "cell_type": "markdown",
   "id": "19be4c45",
   "metadata": {},
   "source": [
    "## Q13"
   ]
  },
  {
   "cell_type": "markdown",
   "id": "bc77ae84",
   "metadata": {},
   "source": [
    "To calculate the 90% confidence interval for the true population mean when you have a sample mean, population standard deviation, and sample size, you can use the formula for the confidence interval for a population mean. The formula is:\n",
    "\n",
    "CI = sample mean +- ((Z * std)) / sqrt(n)\n",
    "\n",
    "Z is the critical value for the 90% confidence interval\n",
    "std is the standard deviation\n",
    "n is the sample size\n",
    "\n",
    "Now, let's calculate the confidence interval:\n",
    "\n",
    "\n",
    "Confidence Interval=65±1.645 * 1.1305\n",
    "\n",
    "Confidence Interval=65±1.8618\n",
    "\n",
    "So, the 90% confidence interval for the true population mean is approximately:\n",
    "\n",
    "63.1382 ≤ True Population Mean ≤ 66.8618\n",
    "\n",
    "This means that we are 90% confident that the true population mean falls within this interval, which is 63.1382 to 66.8618."
   ]
  },
  {
   "cell_type": "markdown",
   "id": "bdd17028",
   "metadata": {},
   "source": [
    "## Q14"
   ]
  },
  {
   "cell_type": "markdown",
   "id": "c185ea42",
   "metadata": {},
   "source": [
    "Step 1: Define the Null Hypothesis (H0) and Alternative Hypothesis (Ha):\n",
    "\n",
    "Null Hypothesis (H0): Caffeine has no significant effect on reaction time, and the population mean reaction time (μ) is equal to a known value (e.g., 0.25 seconds). Mathematically, H0: 0.25\n",
    "μ=0.25 seconds.\n",
    "Alternative Hypothesis (Ha): Caffeine has a significant effect on reaction time, and the population mean reaction time (\n",
    "μ) is not equal to 0.25 seconds. Mathematically, Ha: 0.25 seconds.\n",
    "\n",
    "\n",
    "Step 2: Choose the Significance Level (α):\n",
    "\n",
    "You mentioned a 90% confidence level, which corresponds to a significance level of α=0.10.\n",
    "\n",
    "Step 3: Collect and Analyze Data:\n",
    "\n",
    "You have the following data:\n",
    "\n",
    "Sample Size (n): 30 participants\n",
    "Sample Mean : 0.25 seconds\n",
    "Sample Standard Deviation (s): 0.05 seconds\n",
    "\n",
    "Step 4: Calculate the Test Statistic:\n",
    "So, the t-statistic for the one-sample t-test is approximately -27.47.\n",
    "\n",
    "Step 5: Determine the Critical Value:\n",
    "\n",
    "Since it's a two-tailed test (we want to know if caffeine has a significant effect in either direction), you'll need to find the critical t-value for a 90% confidence level with 29 degrees of freedom (n−1). You can use a t-table or calculator to find this critical t-value. critical value = 1.699\n",
    "\n",
    "Step 6: Make a Decision:\n",
    "\n",
    "Compare the calculated t statistic to the critical t-value. If the absolute value of the calculated t statistic is greater than the critical t-value, reject the null hypothesis (H0). Otherwise, fail to reject the null hypothesis.\n",
    "\n",
    "step 7: Conclusion:\n",
    "\n",
    "t_statistic > critical value\n",
    "Reject the Null Hypothesis\n",
    "\n",
    "It simply says Caffeine has a significant effect on reaction time, and the population mean reaction time."
   ]
  },
  {
   "cell_type": "markdown",
   "id": "1b8a829c",
   "metadata": {},
   "source": []
  }
 ],
 "metadata": {
  "kernelspec": {
   "display_name": "Python 3 (ipykernel)",
   "language": "python",
   "name": "python3"
  },
  "language_info": {
   "codemirror_mode": {
    "name": "ipython",
    "version": 3
   },
   "file_extension": ".py",
   "mimetype": "text/x-python",
   "name": "python",
   "nbconvert_exporter": "python",
   "pygments_lexer": "ipython3",
   "version": "3.11.4"
  }
 },
 "nbformat": 4,
 "nbformat_minor": 5
}
