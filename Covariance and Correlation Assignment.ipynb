{
 "cells": [
  {
   "cell_type": "markdown",
   "id": "d76b8890",
   "metadata": {},
   "source": [
    "## Q1"
   ]
  },
  {
   "cell_type": "code",
   "execution_count": 2,
   "id": "ec1cc904",
   "metadata": {},
   "outputs": [
    {
     "data": {
      "text/html": [
       "<div>\n",
       "<style scoped>\n",
       "    .dataframe tbody tr th:only-of-type {\n",
       "        vertical-align: middle;\n",
       "    }\n",
       "\n",
       "    .dataframe tbody tr th {\n",
       "        vertical-align: top;\n",
       "    }\n",
       "\n",
       "    .dataframe thead th {\n",
       "        text-align: right;\n",
       "    }\n",
       "</style>\n",
       "<table border=\"1\" class=\"dataframe\">\n",
       "  <thead>\n",
       "    <tr style=\"text-align: right;\">\n",
       "      <th></th>\n",
       "      <th>study_time</th>\n",
       "      <th>exam_scores</th>\n",
       "    </tr>\n",
       "  </thead>\n",
       "  <tbody>\n",
       "    <tr>\n",
       "      <th>0</th>\n",
       "      <td>10</td>\n",
       "      <td>70</td>\n",
       "    </tr>\n",
       "    <tr>\n",
       "      <th>1</th>\n",
       "      <td>15</td>\n",
       "      <td>75</td>\n",
       "    </tr>\n",
       "    <tr>\n",
       "      <th>2</th>\n",
       "      <td>20</td>\n",
       "      <td>85</td>\n",
       "    </tr>\n",
       "    <tr>\n",
       "      <th>3</th>\n",
       "      <td>25</td>\n",
       "      <td>90</td>\n",
       "    </tr>\n",
       "    <tr>\n",
       "      <th>4</th>\n",
       "      <td>30</td>\n",
       "      <td>95</td>\n",
       "    </tr>\n",
       "  </tbody>\n",
       "</table>\n",
       "</div>"
      ],
      "text/plain": [
       "   study_time  exam_scores\n",
       "0          10           70\n",
       "1          15           75\n",
       "2          20           85\n",
       "3          25           90\n",
       "4          30           95"
      ]
     },
     "execution_count": 2,
     "metadata": {},
     "output_type": "execute_result"
    }
   ],
   "source": [
    "import pandas as pd\n",
    "df = pd.DataFrame({\n",
    "    \"study_time\" : [10, 15, 20, 25, 30] ,\n",
    "    \"exam_scores\" : [70, 75, 85, 90, 95] \n",
    "})\n",
    "df"
   ]
  },
  {
   "cell_type": "code",
   "execution_count": 5,
   "id": "7a54e7b9",
   "metadata": {},
   "outputs": [
    {
     "data": {
      "text/html": [
       "<div>\n",
       "<style scoped>\n",
       "    .dataframe tbody tr th:only-of-type {\n",
       "        vertical-align: middle;\n",
       "    }\n",
       "\n",
       "    .dataframe tbody tr th {\n",
       "        vertical-align: top;\n",
       "    }\n",
       "\n",
       "    .dataframe thead th {\n",
       "        text-align: right;\n",
       "    }\n",
       "</style>\n",
       "<table border=\"1\" class=\"dataframe\">\n",
       "  <thead>\n",
       "    <tr style=\"text-align: right;\">\n",
       "      <th></th>\n",
       "      <th>study_time</th>\n",
       "      <th>exam_scores</th>\n",
       "    </tr>\n",
       "  </thead>\n",
       "  <tbody>\n",
       "    <tr>\n",
       "      <th>study_time</th>\n",
       "      <td>1.000000</td>\n",
       "      <td>0.991241</td>\n",
       "    </tr>\n",
       "    <tr>\n",
       "      <th>exam_scores</th>\n",
       "      <td>0.991241</td>\n",
       "      <td>1.000000</td>\n",
       "    </tr>\n",
       "  </tbody>\n",
       "</table>\n",
       "</div>"
      ],
      "text/plain": [
       "             study_time  exam_scores\n",
       "study_time     1.000000     0.991241\n",
       "exam_scores    0.991241     1.000000"
      ]
     },
     "execution_count": 5,
     "metadata": {},
     "output_type": "execute_result"
    }
   ],
   "source": [
    "cov_matrix = df[[\"study_time\",\"exam_scores\"]].corr(method=\"pearson\")\n",
    "cov_matrix"
   ]
  },
  {
   "cell_type": "markdown",
   "id": "ae9581bb",
   "metadata": {},
   "source": [
    "If the Pearson correlation coefficient is positive, it suggests that there is a positive linear relationship between study time and exam scores. In other words, as students spend more time studying, their exam scores tend to increase."
   ]
  },
  {
   "cell_type": "markdown",
   "id": "8a2081d5",
   "metadata": {},
   "source": [
    "## Q2"
   ]
  },
  {
   "cell_type": "code",
   "execution_count": 7,
   "id": "715cd4a0",
   "metadata": {},
   "outputs": [
    {
     "data": {
      "text/html": [
       "<div>\n",
       "<style scoped>\n",
       "    .dataframe tbody tr th:only-of-type {\n",
       "        vertical-align: middle;\n",
       "    }\n",
       "\n",
       "    .dataframe tbody tr th {\n",
       "        vertical-align: top;\n",
       "    }\n",
       "\n",
       "    .dataframe thead th {\n",
       "        text-align: right;\n",
       "    }\n",
       "</style>\n",
       "<table border=\"1\" class=\"dataframe\">\n",
       "  <thead>\n",
       "    <tr style=\"text-align: right;\">\n",
       "      <th></th>\n",
       "      <th>sleep_hours</th>\n",
       "      <th>job_satisfaction</th>\n",
       "    </tr>\n",
       "  </thead>\n",
       "  <tbody>\n",
       "    <tr>\n",
       "      <th>0</th>\n",
       "      <td>6</td>\n",
       "      <td>4</td>\n",
       "    </tr>\n",
       "    <tr>\n",
       "      <th>1</th>\n",
       "      <td>7</td>\n",
       "      <td>6</td>\n",
       "    </tr>\n",
       "    <tr>\n",
       "      <th>2</th>\n",
       "      <td>5</td>\n",
       "      <td>3</td>\n",
       "    </tr>\n",
       "    <tr>\n",
       "      <th>3</th>\n",
       "      <td>8</td>\n",
       "      <td>8</td>\n",
       "    </tr>\n",
       "    <tr>\n",
       "      <th>4</th>\n",
       "      <td>7</td>\n",
       "      <td>7</td>\n",
       "    </tr>\n",
       "  </tbody>\n",
       "</table>\n",
       "</div>"
      ],
      "text/plain": [
       "   sleep_hours  job_satisfaction\n",
       "0            6                 4\n",
       "1            7                 6\n",
       "2            5                 3\n",
       "3            8                 8\n",
       "4            7                 7"
      ]
     },
     "execution_count": 7,
     "metadata": {},
     "output_type": "execute_result"
    }
   ],
   "source": [
    "df2 = pd.DataFrame({\n",
    "    \"sleep_hours\" : [6, 7, 5, 8, 7],\n",
    "    \"job_satisfaction\" : [4, 6, 3, 8, 7]\n",
    "    \n",
    "})\n",
    "df2"
   ]
  },
  {
   "cell_type": "code",
   "execution_count": 10,
   "id": "68b841b7",
   "metadata": {},
   "outputs": [
    {
     "data": {
      "text/html": [
       "<div>\n",
       "<style scoped>\n",
       "    .dataframe tbody tr th:only-of-type {\n",
       "        vertical-align: middle;\n",
       "    }\n",
       "\n",
       "    .dataframe tbody tr th {\n",
       "        vertical-align: top;\n",
       "    }\n",
       "\n",
       "    .dataframe thead th {\n",
       "        text-align: right;\n",
       "    }\n",
       "</style>\n",
       "<table border=\"1\" class=\"dataframe\">\n",
       "  <thead>\n",
       "    <tr style=\"text-align: right;\">\n",
       "      <th></th>\n",
       "      <th>sleep_hours</th>\n",
       "      <th>job_satisfaction</th>\n",
       "    </tr>\n",
       "  </thead>\n",
       "  <tbody>\n",
       "    <tr>\n",
       "      <th>sleep_hours</th>\n",
       "      <td>1.000000</td>\n",
       "      <td>0.974679</td>\n",
       "    </tr>\n",
       "    <tr>\n",
       "      <th>job_satisfaction</th>\n",
       "      <td>0.974679</td>\n",
       "      <td>1.000000</td>\n",
       "    </tr>\n",
       "  </tbody>\n",
       "</table>\n",
       "</div>"
      ],
      "text/plain": [
       "                  sleep_hours  job_satisfaction\n",
       "sleep_hours          1.000000          0.974679\n",
       "job_satisfaction     0.974679          1.000000"
      ]
     },
     "execution_count": 10,
     "metadata": {},
     "output_type": "execute_result"
    }
   ],
   "source": [
    "corr_spearman = df2[[\"sleep_hours\",\"job_satisfaction\"]].corr(method=\"spearman\")\n",
    "corr_spearman"
   ]
  },
  {
   "cell_type": "markdown",
   "id": "2a939e0e",
   "metadata": {},
   "source": [
    "If Spearman's rank correlation coefficient (ρ) is positive , it suggests that there is a positive monotonic relationship between the amount of sleep and job satisfaction. In other words, as individuals get more sleep, their job satisfaction tends to be higher.In this case who has good sleep hours they are mostly satisfied with their jobs."
   ]
  },
  {
   "cell_type": "markdown",
   "id": "33167b80",
   "metadata": {},
   "source": [
    "## Q3"
   ]
  },
  {
   "cell_type": "code",
   "execution_count": 12,
   "id": "3e1bd406",
   "metadata": {},
   "outputs": [
    {
     "data": {
      "text/html": [
       "<div>\n",
       "<style scoped>\n",
       "    .dataframe tbody tr th:only-of-type {\n",
       "        vertical-align: middle;\n",
       "    }\n",
       "\n",
       "    .dataframe tbody tr th {\n",
       "        vertical-align: top;\n",
       "    }\n",
       "\n",
       "    .dataframe thead th {\n",
       "        text-align: right;\n",
       "    }\n",
       "</style>\n",
       "<table border=\"1\" class=\"dataframe\">\n",
       "  <thead>\n",
       "    <tr style=\"text-align: right;\">\n",
       "      <th></th>\n",
       "      <th>exercise_hours</th>\n",
       "      <th>bmi</th>\n",
       "    </tr>\n",
       "  </thead>\n",
       "  <tbody>\n",
       "    <tr>\n",
       "      <th>0</th>\n",
       "      <td>3</td>\n",
       "      <td>25</td>\n",
       "    </tr>\n",
       "    <tr>\n",
       "      <th>1</th>\n",
       "      <td>5</td>\n",
       "      <td>26</td>\n",
       "    </tr>\n",
       "    <tr>\n",
       "      <th>2</th>\n",
       "      <td>2</td>\n",
       "      <td>28</td>\n",
       "    </tr>\n",
       "    <tr>\n",
       "      <th>3</th>\n",
       "      <td>4</td>\n",
       "      <td>24</td>\n",
       "    </tr>\n",
       "    <tr>\n",
       "      <th>4</th>\n",
       "      <td>6</td>\n",
       "      <td>27</td>\n",
       "    </tr>\n",
       "  </tbody>\n",
       "</table>\n",
       "</div>"
      ],
      "text/plain": [
       "   exercise_hours  bmi\n",
       "0               3   25\n",
       "1               5   26\n",
       "2               2   28\n",
       "3               4   24\n",
       "4               6   27"
      ]
     },
     "execution_count": 12,
     "metadata": {},
     "output_type": "execute_result"
    }
   ],
   "source": [
    "df3 = pd.DataFrame({\n",
    "    \"exercise_hours\" : [3, 5, 2, 4, 6, 1, 7, 2, 5, 3, 4, 2, 6, 1, 5, 3, 4, 2, 6, 1, 7, 3, 4, 5, 2, 6, 1, 4, 3, 5,\n",
    "                 2, 6, 1, 7, 2, 5, 3, 4, 2, 6, 1, 3, 4, 5, 2, 6, 1, 7],\n",
    "    \n",
    "    \"bmi\" : [25, 26, 28, 24, 27, 29, 23, 30, 26, 25, 24, 28, 22, 29, 26, 25, 27, 30, 28, 29, 23, 25, 26, 24, 27, 22, 30,\n",
    "       29, 28, 25, 26, 27, 22, 23, 24, 25, 26, 29, 30, 28, 27, 26, 25, 22, 23, 24, 30, 29]\n",
    "})\n",
    "df3.head()"
   ]
  },
  {
   "cell_type": "code",
   "execution_count": 14,
   "id": "f5148f2f",
   "metadata": {},
   "outputs": [
    {
     "data": {
      "text/html": [
       "<div>\n",
       "<style scoped>\n",
       "    .dataframe tbody tr th:only-of-type {\n",
       "        vertical-align: middle;\n",
       "    }\n",
       "\n",
       "    .dataframe tbody tr th {\n",
       "        vertical-align: top;\n",
       "    }\n",
       "\n",
       "    .dataframe thead th {\n",
       "        text-align: right;\n",
       "    }\n",
       "</style>\n",
       "<table border=\"1\" class=\"dataframe\">\n",
       "  <thead>\n",
       "    <tr style=\"text-align: right;\">\n",
       "      <th></th>\n",
       "      <th>exercise_hours</th>\n",
       "      <th>bmi</th>\n",
       "    </tr>\n",
       "  </thead>\n",
       "  <tbody>\n",
       "    <tr>\n",
       "      <th>exercise_hours</th>\n",
       "      <td>1.000000</td>\n",
       "      <td>-0.431246</td>\n",
       "    </tr>\n",
       "    <tr>\n",
       "      <th>bmi</th>\n",
       "      <td>-0.431246</td>\n",
       "      <td>1.000000</td>\n",
       "    </tr>\n",
       "  </tbody>\n",
       "</table>\n",
       "</div>"
      ],
      "text/plain": [
       "                exercise_hours       bmi\n",
       "exercise_hours        1.000000 -0.431246\n",
       "bmi                  -0.431246  1.000000"
      ]
     },
     "execution_count": 14,
     "metadata": {},
     "output_type": "execute_result"
    }
   ],
   "source": [
    "corr_pearson_matrix = df3[[\"exercise_hours\",\"bmi\"]].corr(method=\"pearson\")\n",
    "corr_pearson_matrix"
   ]
  },
  {
   "cell_type": "code",
   "execution_count": 15,
   "id": "fb28323c",
   "metadata": {},
   "outputs": [
    {
     "data": {
      "text/html": [
       "<div>\n",
       "<style scoped>\n",
       "    .dataframe tbody tr th:only-of-type {\n",
       "        vertical-align: middle;\n",
       "    }\n",
       "\n",
       "    .dataframe tbody tr th {\n",
       "        vertical-align: top;\n",
       "    }\n",
       "\n",
       "    .dataframe thead th {\n",
       "        text-align: right;\n",
       "    }\n",
       "</style>\n",
       "<table border=\"1\" class=\"dataframe\">\n",
       "  <thead>\n",
       "    <tr style=\"text-align: right;\">\n",
       "      <th></th>\n",
       "      <th>exercise_hours</th>\n",
       "      <th>bmi</th>\n",
       "    </tr>\n",
       "  </thead>\n",
       "  <tbody>\n",
       "    <tr>\n",
       "      <th>exercise_hours</th>\n",
       "      <td>1.00000</td>\n",
       "      <td>-0.43293</td>\n",
       "    </tr>\n",
       "    <tr>\n",
       "      <th>bmi</th>\n",
       "      <td>-0.43293</td>\n",
       "      <td>1.00000</td>\n",
       "    </tr>\n",
       "  </tbody>\n",
       "</table>\n",
       "</div>"
      ],
      "text/plain": [
       "                exercise_hours      bmi\n",
       "exercise_hours         1.00000 -0.43293\n",
       "bmi                   -0.43293  1.00000"
      ]
     },
     "execution_count": 15,
     "metadata": {},
     "output_type": "execute_result"
    }
   ],
   "source": [
    "corr_spearman_matrix = df3[[\"exercise_hours\",\"bmi\"]].corr(method=\"spearman\")\n",
    "corr_spearman_matrix"
   ]
  },
  {
   "cell_type": "markdown",
   "id": "55096e62",
   "metadata": {},
   "source": [
    "1. The Pearson correlation coefficient assesses the strength and direction of the linear relationship between exercise hours and BMI. It provides a measure of the linear association between the variables.\n",
    "2. The Spearman's rank correlation coefficient assesses the strength and direction of the monotonic (non-linear) relationship between exercise hours and BMI. It does not assume linearity and is based on the ranks of the data."
   ]
  },
  {
   "cell_type": "markdown",
   "id": "fbb56337",
   "metadata": {},
   "source": [
    "## Q4"
   ]
  },
  {
   "cell_type": "code",
   "execution_count": 16,
   "id": "b79f5ce0",
   "metadata": {},
   "outputs": [
    {
     "data": {
      "text/html": [
       "<div>\n",
       "<style scoped>\n",
       "    .dataframe tbody tr th:only-of-type {\n",
       "        vertical-align: middle;\n",
       "    }\n",
       "\n",
       "    .dataframe tbody tr th {\n",
       "        vertical-align: top;\n",
       "    }\n",
       "\n",
       "    .dataframe thead th {\n",
       "        text-align: right;\n",
       "    }\n",
       "</style>\n",
       "<table border=\"1\" class=\"dataframe\">\n",
       "  <thead>\n",
       "    <tr style=\"text-align: right;\">\n",
       "      <th></th>\n",
       "      <th>Tv Hours</th>\n",
       "      <th>physical_activity</th>\n",
       "    </tr>\n",
       "  </thead>\n",
       "  <tbody>\n",
       "    <tr>\n",
       "      <th>0</th>\n",
       "      <td>2</td>\n",
       "      <td>30</td>\n",
       "    </tr>\n",
       "    <tr>\n",
       "      <th>1</th>\n",
       "      <td>3</td>\n",
       "      <td>25</td>\n",
       "    </tr>\n",
       "    <tr>\n",
       "      <th>2</th>\n",
       "      <td>4</td>\n",
       "      <td>20</td>\n",
       "    </tr>\n",
       "    <tr>\n",
       "      <th>3</th>\n",
       "      <td>1</td>\n",
       "      <td>35</td>\n",
       "    </tr>\n",
       "    <tr>\n",
       "      <th>4</th>\n",
       "      <td>2</td>\n",
       "      <td>30</td>\n",
       "    </tr>\n",
       "  </tbody>\n",
       "</table>\n",
       "</div>"
      ],
      "text/plain": [
       "   Tv Hours  physical_activity\n",
       "0         2                 30\n",
       "1         3                 25\n",
       "2         4                 20\n",
       "3         1                 35\n",
       "4         2                 30"
      ]
     },
     "execution_count": 16,
     "metadata": {},
     "output_type": "execute_result"
    }
   ],
   "source": [
    "df4 = pd.DataFrame({\n",
    "    \"Tv Hours\" : [2, 3, 4, 1, 2, 3, 4, 1, 5, 2, 3, 4, 1, 2, 3, 4, 1, 5, 2, 3, 4, 1, 2, 3, 4, 1, 5, 2, 3, 4, 1, 2, 3, 4, 1, 5, 2, 3, 4, 1, 2, 3, 4, 1, 5],\n",
    "    \"physical_activity\" : [30, 25, 20, 35, 30, 25, 20, 35, 15, 30, 25, 20, 35, 30, 25, 20, 35, 15, 30, 25, 20, 35, 30, 25, 20, 35, 15, 30, 25, 20, 35, 30, 25, 20, 35, 15, 30, 25, 20, 35, 30, 25, 20, 35, 15]\n",
    "})\n",
    "df4.head()"
   ]
  },
  {
   "cell_type": "code",
   "execution_count": 17,
   "id": "c819227d",
   "metadata": {},
   "outputs": [
    {
     "data": {
      "text/html": [
       "<div>\n",
       "<style scoped>\n",
       "    .dataframe tbody tr th:only-of-type {\n",
       "        vertical-align: middle;\n",
       "    }\n",
       "\n",
       "    .dataframe tbody tr th {\n",
       "        vertical-align: top;\n",
       "    }\n",
       "\n",
       "    .dataframe thead th {\n",
       "        text-align: right;\n",
       "    }\n",
       "</style>\n",
       "<table border=\"1\" class=\"dataframe\">\n",
       "  <thead>\n",
       "    <tr style=\"text-align: right;\">\n",
       "      <th></th>\n",
       "      <th>Tv Hours</th>\n",
       "      <th>physical_activity</th>\n",
       "    </tr>\n",
       "  </thead>\n",
       "  <tbody>\n",
       "    <tr>\n",
       "      <th>Tv Hours</th>\n",
       "      <td>1.0</td>\n",
       "      <td>-1.0</td>\n",
       "    </tr>\n",
       "    <tr>\n",
       "      <th>physical_activity</th>\n",
       "      <td>-1.0</td>\n",
       "      <td>1.0</td>\n",
       "    </tr>\n",
       "  </tbody>\n",
       "</table>\n",
       "</div>"
      ],
      "text/plain": [
       "                   Tv Hours  physical_activity\n",
       "Tv Hours                1.0               -1.0\n",
       "physical_activity      -1.0                1.0"
      ]
     },
     "execution_count": 17,
     "metadata": {},
     "output_type": "execute_result"
    }
   ],
   "source": [
    "corr_pearson_matrix = df4[[\"Tv Hours\",\"physical_activity\"]].corr(method=\"pearson\")\n",
    "corr_pearson_matrix"
   ]
  },
  {
   "cell_type": "markdown",
   "id": "831973e5",
   "metadata": {},
   "source": [
    "## Q5"
   ]
  },
  {
   "cell_type": "code",
   "execution_count": 18,
   "id": "e5adb27f",
   "metadata": {},
   "outputs": [
    {
     "name": "stdout",
     "output_type": "stream",
     "text": [
      "Pearson correlation coefficient: 0.50\n"
     ]
    }
   ],
   "source": [
    "import pandas as pd\n",
    "import scipy.stats\n",
    "\n",
    "data = {\n",
    "    'Age': [25, 42, 37, 19, 31, 28],\n",
    "    'Preference': ['Coke', 'Pepsi', 'Mountain Dew', 'Coke', 'Pepsi', 'Coke']\n",
    "}\n",
    "\n",
    "df = pd.DataFrame(data)\n",
    "\n",
    "pearson_corr, _ = scipy.stats.pearsonr(df['Age'], df['Preference'].apply(lambda x: len(x)))\n",
    "\n",
    "print(f\"Pearson correlation coefficient: {pearson_corr:.2f}\")\n"
   ]
  },
  {
   "cell_type": "markdown",
   "id": "30f56792",
   "metadata": {},
   "source": [
    "## Q6"
   ]
  },
  {
   "cell_type": "code",
   "execution_count": 22,
   "id": "18c314ba",
   "metadata": {},
   "outputs": [
    {
     "data": {
      "text/html": [
       "<div>\n",
       "<style scoped>\n",
       "    .dataframe tbody tr th:only-of-type {\n",
       "        vertical-align: middle;\n",
       "    }\n",
       "\n",
       "    .dataframe tbody tr th {\n",
       "        vertical-align: top;\n",
       "    }\n",
       "\n",
       "    .dataframe thead th {\n",
       "        text-align: right;\n",
       "    }\n",
       "</style>\n",
       "<table border=\"1\" class=\"dataframe\">\n",
       "  <thead>\n",
       "    <tr style=\"text-align: right;\">\n",
       "      <th></th>\n",
       "      <th>sales_calls_per_day</th>\n",
       "      <th>sales_per_week</th>\n",
       "    </tr>\n",
       "  </thead>\n",
       "  <tbody>\n",
       "    <tr>\n",
       "      <th>0</th>\n",
       "      <td>10</td>\n",
       "      <td>20</td>\n",
       "    </tr>\n",
       "    <tr>\n",
       "      <th>1</th>\n",
       "      <td>12</td>\n",
       "      <td>25</td>\n",
       "    </tr>\n",
       "    <tr>\n",
       "      <th>2</th>\n",
       "      <td>8</td>\n",
       "      <td>18</td>\n",
       "    </tr>\n",
       "    <tr>\n",
       "      <th>3</th>\n",
       "      <td>15</td>\n",
       "      <td>30</td>\n",
       "    </tr>\n",
       "    <tr>\n",
       "      <th>4</th>\n",
       "      <td>9</td>\n",
       "      <td>22</td>\n",
       "    </tr>\n",
       "  </tbody>\n",
       "</table>\n",
       "</div>"
      ],
      "text/plain": [
       "   sales_calls_per_day  sales_per_week\n",
       "0                   10              20\n",
       "1                   12              25\n",
       "2                    8              18\n",
       "3                   15              30\n",
       "4                    9              22"
      ]
     },
     "execution_count": 22,
     "metadata": {},
     "output_type": "execute_result"
    }
   ],
   "source": [
    "data = {\n",
    "    \"sales_calls_per_day\" : [10, 12, 8, 15, 9, 11, 7, 14, 13, 10, 12, 8, 15, 9, 11, 7, 14, 13, 10, 12, 8, 15, 9, 11, 7, 14, 13, 10, 12, 8],\n",
    "    \"sales_per_week\" : [20, 25, 18, 30, 22, 24, 17, 28, 27, 21, 23, 19, 31, 20, 25, 18, 30, 22, 24, 17, 28, 27, 21, 23, 19, 31, 20, 25, 18, 30]\n",
    "}\n",
    "df6 = pd.DataFrame(data)\n",
    "df6.head()"
   ]
  },
  {
   "cell_type": "code",
   "execution_count": 25,
   "id": "ebe4d4e4",
   "metadata": {},
   "outputs": [
    {
     "data": {
      "text/html": [
       "<div>\n",
       "<style scoped>\n",
       "    .dataframe tbody tr th:only-of-type {\n",
       "        vertical-align: middle;\n",
       "    }\n",
       "\n",
       "    .dataframe tbody tr th {\n",
       "        vertical-align: top;\n",
       "    }\n",
       "\n",
       "    .dataframe thead th {\n",
       "        text-align: right;\n",
       "    }\n",
       "</style>\n",
       "<table border=\"1\" class=\"dataframe\">\n",
       "  <thead>\n",
       "    <tr style=\"text-align: right;\">\n",
       "      <th></th>\n",
       "      <th>sales_calls_per_day</th>\n",
       "      <th>sales_per_week</th>\n",
       "    </tr>\n",
       "  </thead>\n",
       "  <tbody>\n",
       "    <tr>\n",
       "      <th>sales_calls_per_day</th>\n",
       "      <td>1.000000</td>\n",
       "      <td>0.580539</td>\n",
       "    </tr>\n",
       "    <tr>\n",
       "      <th>sales_per_week</th>\n",
       "      <td>0.580539</td>\n",
       "      <td>1.000000</td>\n",
       "    </tr>\n",
       "  </tbody>\n",
       "</table>\n",
       "</div>"
      ],
      "text/plain": [
       "                     sales_calls_per_day  sales_per_week\n",
       "sales_calls_per_day             1.000000        0.580539\n",
       "sales_per_week                  0.580539        1.000000"
      ]
     },
     "execution_count": 25,
     "metadata": {},
     "output_type": "execute_result"
    }
   ],
   "source": [
    "corr_pearson_matrix = df6[[\"sales_calls_per_day\",\"sales_per_week\"]].corr(method=\"pearson\")\n",
    "corr_pearson_matrix"
   ]
  },
  {
   "cell_type": "markdown",
   "id": "92c89195",
   "metadata": {},
   "source": [
    "1. If r is positive, it suggests a positive linear relationship, meaning that as the number of sales calls made per day increases, the number of sales made per week tends to increase.\n",
    "2. If r is negative, it suggests a negative linear relationship, meaning that as the number of sales calls made per day increases, the number of sales made per week tends to decrease."
   ]
  },
  {
   "cell_type": "code",
   "execution_count": null,
   "id": "77cab31c",
   "metadata": {},
   "outputs": [],
   "source": []
  }
 ],
 "metadata": {
  "kernelspec": {
   "display_name": "Python 3 (ipykernel)",
   "language": "python",
   "name": "python3"
  },
  "language_info": {
   "codemirror_mode": {
    "name": "ipython",
    "version": 3
   },
   "file_extension": ".py",
   "mimetype": "text/x-python",
   "name": "python",
   "nbconvert_exporter": "python",
   "pygments_lexer": "ipython3",
   "version": "3.11.5"
  }
 },
 "nbformat": 4,
 "nbformat_minor": 5
}
