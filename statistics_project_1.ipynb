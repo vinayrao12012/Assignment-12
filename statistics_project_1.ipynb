{
 "cells": [
  {
   "cell_type": "markdown",
   "id": "9533f6bd",
   "metadata": {},
   "source": [
    "## Q1"
   ]
  },
  {
   "cell_type": "markdown",
   "id": "4e55bf82",
   "metadata": {},
   "source": [
    "Statistics is the science of collecting,organizing and analyzing the data."
   ]
  },
  {
   "cell_type": "markdown",
   "id": "603731bd",
   "metadata": {},
   "source": [
    "## Q2"
   ]
  },
  {
   "cell_type": "markdown",
   "id": "d1ab7d69",
   "metadata": {},
   "source": [
    "1. Descriptive Statistics:\n",
    "\n",
    "(i) Definition : Descriptive statistics are used to summarize and describe the main features of a dataset.\n",
    "\n",
    "(ii) Example : If a company wants to understand the average salary of its employees, it can calculate the mean (average) salary of all employees.\n",
    "\n",
    "2. Inferential Statistics:\n",
    "\n",
    "(i) Definition : Inferential statistics are used to make predictions, inferences, or generalizations about a larger population based on a sample of data.\n",
    "\n",
    "(ii) Example : A political poll surveys a random sample of 1,000 voters to estimate the proportion of voters who support a particular candidate. The results are then used to make inferences about the entire voting population."
   ]
  },
  {
   "cell_type": "markdown",
   "id": "bb5f2e65",
   "metadata": {},
   "source": [
    "## Q3"
   ]
  },
  {
   "cell_type": "markdown",
   "id": "557a3cdb",
   "metadata": {},
   "source": [
    "Data is of two types \n",
    "1. Quantitative (Numerical Data)\n",
    "2. Qualitative (Categorical Data)\n",
    "\n",
    "Inside Quantitative there are two categories :\n",
    "1. Discrete Data\n",
    "2. Continuous Data\n",
    "\n",
    "Inside Qualitative there are two categories:\n",
    "1. Nominal Data\n",
    "2. Ordinal Data"
   ]
  },
  {
   "cell_type": "markdown",
   "id": "e6fed87b",
   "metadata": {},
   "source": [
    "1. Discrete Data : Discrete data is a type of data that consists of distinct, separate values or categories. These values are typically counted or categorized, and there are typically gaps or intervals between them.\n",
    "\n",
    "    Example of Discrete Data:\n",
    "                              1.  Number of students in a class.\n",
    "                              2.  Number of houses in your colony.\n",
    "                              3.  Number of teachers in your college.\n",
    "                              \n",
    "\n",
    "2. Continuous Data : Continuous data is a type of data that represents measurements or values that can take on any value within a continuous range. Unlike discrete data, which consists of distinct, separate values, continuous data can include an infinite number of possible values between any two points.\n",
    "\n",
    "    Example of Continuous Data: 1.  Height of a student in a class.\n",
    "                                2.  Temperature of a city.\n",
    "                                3.  speed of a train.\n",
    "                                \n",
    "3. Nominal Data : Nominal data, also known as categorical data, represent categories or labels without any inherent order or ranking.\n",
    " \n",
    "    Example of Nominal Data:  1.  Types of fruits.\n",
    "                              2.  Marital status.\n",
    "                              3.  Colors.\n",
    "                             \n",
    "4. Ordinal Data : Ordinal data represent categories with a meaningful order or ranking, but the intervals between them are not equal or meaningful.\n",
    "\n",
    "    Example Of Ordinal Data: 1. Educational levels (e.g., high school diploma, bachelor's degree, master's degree)\n",
    "                             2. Survey ratings (e.g., strongly disagree, disagree, neutral, agree, strongly agree)\n",
    "\n",
    "\n",
    "                               \n",
    "                                \n",
    "    "
   ]
  },
  {
   "cell_type": "markdown",
   "id": "b0d50fcd",
   "metadata": {},
   "source": [
    "## Q4"
   ]
  },
  {
   "cell_type": "markdown",
   "id": "fda2601f",
   "metadata": {},
   "source": [
    "1.  Grading in exam: A+, A, B+, B, C+, C, D, E :    Ordinal Data\n",
    "2.  Colour of mangoes: yellow, green, orange, red :    Nominal Data\n",
    "3.  Height data of a class: [178.9, 179, 179.5, 176, 177.2, 178.3, 175.8,...] :     Continuous Data\n",
    "4.  Number of mangoes exported by a farm: [500, 600, 478, 672, ...] :     Discrete Data"
   ]
  },
  {
   "cell_type": "markdown",
   "id": "4f209329",
   "metadata": {},
   "source": [
    "## Q5"
   ]
  },
  {
   "cell_type": "markdown",
   "id": "9326cf5d",
   "metadata": {},
   "source": [
    "1. Nominal Scale Data : At the nominal level, variables are categorical in nature, and data are organized into distinct categories or labels. There is no inherent order or ranking among these categories.\n",
    "\n",
    "Examples : a) Gender b) color\n",
    "\n",
    "2. Ordinal Scale Data: Variables at the ordinal level represent categories or values with a meaningful order or ranking, but the intervals between values are not necessarily equal or meaningful.\n",
    "\n",
    "Examples : a) Survey ratings (e.g., strongly disagree, disagree, neutral, agree, strongly agree)\n",
    "           b) Socioeconomic status (e.g., low-income, middle-income, high-income)\n",
    "           \n",
    "\n",
    "3. Interval Scale Data: Interval data have a meaningful order, and the intervals between values are equal and consistent. However, they lack a true zero point.\n",
    "\n",
    "\n",
    "Examples : Temperature in Celsius or Fahrenheit (0°C does not represent the absence of temperature)\n",
    "\n",
    "4. Ratio Scale Data: Ratio data have all the characteristics of interval data, but they also have a true zero point, meaning zero represents the complete absence of the measured attribute.\n",
    "\n",
    "Examples : Income (e.g., 0 dollars represents the absence of income)\n",
    "           "
   ]
  },
  {
   "cell_type": "markdown",
   "id": "11948877",
   "metadata": {},
   "source": [
    "## Q6"
   ]
  },
  {
   "cell_type": "markdown",
   "id": "ef6dc859",
   "metadata": {},
   "source": [
    "Understanding the level of measurement when analyzing data is crucial because it determines the types of statistical analyses and operations that can be applied to a variable. Different levels of measurement require different statistical techniques. Using the wrong technique can produce misleading results. For example:\n",
    "\n",
    "\n",
    "Suppose you have a variable measuring customer satisfaction with values \"dissatisfied,\" \"neutral,\" and \"satisfied,\" which is at the ordinal level. If you treat these categories as numerical values (e.g., 1 for dissatisfied, 2 for neutral, 3 for satisfied) and calculate the average customer satisfaction score, it may appear that the average is 2, suggesting a neutral sentiment. However, this average is not meaningful because the intervals between the categories are not equal. Using a technique like a mean in this case is inappropriate, and you should use non-parametric statistical tests or analyze the data differently.\n",
    "\n"
   ]
  },
  {
   "cell_type": "markdown",
   "id": "07eff207",
   "metadata": {},
   "source": [
    "## Q7"
   ]
  },
  {
   "cell_type": "markdown",
   "id": "eb435439",
   "metadata": {},
   "source": [
    "Nominal data and ordinal data are both types of categorical data, but they differ in terms of the level of measurement and the characteristics of the categories.\n",
    "\n",
    "1. In nominal data, the categories or labels have no inherent order or ranking. They are purely distinct and separate from each other.\n",
    "\n",
    "2. Nominal data includes categories like gender (male, female, non-binary), colors (red, blue, green), types of animals (cat, dog, bird), or types of fruit (apple, banana, orange).\n",
    "\n",
    "\n",
    "In ordinal data, the categories have a meaningful order or ranking, indicating that one category has a higher or lower value compared to another. However, the intervals between categories are not necessarily equal or meaningful.\n",
    "\n",
    "1.  Ordinal data includes categories like educational attainment (e.g., high school diploma, bachelor's degree, master's degree), customer satisfaction (e.g., very dissatisfied, dissatisfied, neutral, satisfied, very satisfied), or socioeconomic status (e.g., low-income, middle-income, high-income)."
   ]
  },
  {
   "cell_type": "markdown",
   "id": "fa577e43",
   "metadata": {},
   "source": [
    "## Q8"
   ]
  },
  {
   "cell_type": "markdown",
   "id": "5bb46ebb",
   "metadata": {},
   "source": [
    "A box plot or box-and-whisker plot is a type of plot commonly used to display data in terms of range. Box plots provide a visual summary of the distribution of a dataset, including measures of central tendency (median), spread (interquartile range), and the presence of outliers."
   ]
  },
  {
   "cell_type": "markdown",
   "id": "86302976",
   "metadata": {},
   "source": [
    "## Q9"
   ]
  },
  {
   "cell_type": "markdown",
   "id": "9c4333ee",
   "metadata": {},
   "source": [
    "Descriptive Statistics:\n",
    "\n",
    "1. Definition: Descriptive statistics aim to summarize and describe the main features or characteristics of a dataset. They help in organizing, simplifying, and presenting data in a meaningful way.\n",
    "\n",
    "2. Example: Mean, Median, Mode, Range, Standard Deviation, Frequency Distributions, Histograms, and Bar Charts are all examples of descriptive statistics.\n",
    "\n",
    "3. Use :  For instance, you might calculate the mean and standard deviation of test scores to describe how students performed on an exam.\n",
    "\n",
    "\n",
    "Inferential Statistics:\n",
    "\n",
    "1. Definition: Inferential statistics involve drawing conclusions, making predictions, or generalizing findings about a population based on a sample of data. They help researchers make inferences or test hypotheses using sample data.\n",
    "\n",
    "2. Example: Hypothesis Testing, Confidence Intervals, Regression Analysis, Analysis of Variance (ANOVA), and Chi-Square tests are all examples of inferential statistics.\n",
    "\n",
    "3. Use : For example, if a pharmaceutical company conducts a clinical trial with a sample of patients to test the effectiveness of a new drug, they might use inferential statistics to determine if the drug is likely to be effective for the entire population of patients with a specific condition\n"
   ]
  },
  {
   "cell_type": "markdown",
   "id": "88248690",
   "metadata": {},
   "source": [
    "## Q10"
   ]
  },
  {
   "cell_type": "markdown",
   "id": "c474b9b7",
   "metadata": {},
   "source": [
    "Measures of Central Tendency:\n",
    "\n",
    "1. Mean(Average): The mean provides a measure of the center of the dataset. It is useful for describing the typical or average value within the dataset. However, it can be sensitive to outliers.\n",
    "\n",
    "2. Median : The median is less affected by extreme values (outliers) compared to the mean. It is a good measure of central tendency when the data contains outliers or is skewed.\n",
    "\n",
    "3. Mode : The mode is used to identify the most common value or category within the dataset. It is particularly useful for nominal or categorical data.\n",
    "\n",
    "\n",
    "Measures of Variability:\n",
    "\n",
    "1. Range : The range is the difference between the maximum and minimum values in the dataset. Use: The range provides a simple measure of how spread out the data is. It gives a sense of the data's variability but does not consider all the data points.\n",
    "\n",
    "2. Variance : Variance quantifies the spread of data points around the mean. A larger variance indicates greater dispersion, while a smaller variance suggests data points are closer to the mean."
   ]
  },
  {
   "cell_type": "code",
   "execution_count": null,
   "id": "3574a902",
   "metadata": {},
   "outputs": [],
   "source": []
  }
 ],
 "metadata": {
  "kernelspec": {
   "display_name": "Python 3 (ipykernel)",
   "language": "python",
   "name": "python3"
  },
  "language_info": {
   "codemirror_mode": {
    "name": "ipython",
    "version": 3
   },
   "file_extension": ".py",
   "mimetype": "text/x-python",
   "name": "python",
   "nbconvert_exporter": "python",
   "pygments_lexer": "ipython3",
   "version": "3.11.4"
  }
 },
 "nbformat": 4,
 "nbformat_minor": 5
}
