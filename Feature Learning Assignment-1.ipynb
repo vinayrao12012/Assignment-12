{
 "cells": [
  {
   "cell_type": "markdown",
   "id": "dceb8c50",
   "metadata": {},
   "source": [
    "## Q1"
   ]
  },
  {
   "cell_type": "markdown",
   "id": "c4276ac7",
   "metadata": {},
   "source": [
    "Missing values in a dataset refer to the absence of data for one or more variables or features in some of the data points or observations. These missing values are typically denoted as NaN (Not a Number) or NULL in various programming languages.\n",
    "\n",
    "1. Data Integrity: Missing values can lead to incomplete or inaccurate analyses, potentially causing incorrect conclusions or predictions.\n",
    "2. Bias: Ignoring missing data can introduce bias into your analyses because the data that is missing may not be missing at random. It could be related to specific patterns or reasons that are important to understand.\n",
    "\n",
    "Algorithms are :\n",
    "1. K nearest neighbours\n",
    "2. Decision Tree\n",
    "3. Random Forest"
   ]
  },
  {
   "cell_type": "markdown",
   "id": "8a68dc18",
   "metadata": {},
   "source": [
    "## Q2"
   ]
  },
  {
   "cell_type": "markdown",
   "id": "e0bc54e1",
   "metadata": {},
   "source": [
    "There are several techniques for handling missing data in a dataset.\n",
    "1. Delete the entire row which has null /nan values.\n",
    "2. Imputation:\n",
    "    1. Mean Imputation\n",
    "    2. Median Imputation\n",
    "    3. Mode Imputation"
   ]
  },
  {
   "cell_type": "code",
   "execution_count": 1,
   "id": "d6cf31aa",
   "metadata": {},
   "outputs": [],
   "source": [
    "import seaborn as sns"
   ]
  },
  {
   "cell_type": "code",
   "execution_count": 27,
   "id": "7144f015",
   "metadata": {},
   "outputs": [
    {
     "data": {
      "text/html": [
       "<div>\n",
       "<style scoped>\n",
       "    .dataframe tbody tr th:only-of-type {\n",
       "        vertical-align: middle;\n",
       "    }\n",
       "\n",
       "    .dataframe tbody tr th {\n",
       "        vertical-align: top;\n",
       "    }\n",
       "\n",
       "    .dataframe thead th {\n",
       "        text-align: right;\n",
       "    }\n",
       "</style>\n",
       "<table border=\"1\" class=\"dataframe\">\n",
       "  <thead>\n",
       "    <tr style=\"text-align: right;\">\n",
       "      <th></th>\n",
       "      <th>survived</th>\n",
       "      <th>pclass</th>\n",
       "      <th>sex</th>\n",
       "      <th>age</th>\n",
       "      <th>sibsp</th>\n",
       "      <th>parch</th>\n",
       "      <th>fare</th>\n",
       "      <th>embarked</th>\n",
       "      <th>class</th>\n",
       "      <th>who</th>\n",
       "      <th>adult_male</th>\n",
       "      <th>deck</th>\n",
       "      <th>embark_town</th>\n",
       "      <th>alive</th>\n",
       "      <th>alone</th>\n",
       "    </tr>\n",
       "  </thead>\n",
       "  <tbody>\n",
       "    <tr>\n",
       "      <th>0</th>\n",
       "      <td>0</td>\n",
       "      <td>3</td>\n",
       "      <td>male</td>\n",
       "      <td>22.0</td>\n",
       "      <td>1</td>\n",
       "      <td>0</td>\n",
       "      <td>7.2500</td>\n",
       "      <td>S</td>\n",
       "      <td>Third</td>\n",
       "      <td>man</td>\n",
       "      <td>True</td>\n",
       "      <td>NaN</td>\n",
       "      <td>Southampton</td>\n",
       "      <td>no</td>\n",
       "      <td>False</td>\n",
       "    </tr>\n",
       "    <tr>\n",
       "      <th>1</th>\n",
       "      <td>1</td>\n",
       "      <td>1</td>\n",
       "      <td>female</td>\n",
       "      <td>38.0</td>\n",
       "      <td>1</td>\n",
       "      <td>0</td>\n",
       "      <td>71.2833</td>\n",
       "      <td>C</td>\n",
       "      <td>First</td>\n",
       "      <td>woman</td>\n",
       "      <td>False</td>\n",
       "      <td>C</td>\n",
       "      <td>Cherbourg</td>\n",
       "      <td>yes</td>\n",
       "      <td>False</td>\n",
       "    </tr>\n",
       "    <tr>\n",
       "      <th>2</th>\n",
       "      <td>1</td>\n",
       "      <td>3</td>\n",
       "      <td>female</td>\n",
       "      <td>26.0</td>\n",
       "      <td>0</td>\n",
       "      <td>0</td>\n",
       "      <td>7.9250</td>\n",
       "      <td>S</td>\n",
       "      <td>Third</td>\n",
       "      <td>woman</td>\n",
       "      <td>False</td>\n",
       "      <td>NaN</td>\n",
       "      <td>Southampton</td>\n",
       "      <td>yes</td>\n",
       "      <td>True</td>\n",
       "    </tr>\n",
       "    <tr>\n",
       "      <th>3</th>\n",
       "      <td>1</td>\n",
       "      <td>1</td>\n",
       "      <td>female</td>\n",
       "      <td>35.0</td>\n",
       "      <td>1</td>\n",
       "      <td>0</td>\n",
       "      <td>53.1000</td>\n",
       "      <td>S</td>\n",
       "      <td>First</td>\n",
       "      <td>woman</td>\n",
       "      <td>False</td>\n",
       "      <td>C</td>\n",
       "      <td>Southampton</td>\n",
       "      <td>yes</td>\n",
       "      <td>False</td>\n",
       "    </tr>\n",
       "    <tr>\n",
       "      <th>4</th>\n",
       "      <td>0</td>\n",
       "      <td>3</td>\n",
       "      <td>male</td>\n",
       "      <td>35.0</td>\n",
       "      <td>0</td>\n",
       "      <td>0</td>\n",
       "      <td>8.0500</td>\n",
       "      <td>S</td>\n",
       "      <td>Third</td>\n",
       "      <td>man</td>\n",
       "      <td>True</td>\n",
       "      <td>NaN</td>\n",
       "      <td>Southampton</td>\n",
       "      <td>no</td>\n",
       "      <td>True</td>\n",
       "    </tr>\n",
       "  </tbody>\n",
       "</table>\n",
       "</div>"
      ],
      "text/plain": [
       "   survived  pclass     sex   age  sibsp  parch     fare embarked  class  \\\n",
       "0         0       3    male  22.0      1      0   7.2500        S  Third   \n",
       "1         1       1  female  38.0      1      0  71.2833        C  First   \n",
       "2         1       3  female  26.0      0      0   7.9250        S  Third   \n",
       "3         1       1  female  35.0      1      0  53.1000        S  First   \n",
       "4         0       3    male  35.0      0      0   8.0500        S  Third   \n",
       "\n",
       "     who  adult_male deck  embark_town alive  alone  \n",
       "0    man        True  NaN  Southampton    no  False  \n",
       "1  woman       False    C    Cherbourg   yes  False  \n",
       "2  woman       False  NaN  Southampton   yes   True  \n",
       "3  woman       False    C  Southampton   yes  False  \n",
       "4    man        True  NaN  Southampton    no   True  "
      ]
     },
     "execution_count": 27,
     "metadata": {},
     "output_type": "execute_result"
    }
   ],
   "source": [
    "df = sns.load_dataset('titanic')\n",
    "df.head()"
   ]
  },
  {
   "cell_type": "code",
   "execution_count": 24,
   "id": "d7d08634",
   "metadata": {},
   "outputs": [
    {
     "data": {
      "text/plain": [
       "survived         0\n",
       "pclass           0\n",
       "sex              0\n",
       "age            177\n",
       "sibsp            0\n",
       "parch            0\n",
       "fare             0\n",
       "embarked         2\n",
       "class            0\n",
       "who              0\n",
       "adult_male       0\n",
       "deck           688\n",
       "embark_town      2\n",
       "alive            0\n",
       "alone            0\n",
       "dtype: int64"
      ]
     },
     "execution_count": 24,
     "metadata": {},
     "output_type": "execute_result"
    }
   ],
   "source": [
    "df.isnull().sum()"
   ]
  },
  {
   "cell_type": "code",
   "execution_count": 25,
   "id": "ac2c9cf6",
   "metadata": {},
   "outputs": [],
   "source": [
    "df.dropna(axis=1,inplace=True)"
   ]
  },
  {
   "cell_type": "code",
   "execution_count": 26,
   "id": "b2e98b00",
   "metadata": {},
   "outputs": [
    {
     "data": {
      "text/plain": [
       "survived      0\n",
       "pclass        0\n",
       "sex           0\n",
       "sibsp         0\n",
       "parch         0\n",
       "fare          0\n",
       "class         0\n",
       "who           0\n",
       "adult_male    0\n",
       "alive         0\n",
       "alone         0\n",
       "dtype: int64"
      ]
     },
     "execution_count": 26,
     "metadata": {},
     "output_type": "execute_result"
    }
   ],
   "source": [
    "df.isnull().sum()"
   ]
  },
  {
   "cell_type": "code",
   "execution_count": 28,
   "id": "efe905b1",
   "metadata": {},
   "outputs": [],
   "source": [
    "## Mean Imputation"
   ]
  },
  {
   "cell_type": "code",
   "execution_count": 29,
   "id": "a71bd386",
   "metadata": {},
   "outputs": [
    {
     "data": {
      "text/html": [
       "<div>\n",
       "<style scoped>\n",
       "    .dataframe tbody tr th:only-of-type {\n",
       "        vertical-align: middle;\n",
       "    }\n",
       "\n",
       "    .dataframe tbody tr th {\n",
       "        vertical-align: top;\n",
       "    }\n",
       "\n",
       "    .dataframe thead th {\n",
       "        text-align: right;\n",
       "    }\n",
       "</style>\n",
       "<table border=\"1\" class=\"dataframe\">\n",
       "  <thead>\n",
       "    <tr style=\"text-align: right;\">\n",
       "      <th></th>\n",
       "      <th>survived</th>\n",
       "      <th>pclass</th>\n",
       "      <th>sex</th>\n",
       "      <th>age</th>\n",
       "      <th>sibsp</th>\n",
       "      <th>parch</th>\n",
       "      <th>fare</th>\n",
       "      <th>embarked</th>\n",
       "      <th>class</th>\n",
       "      <th>who</th>\n",
       "      <th>adult_male</th>\n",
       "      <th>deck</th>\n",
       "      <th>embark_town</th>\n",
       "      <th>alive</th>\n",
       "      <th>alone</th>\n",
       "    </tr>\n",
       "  </thead>\n",
       "  <tbody>\n",
       "    <tr>\n",
       "      <th>0</th>\n",
       "      <td>0</td>\n",
       "      <td>3</td>\n",
       "      <td>male</td>\n",
       "      <td>22.0</td>\n",
       "      <td>1</td>\n",
       "      <td>0</td>\n",
       "      <td>7.2500</td>\n",
       "      <td>S</td>\n",
       "      <td>Third</td>\n",
       "      <td>man</td>\n",
       "      <td>True</td>\n",
       "      <td>NaN</td>\n",
       "      <td>Southampton</td>\n",
       "      <td>no</td>\n",
       "      <td>False</td>\n",
       "    </tr>\n",
       "    <tr>\n",
       "      <th>1</th>\n",
       "      <td>1</td>\n",
       "      <td>1</td>\n",
       "      <td>female</td>\n",
       "      <td>38.0</td>\n",
       "      <td>1</td>\n",
       "      <td>0</td>\n",
       "      <td>71.2833</td>\n",
       "      <td>C</td>\n",
       "      <td>First</td>\n",
       "      <td>woman</td>\n",
       "      <td>False</td>\n",
       "      <td>C</td>\n",
       "      <td>Cherbourg</td>\n",
       "      <td>yes</td>\n",
       "      <td>False</td>\n",
       "    </tr>\n",
       "    <tr>\n",
       "      <th>2</th>\n",
       "      <td>1</td>\n",
       "      <td>3</td>\n",
       "      <td>female</td>\n",
       "      <td>26.0</td>\n",
       "      <td>0</td>\n",
       "      <td>0</td>\n",
       "      <td>7.9250</td>\n",
       "      <td>S</td>\n",
       "      <td>Third</td>\n",
       "      <td>woman</td>\n",
       "      <td>False</td>\n",
       "      <td>NaN</td>\n",
       "      <td>Southampton</td>\n",
       "      <td>yes</td>\n",
       "      <td>True</td>\n",
       "    </tr>\n",
       "    <tr>\n",
       "      <th>3</th>\n",
       "      <td>1</td>\n",
       "      <td>1</td>\n",
       "      <td>female</td>\n",
       "      <td>35.0</td>\n",
       "      <td>1</td>\n",
       "      <td>0</td>\n",
       "      <td>53.1000</td>\n",
       "      <td>S</td>\n",
       "      <td>First</td>\n",
       "      <td>woman</td>\n",
       "      <td>False</td>\n",
       "      <td>C</td>\n",
       "      <td>Southampton</td>\n",
       "      <td>yes</td>\n",
       "      <td>False</td>\n",
       "    </tr>\n",
       "    <tr>\n",
       "      <th>4</th>\n",
       "      <td>0</td>\n",
       "      <td>3</td>\n",
       "      <td>male</td>\n",
       "      <td>35.0</td>\n",
       "      <td>0</td>\n",
       "      <td>0</td>\n",
       "      <td>8.0500</td>\n",
       "      <td>S</td>\n",
       "      <td>Third</td>\n",
       "      <td>man</td>\n",
       "      <td>True</td>\n",
       "      <td>NaN</td>\n",
       "      <td>Southampton</td>\n",
       "      <td>no</td>\n",
       "      <td>True</td>\n",
       "    </tr>\n",
       "  </tbody>\n",
       "</table>\n",
       "</div>"
      ],
      "text/plain": [
       "   survived  pclass     sex   age  sibsp  parch     fare embarked  class  \\\n",
       "0         0       3    male  22.0      1      0   7.2500        S  Third   \n",
       "1         1       1  female  38.0      1      0  71.2833        C  First   \n",
       "2         1       3  female  26.0      0      0   7.9250        S  Third   \n",
       "3         1       1  female  35.0      1      0  53.1000        S  First   \n",
       "4         0       3    male  35.0      0      0   8.0500        S  Third   \n",
       "\n",
       "     who  adult_male deck  embark_town alive  alone  \n",
       "0    man        True  NaN  Southampton    no  False  \n",
       "1  woman       False    C    Cherbourg   yes  False  \n",
       "2  woman       False  NaN  Southampton   yes   True  \n",
       "3  woman       False    C  Southampton   yes  False  \n",
       "4    man        True  NaN  Southampton    no   True  "
      ]
     },
     "execution_count": 29,
     "metadata": {},
     "output_type": "execute_result"
    }
   ],
   "source": [
    "df.head()"
   ]
  },
  {
   "cell_type": "code",
   "execution_count": 31,
   "id": "1380853e",
   "metadata": {},
   "outputs": [],
   "source": [
    "age_mean = df['age'].mean()"
   ]
  },
  {
   "cell_type": "code",
   "execution_count": 32,
   "id": "58869834",
   "metadata": {},
   "outputs": [
    {
     "data": {
      "text/plain": [
       "29.69911764705882"
      ]
     },
     "execution_count": 32,
     "metadata": {},
     "output_type": "execute_result"
    }
   ],
   "source": [
    "age_mean"
   ]
  },
  {
   "cell_type": "code",
   "execution_count": 33,
   "id": "770662e0",
   "metadata": {},
   "outputs": [],
   "source": [
    "df['age'].fillna(age_mean,inplace=True)"
   ]
  },
  {
   "cell_type": "code",
   "execution_count": 34,
   "id": "08061283",
   "metadata": {},
   "outputs": [
    {
     "data": {
      "text/plain": [
       "survived         0\n",
       "pclass           0\n",
       "sex              0\n",
       "age              0\n",
       "sibsp            0\n",
       "parch            0\n",
       "fare             0\n",
       "embarked         2\n",
       "class            0\n",
       "who              0\n",
       "adult_male       0\n",
       "deck           688\n",
       "embark_town      2\n",
       "alive            0\n",
       "alone            0\n",
       "dtype: int64"
      ]
     },
     "execution_count": 34,
     "metadata": {},
     "output_type": "execute_result"
    }
   ],
   "source": [
    "df.isnull().sum()"
   ]
  },
  {
   "cell_type": "code",
   "execution_count": 35,
   "id": "142f6d65",
   "metadata": {},
   "outputs": [],
   "source": [
    "## Median Imputation"
   ]
  },
  {
   "cell_type": "code",
   "execution_count": 42,
   "id": "61e93cb7",
   "metadata": {},
   "outputs": [
    {
     "data": {
      "text/html": [
       "<div>\n",
       "<style scoped>\n",
       "    .dataframe tbody tr th:only-of-type {\n",
       "        vertical-align: middle;\n",
       "    }\n",
       "\n",
       "    .dataframe tbody tr th {\n",
       "        vertical-align: top;\n",
       "    }\n",
       "\n",
       "    .dataframe thead th {\n",
       "        text-align: right;\n",
       "    }\n",
       "</style>\n",
       "<table border=\"1\" class=\"dataframe\">\n",
       "  <thead>\n",
       "    <tr style=\"text-align: right;\">\n",
       "      <th></th>\n",
       "      <th>survived</th>\n",
       "      <th>pclass</th>\n",
       "      <th>sex</th>\n",
       "      <th>age</th>\n",
       "      <th>sibsp</th>\n",
       "      <th>parch</th>\n",
       "      <th>fare</th>\n",
       "      <th>embarked</th>\n",
       "      <th>class</th>\n",
       "      <th>who</th>\n",
       "      <th>adult_male</th>\n",
       "      <th>deck</th>\n",
       "      <th>embark_town</th>\n",
       "      <th>alive</th>\n",
       "      <th>alone</th>\n",
       "    </tr>\n",
       "  </thead>\n",
       "  <tbody>\n",
       "    <tr>\n",
       "      <th>0</th>\n",
       "      <td>0</td>\n",
       "      <td>3</td>\n",
       "      <td>male</td>\n",
       "      <td>22.0</td>\n",
       "      <td>1</td>\n",
       "      <td>0</td>\n",
       "      <td>7.2500</td>\n",
       "      <td>S</td>\n",
       "      <td>Third</td>\n",
       "      <td>man</td>\n",
       "      <td>True</td>\n",
       "      <td>NaN</td>\n",
       "      <td>Southampton</td>\n",
       "      <td>no</td>\n",
       "      <td>False</td>\n",
       "    </tr>\n",
       "    <tr>\n",
       "      <th>1</th>\n",
       "      <td>1</td>\n",
       "      <td>1</td>\n",
       "      <td>female</td>\n",
       "      <td>38.0</td>\n",
       "      <td>1</td>\n",
       "      <td>0</td>\n",
       "      <td>71.2833</td>\n",
       "      <td>C</td>\n",
       "      <td>First</td>\n",
       "      <td>woman</td>\n",
       "      <td>False</td>\n",
       "      <td>C</td>\n",
       "      <td>Cherbourg</td>\n",
       "      <td>yes</td>\n",
       "      <td>False</td>\n",
       "    </tr>\n",
       "    <tr>\n",
       "      <th>2</th>\n",
       "      <td>1</td>\n",
       "      <td>3</td>\n",
       "      <td>female</td>\n",
       "      <td>26.0</td>\n",
       "      <td>0</td>\n",
       "      <td>0</td>\n",
       "      <td>7.9250</td>\n",
       "      <td>S</td>\n",
       "      <td>Third</td>\n",
       "      <td>woman</td>\n",
       "      <td>False</td>\n",
       "      <td>NaN</td>\n",
       "      <td>Southampton</td>\n",
       "      <td>yes</td>\n",
       "      <td>True</td>\n",
       "    </tr>\n",
       "    <tr>\n",
       "      <th>3</th>\n",
       "      <td>1</td>\n",
       "      <td>1</td>\n",
       "      <td>female</td>\n",
       "      <td>35.0</td>\n",
       "      <td>1</td>\n",
       "      <td>0</td>\n",
       "      <td>53.1000</td>\n",
       "      <td>S</td>\n",
       "      <td>First</td>\n",
       "      <td>woman</td>\n",
       "      <td>False</td>\n",
       "      <td>C</td>\n",
       "      <td>Southampton</td>\n",
       "      <td>yes</td>\n",
       "      <td>False</td>\n",
       "    </tr>\n",
       "    <tr>\n",
       "      <th>4</th>\n",
       "      <td>0</td>\n",
       "      <td>3</td>\n",
       "      <td>male</td>\n",
       "      <td>35.0</td>\n",
       "      <td>0</td>\n",
       "      <td>0</td>\n",
       "      <td>8.0500</td>\n",
       "      <td>S</td>\n",
       "      <td>Third</td>\n",
       "      <td>man</td>\n",
       "      <td>True</td>\n",
       "      <td>NaN</td>\n",
       "      <td>Southampton</td>\n",
       "      <td>no</td>\n",
       "      <td>True</td>\n",
       "    </tr>\n",
       "  </tbody>\n",
       "</table>\n",
       "</div>"
      ],
      "text/plain": [
       "   survived  pclass     sex   age  sibsp  parch     fare embarked  class  \\\n",
       "0         0       3    male  22.0      1      0   7.2500        S  Third   \n",
       "1         1       1  female  38.0      1      0  71.2833        C  First   \n",
       "2         1       3  female  26.0      0      0   7.9250        S  Third   \n",
       "3         1       1  female  35.0      1      0  53.1000        S  First   \n",
       "4         0       3    male  35.0      0      0   8.0500        S  Third   \n",
       "\n",
       "     who  adult_male deck  embark_town alive  alone  \n",
       "0    man        True  NaN  Southampton    no  False  \n",
       "1  woman       False    C    Cherbourg   yes  False  \n",
       "2  woman       False  NaN  Southampton   yes   True  \n",
       "3  woman       False    C  Southampton   yes  False  \n",
       "4    man        True  NaN  Southampton    no   True  "
      ]
     },
     "execution_count": 42,
     "metadata": {},
     "output_type": "execute_result"
    }
   ],
   "source": [
    "df = sns.load_dataset('titanic')\n",
    "df.head()\n"
   ]
  },
  {
   "cell_type": "code",
   "execution_count": 43,
   "id": "4e146418",
   "metadata": {},
   "outputs": [],
   "source": [
    "age_median = df['age'].median()"
   ]
  },
  {
   "cell_type": "code",
   "execution_count": 45,
   "id": "9806ada2",
   "metadata": {},
   "outputs": [],
   "source": [
    "df['age'].fillna(age_median,inplace=True)"
   ]
  },
  {
   "cell_type": "code",
   "execution_count": 46,
   "id": "8e46af02",
   "metadata": {},
   "outputs": [
    {
     "data": {
      "text/plain": [
       "survived         0\n",
       "pclass           0\n",
       "sex              0\n",
       "age              0\n",
       "sibsp            0\n",
       "parch            0\n",
       "fare             0\n",
       "embarked         2\n",
       "class            0\n",
       "who              0\n",
       "adult_male       0\n",
       "deck           688\n",
       "embark_town      2\n",
       "alive            0\n",
       "alone            0\n",
       "dtype: int64"
      ]
     },
     "execution_count": 46,
     "metadata": {},
     "output_type": "execute_result"
    }
   ],
   "source": [
    "df.isnull().sum()"
   ]
  },
  {
   "cell_type": "code",
   "execution_count": 53,
   "id": "b7d685de",
   "metadata": {},
   "outputs": [],
   "source": [
    "## Mode Imputation"
   ]
  },
  {
   "cell_type": "code",
   "execution_count": 52,
   "id": "be8c402a",
   "metadata": {},
   "outputs": [
    {
     "data": {
      "text/plain": [
       "CategoricalDtype(categories=['A', 'B', 'C', 'D', 'E', 'F', 'G'], ordered=False)"
      ]
     },
     "execution_count": 52,
     "metadata": {},
     "output_type": "execute_result"
    }
   ],
   "source": [
    "df['deck'].dtype"
   ]
  },
  {
   "cell_type": "code",
   "execution_count": 57,
   "id": "d34be716",
   "metadata": {},
   "outputs": [],
   "source": [
    "mode_deck = df['deck'].mode()[0]"
   ]
  },
  {
   "cell_type": "code",
   "execution_count": 58,
   "id": "a4c3f023",
   "metadata": {},
   "outputs": [
    {
     "data": {
      "text/plain": [
       "'C'"
      ]
     },
     "execution_count": 58,
     "metadata": {},
     "output_type": "execute_result"
    }
   ],
   "source": [
    "mode_deck"
   ]
  },
  {
   "cell_type": "code",
   "execution_count": 59,
   "id": "51bbc160",
   "metadata": {},
   "outputs": [],
   "source": [
    "df['deck'].fillna(mode_deck,inplace=True)"
   ]
  },
  {
   "cell_type": "code",
   "execution_count": 60,
   "id": "264c343d",
   "metadata": {},
   "outputs": [
    {
     "data": {
      "text/plain": [
       "survived       0\n",
       "pclass         0\n",
       "sex            0\n",
       "age            0\n",
       "sibsp          0\n",
       "parch          0\n",
       "fare           0\n",
       "embarked       2\n",
       "class          0\n",
       "who            0\n",
       "adult_male     0\n",
       "deck           0\n",
       "embark_town    2\n",
       "alive          0\n",
       "alone          0\n",
       "dtype: int64"
      ]
     },
     "execution_count": 60,
     "metadata": {},
     "output_type": "execute_result"
    }
   ],
   "source": [
    "df.isnull().sum()"
   ]
  },
  {
   "cell_type": "markdown",
   "id": "a88949d2",
   "metadata": {},
   "source": [
    "## Q3"
   ]
  },
  {
   "cell_type": "markdown",
   "id": "7952fcd5",
   "metadata": {},
   "source": [
    "Imbalanced data refers to a situation in a classification problem where the classes you are trying to predict are not represented equally. In other words, one class (the minority class) has significantly fewer examples than the other class or classes (the majority class or classes). \n",
    "\n",
    "1. Model Bias: Machine learning models, especially traditional ones like logistic regression or decision trees, tend to be biased towards the majority class. Since they aim to maximize overall accuracy, they may predict the majority class for most cases, ignoring the minority class. This leads to a biased model that performs poorly on the minority class."
   ]
  },
  {
   "cell_type": "markdown",
   "id": "9df8feac",
   "metadata": {},
   "source": [
    "## Q4"
   ]
  },
  {
   "cell_type": "markdown",
   "id": "de5bbedb",
   "metadata": {},
   "source": [
    "Up-sampling and down-sampling are techniques used to address the issue of imbalanced data in machine learning. They are used when you have a dataset with significantly unequal representation of classes, i.e., one class (the minority class) has very few examples compared to another class (the majority class).\n",
    "\n",
    "1. Upsampling:\n",
    "    1. Up-sampling involves increasing the number of instances in the minority class to balance the dataset.\n",
    "    2. This is typically done by duplicating or generating synthetic samples for the minority class until its representation is closer to that of the majority class.\n",
    "    3. Example of Up-sampling:\n",
    "        1. Suppose you're working on a medical diagnosis task where you want to predict a rare disease. If you have a dataset with 1000 healthy patients (majority class) and only 50 patients with the disease (minority class), you might up-sample the minority class to have a similar number of samples as the majority class, say 1000, by creating synthetic samples or duplicating the existing ones.\n",
    "        \n",
    "2. Downsampling:\n",
    "    1. Down-sampling involves reducing the number of instances in the majority class to balance the dataset.\n",
    "    2. This is typically done by randomly removing samples from the majority class until its representation is closer to that of the minority class.\n",
    "    3. Example of Down-sampling:\n",
    "        1. Consider a credit card fraud detection task where the majority of transactions are legitimate, and only a small fraction is fraudulent. If you have a dataset with 100,000 legitimate transactions (majority class) and 500 fraudulent transactions (minority class), you might down-sample the majority class to have, say, 1000 samples, by randomly removing instances."
   ]
  },
  {
   "cell_type": "markdown",
   "id": "b3519f17",
   "metadata": {},
   "source": [
    "## Q5"
   ]
  },
  {
   "cell_type": "markdown",
   "id": "9bef690c",
   "metadata": {},
   "source": [
    "Data augmentation is a technique used in machine learning and data preprocessing to artificially increase the diversity and quantity of your training dataset by applying various transformations to the existing data. The goal is to create additional training examples that are similar to the original data but with slight variations, which can help improve the generalization and robustness of machine learning models.\n",
    "\n",
    "\n",
    "SMOTE (Synthetic Minority Over-sampling Technique) is a specific data augmentation technique designed to address the issue of imbalanced datasets in classification tasks. SMOTE generates synthetic samples for the minority class to balance the class distribution. "
   ]
  },
  {
   "cell_type": "markdown",
   "id": "fb29b01d",
   "metadata": {},
   "source": [
    "## Q6"
   ]
  },
  {
   "cell_type": "markdown",
   "id": "85cb84e7",
   "metadata": {},
   "source": [
    "Outliers in a dataset are data points or observations that significantly differ from the majority of the data. These data points are usually distant from the central tendency of the data, such as the mean or median.\n",
    "\n",
    "\n",
    "It is essential to handle outliers for several reasons:\n",
    "\n",
    "1. Data Quality: Outliers can be the result of errors in data collection, measurement, or entry. Removing or correcting these errors improves the overall quality of the dataset.\n",
    "2. Model Performance: Outliers can have a disproportionate impact on the performance of statistical models and machine learning algorithms. They can lead to model instability, overfitting, or bias in parameter estimates."
   ]
  },
  {
   "cell_type": "markdown",
   "id": "be00ea39",
   "metadata": {},
   "source": [
    "## Q7"
   ]
  },
  {
   "cell_type": "markdown",
   "id": "599c89ef",
   "metadata": {},
   "source": [
    "Handling missing data is a crucial step in data analysis, as missing values can lead to inaccurate or biased results. When you encounter missing data in a customer data analysis project, you can employ various techniques to handle it effectively.\n",
    "\n",
    "1. Imputation: \n",
    "    1. Mean Imputation\n",
    "    2. Median Imputation\n",
    "    3. Mode Imputation\n",
    "    \n",
    "2. Deletion (entire Rows)\n",
    "3. Predictive Modeling:\n",
    "    1. Build predictive models (e.g., regression, decision trees, or machine learning models) to estimate missing values based on other features in the dataset."
   ]
  },
  {
   "cell_type": "markdown",
   "id": "e4bbd8d4",
   "metadata": {},
   "source": [
    "## Q8"
   ]
  },
  {
   "cell_type": "markdown",
   "id": "ffb6e85c",
   "metadata": {},
   "source": [
    "When dealing with missing data in a large dataset, it's essential to determine whether the missing data is missing at random (MAR) or if there is a pattern to it. Understanding the missing data mechanism can help you decide on the appropriate strategies for handling the missing values.\n",
    "\n",
    "\n",
    "1. Visualization:\n",
    "    1. Create data visualizations such as heatmaps, scatter plots, or histograms to visualize the distribution of missing values across features. You can use libraries like Matplotlib, Seaborn, or Plotly.\n",
    "    2. Plot missing data patterns over time, if applicable, in time-series data.\n",
    "    \n",
    "2. Summary Statistics:\n",
    "    1. Calculate summary statistics for the missing and non-missing data separately to identify potential patterns. Compare means, medians, variances, and other relevant statistics.\n",
    "    2. Perform statistical tests (e.g., t-tests, chi-square tests) to check if there are significant differences between missing and non-missing groups."
   ]
  },
  {
   "cell_type": "markdown",
   "id": "7a685fc2",
   "metadata": {},
   "source": [
    "## Q9"
   ]
  },
  {
   "cell_type": "markdown",
   "id": "1901e437",
   "metadata": {},
   "source": [
    "When dealing with an imbalanced medical diagnosis dataset where the majority of patients do not have the condition of interest (positive class), and only a small percentage do, it's important to use appropriate strategies to evaluate the performance of your machine learning model. The standard accuracy metric may not be informative in such cases because the model could achieve high accuracy by simply predicting the majority class for all instances.\n",
    "\n",
    "\n",
    "1. Resampling Techniques:\n",
    "\n",
    "    1. Consider resampling techniques like oversampling the minority class or undersampling the majority class to balance the dataset before training the model.\n",
    "    2. Evaluate the model's performance on the balanced dataset and compare it to the original imbalanced dataset."
   ]
  },
  {
   "cell_type": "markdown",
   "id": "70b73cd5",
   "metadata": {},
   "source": [
    "## Q10"
   ]
  },
  {
   "cell_type": "markdown",
   "id": "65eba6ae",
   "metadata": {},
   "source": [
    "When dealing with an unbalanced dataset where the majority of customers report being satisfied, you can employ down-sampling techniques to balance the dataset. Down-sampling involves reducing the number of instances in the majority class to match the size of the minority class (customer dissatisfaction, in this case). Here are some common methods to down-sample the majority class:\n",
    "\n",
    "1. Random Under-Sampling:\n",
    "\n",
    "    1. Randomly remove a subset of instances from the majority class until it matches the size of the minority class.\n",
    "    2. While this method is simple, it may lead to a loss of valuable information if important patterns are present in the majority class."
   ]
  },
  {
   "cell_type": "markdown",
   "id": "c76dc3b0",
   "metadata": {},
   "source": [
    "## Q11"
   ]
  },
  {
   "cell_type": "markdown",
   "id": "7b29f46f",
   "metadata": {},
   "source": [
    "When working with an imbalanced dataset where the occurrence of a rare event is underrepresented, you can employ up-sampling techniques to balance the dataset by increasing the number of instances in the minority class. Up-sampling aims to create additional synthetic samples for the minority class to make it closer in size to the majority class. Here are some common methods to up-sample the minority class:\n",
    "\n",
    "1. SMOTE (Synthetic Minority Over-sampling Technique):\n",
    "\n",
    "    1. SMOTE generates synthetic samples by interpolating between existing minority class instances.\n",
    "    2. For each instance in the minority class, SMOTE selects k-nearest neighbors and creates new samples by blending the selected instance with one or more of its neighbors.\n",
    "    3. SMOTE can be effective in creating realistic synthetic samples and reducing overfitting "
   ]
  },
  {
   "cell_type": "code",
   "execution_count": null,
   "id": "d2ee5c71",
   "metadata": {},
   "outputs": [],
   "source": []
  }
 ],
 "metadata": {
  "kernelspec": {
   "display_name": "Python 3 (ipykernel)",
   "language": "python",
   "name": "python3"
  },
  "language_info": {
   "codemirror_mode": {
    "name": "ipython",
    "version": 3
   },
   "file_extension": ".py",
   "mimetype": "text/x-python",
   "name": "python",
   "nbconvert_exporter": "python",
   "pygments_lexer": "ipython3",
   "version": "3.11.5"
  }
 },
 "nbformat": 4,
 "nbformat_minor": 5
}
