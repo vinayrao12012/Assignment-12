{
 "cells": [
  {
   "cell_type": "markdown",
   "id": "d8a290c0",
   "metadata": {},
   "source": [
    "## Q1"
   ]
  },
  {
   "cell_type": "markdown",
   "id": "7296205b",
   "metadata": {},
   "source": [
    "1. Artificial Intelligence\n",
    "\n",
    "    1. Artificial Intelligence refers to the broader field of computer science that aims to create machines or systems capable of performing tasks that typically require human intelligence\n",
    "    2. Autonomous Vehicles: Self-driving cars employ AI to perceive their surroundings, make driving decisions, and navigate safely.\n",
    "    \n",
    "2. Machine Learning\n",
    "\n",
    "    1. Machine Learning is a subset of AI that focuses on developing algorithms and models that enable computers to learn from data and make predictions or decisions without being explicitly programmed. ML systems improve their performance over time as they are exposed to more data.\n",
    "    2. Recommendation Systems: Services like Netflix and Amazon use ML to suggest movies or products based on a user's past preferences and behaviors.\n",
    "    \n",
    "3. Deep Learning\n",
    "\n",
    "    1. Deep Learning is a subfield of ML that uses neural networks with multiple layers (deep neural networks) to model and solve complex tasks. These networks are inspired by the structure of the human brain and can automatically learn hierarchical representations of data.\n",
    "    2. Image Classification: Convolutional Neural Networks (CNNs), a type of deep learning model, can classify objects in images. For instance, identifying cats in photos or diagnosing diseases from medical images."
   ]
  },
  {
   "cell_type": "markdown",
   "id": "4920edfe",
   "metadata": {},
   "source": [
    "## Q2"
   ]
  },
  {
   "cell_type": "markdown",
   "id": "8d3cf694",
   "metadata": {},
   "source": [
    "Supervised learning is a type of machine learning in which an algorithm learns from labeled training data to make predictions or decisions. In supervised learning, the algorithm is provided with input-output pairs (features and corresponding target labels) during training. It learns to map the input data to the correct output by identifying patterns and relationships in the labeled examples. The goal is for the algorithm to make accurate predictions on new, unseen data.\n",
    "\n",
    "Examples\n",
    "\n",
    "1. Image Classification:\n",
    "    1. Given a dataset of images, each labeled with a specific object or category (e.g., cats, dogs, cars), a supervised learning algorithm can be trained to classify new images into these categories."
   ]
  },
  {
   "cell_type": "markdown",
   "id": "d28a65fe",
   "metadata": {},
   "source": [
    "## Q3"
   ]
  },
  {
   "cell_type": "markdown",
   "id": "22f8b7e0",
   "metadata": {},
   "source": [
    "Unsupervised learning is a type of machine learning where the algorithm is trained on a dataset without explicit supervision in the form of labeled output. In unsupervised learning, the algorithm tries to find patterns, structure, or relationships within the data without any predefined target variables. Instead, it seeks to group, cluster, or reduce the dimensionality of the data based on its inherent characteristics.\n",
    "\n",
    "Examples\n",
    "\n",
    "1. Clustering:\n",
    "    1. K-Means Clustering: This algorithm groups similar data points together into clusters. For example, it can be used to segment customers into different market segments based on their buying behavior without prior knowledge of the segments"
   ]
  },
  {
   "cell_type": "markdown",
   "id": "3d329a35",
   "metadata": {},
   "source": [
    "## Q4"
   ]
  },
  {
   "cell_type": "markdown",
   "id": "b513f4a7",
   "metadata": {},
   "source": [
    "1. Artificial Intelligence : AI is a broad field of computer science that focuses on creating systems or machines capable of performing tasks that require human intelligence, such as problem-solving, reasoning, learning, perception, and language understanding.\n",
    "\n",
    "2. Machine Learning : ML is a subset of AI that involves the use of algorithms and statistical models to enable computers to learn from data and make predictions or decisions without being explicitly programmed.\n",
    "\n",
    "3. Deep Learning :  DL is a subfield of ML that uses artificial neural networks with multiple layers (deep neural networks) to model and solve complex tasks. Deep learning algorithms automatically learn hierarchical representations of data.\n",
    "\n",
    "4. Data Science : Data Science is a multidisciplinary field that combines domain expertise, programming skills, and statistical knowledge to extract insights and knowledge from structured and unstructured data."
   ]
  },
  {
   "cell_type": "markdown",
   "id": "f2ad55e2",
   "metadata": {},
   "source": [
    "## Q5"
   ]
  },
  {
   "cell_type": "markdown",
   "id": "6004db4d",
   "metadata": {},
   "source": [
    "1. Supervised Learning :  In supervised learning, the algorithm is trained on a labeled dataset, which means each data point is associated with a target or output label.\n",
    "\n",
    "2. Unsupervised Learning :  In unsupervised learning, the algorithm is trained on an unlabeled dataset, which means there are no predefined output labels.\n",
    "\n",
    "3. Semi Supervised Learning :  Semi-supervised learning combines elements of both supervised and unsupervised learning. It uses a dataset that contains a mixture of labeled and unlabeled data."
   ]
  },
  {
   "cell_type": "markdown",
   "id": "3dade300",
   "metadata": {},
   "source": [
    "## Q6"
   ]
  },
  {
   "cell_type": "markdown",
   "id": "e17e566c",
   "metadata": {},
   "source": [
    "1. Training Data:\n",
    "    1. Purpose: The training set is the largest portion of the dataset, and it is used to train the machine learning model. The model learns patterns, relationships, and features from this set.\n",
    "    2. Importance: The training set is vital because it provides the data necessary for the model to learn and adjust its parameters. A well-trained model should generalize well to new, unseen data, so the quality and representativeness of the training data are critical.\n",
    "    \n",
    "2. Validation Data:\n",
    "    1. Purpose: The validation set is used to fine-tune the model's hyperparameters, such as learning rates, regularization strength, or the number of hidden layers in a neural network. It helps assess how well the model generalizes to data that it hasn't seen during training.\n",
    "    2. Importance: Without a separate validation set, it's challenging to optimize a model's hyperparameters effectively. The validation set acts as a proxy for unseen data and helps prevent overfitting (a situation where the model performs well on training data but poorly on new data).\n",
    "    \n",
    "3. Test Data:\n",
    "    1. Purpose: The test set is a completely independent dataset that the model has never seen during training or validation. It's used to evaluate the model's performance and assess how well it generalizes to new, unseen data.\n",
    "    2. Importance: The test set provides an unbiased evaluation of the model's performance. It measures how well the model can make predictions on real-world data that it hasn't encountered before. The test set results are a critical indicator of the model's ability to perform in a production or real-world setting."
   ]
  },
  {
   "cell_type": "markdown",
   "id": "7ad026eb",
   "metadata": {},
   "source": [
    "## Q7"
   ]
  },
  {
   "cell_type": "markdown",
   "id": "24076e3a",
   "metadata": {},
   "source": [
    "Unsupervised learning can be effectively used in anomaly detection by leveraging its ability to identify patterns and structures in data without relying on predefined labels.\n",
    "\n",
    "Clustering Algorithms: Techniques like K-Means or DBSCAN can group similar data points into clusters. Anomalies may then be identified as data points that do not belong to any cluster or are in small clusters."
   ]
  },
  {
   "cell_type": "markdown",
   "id": "d2b705d4",
   "metadata": {},
   "source": [
    "## Q8"
   ]
  },
  {
   "cell_type": "markdown",
   "id": "657b7cb5",
   "metadata": {},
   "source": [
    "Supervised Learning Algorithms:\n",
    "\n",
    "    1. Linear Regressions\n",
    "    2. Logistic Regression\n",
    "    3. Decision Trees\n",
    "    \n",
    "Unsupervised Learning Algorithms:\n",
    "\n",
    "    1. K-means clustering\n",
    "    2. Principal component analysis"
   ]
  },
  {
   "cell_type": "code",
   "execution_count": null,
   "id": "d949aabd",
   "metadata": {},
   "outputs": [],
   "source": []
  }
 ],
 "metadata": {
  "kernelspec": {
   "display_name": "Python 3 (ipykernel)",
   "language": "python",
   "name": "python3"
  },
  "language_info": {
   "codemirror_mode": {
    "name": "ipython",
    "version": 3
   },
   "file_extension": ".py",
   "mimetype": "text/x-python",
   "name": "python",
   "nbconvert_exporter": "python",
   "pygments_lexer": "ipython3",
   "version": "3.11.4"
  }
 },
 "nbformat": 4,
 "nbformat_minor": 5
}
