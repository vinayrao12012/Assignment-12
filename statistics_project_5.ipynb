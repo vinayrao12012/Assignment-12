{
 "cells": [
  {
   "cell_type": "markdown",
   "id": "e7146195",
   "metadata": {},
   "source": [
    "## Q1"
   ]
  },
  {
   "cell_type": "markdown",
   "id": "996005cb",
   "metadata": {},
   "source": [
    "1. Estimate Statistics : It is a specified observed numerical value used to estimate an unknown population parameter.\n",
    "2. point Estimate : A single numerical value used to estimate an unknown ppulation parameter.\n",
    "        Example : sample mean is the point estimate of the population parameter.\n",
    "        \n",
    "3. Interval Estimate: Range of values used to estimate an unknown population parameter.        \n",
    "\n",
    "    "
   ]
  },
  {
   "cell_type": "markdown",
   "id": "0818bd86",
   "metadata": {},
   "source": [
    "## Q2"
   ]
  },
  {
   "cell_type": "code",
   "execution_count": 1,
   "id": "4512c6af",
   "metadata": {},
   "outputs": [],
   "source": [
    "def estimate_population_mean(sample_mean, sample_standard_deviation, sample_size):\n",
    "    import numpy as np\n",
    "    \n",
    "    standard_error_of_mean = sample_standard_deviation / np.sqrt(sample_size)\n",
    "    estimated_population_mean = standard_error_of_mean + sample_mean\n",
    "    \n",
    "    return estimated_population_mean\n"
   ]
  },
  {
   "cell_type": "code",
   "execution_count": 4,
   "id": "70418a75",
   "metadata": {},
   "outputs": [
    {
     "name": "stdout",
     "output_type": "stream",
     "text": [
      "0.024284240666661766\n"
     ]
    }
   ],
   "source": [
    "import numpy as np\n",
    "random_sample = np.random.normal(loc = 0, scale = 1, size= 100)\n",
    "sample_mean = np.mean(random_sample)\n",
    "sample_std = np.std(random_sample)\n",
    "\n",
    "estimated_population_mean = estimate_population_mean(sample_mean, sample_std, 100)\n",
    "print(estimated_population_mean)"
   ]
  },
  {
   "cell_type": "markdown",
   "id": "0169ebe7",
   "metadata": {},
   "source": [
    "## Q3"
   ]
  },
  {
   "cell_type": "markdown",
   "id": "30da7c64",
   "metadata": {},
   "source": [
    "Hypothesis testing is a statistical method used in research and data analysis to make inferences about a population based on a sample of data.\n",
    "\n",
    "The primary goal of hypothesis testing is to determine whether there is enough evidence to support or reject the null hypothesis in favor of an alternative hypothesis (often symbolized as Ha or H1).\n",
    "\n",
    "Importance of Hypothesis Testing:\n",
    "\n",
    "    1. Scientific Inquiry: Hypothesis testing is fundamental to the scientific method. It helps researchers determine whether their hypotheses are supported by empirical evidence, which is crucial for advancing scientific knowledge.\n",
    "    \n",
    "    2. Quality Control: In manufacturing and industry, hypothesis testing is used to ensure product quality by assessing whether a manufacturing process is consistent and meets specified standards."
   ]
  },
  {
   "cell_type": "markdown",
   "id": "d64b73ed",
   "metadata": {},
   "source": [
    "## Q4"
   ]
  },
  {
   "cell_type": "markdown",
   "id": "ab16db73",
   "metadata": {},
   "source": [
    "1. Null Hypothesis (H0) : The average weight of male college students is equal to the average weight of female college students.\n",
    "\n",
    "2. Alternate Hypothesis (H1) : The average weight of male college students is greater than average weight of female college students."
   ]
  },
  {
   "cell_type": "markdown",
   "id": "0e6ccf3d",
   "metadata": {},
   "source": [
    "## Q5"
   ]
  },
  {
   "cell_type": "code",
   "execution_count": 5,
   "id": "eca8970a",
   "metadata": {},
   "outputs": [
    {
     "name": "stdout",
     "output_type": "stream",
     "text": [
      "Sample 1 Mean: 95.3\n",
      "Sample 2 Mean: 87.5\n",
      "Test Statistic (t): 1.3701793617019273\n",
      "P-value: 0.18747963421211497\n",
      "Fail to reject the null hypothesis: There is no significant difference between the population means.\n"
     ]
    }
   ],
   "source": [
    "import numpy as np\n",
    "from scipy import stats\n",
    "\n",
    "\n",
    "sample1 = np.array([78, 85, 88, 92, 95, 98, 100, 102, 105, 110])\n",
    "sample2 = np.array([65, 70, 75, 80, 85, 90, 95, 100, 105, 110])\n",
    "\n",
    "alpha = 0.05\n",
    "\n",
    "t_statistic, p_value = stats.ttest_ind(sample1, sample2)\n",
    "\n",
    "print(\"Sample 1 Mean:\", np.mean(sample1))\n",
    "print(\"Sample 2 Mean:\", np.mean(sample2))\n",
    "print(\"Test Statistic (t):\", t_statistic)\n",
    "print(\"P-value:\", p_value)\n",
    "\n",
    "# Compare the p-value to the significance level\n",
    "if p_value < alpha:\n",
    "    print(\"Reject the null hypothesis: There is a significant difference between the population means.\")\n",
    "else:\n",
    "    print(\"Fail to reject the null hypothesis: There is no significant difference between the population means.\")\n"
   ]
  },
  {
   "cell_type": "markdown",
   "id": "86d9ca22",
   "metadata": {},
   "source": [
    "## Q6"
   ]
  },
  {
   "cell_type": "markdown",
   "id": "4ab19672",
   "metadata": {},
   "source": [
    "1. Null Hypothesis:\n",
    "    1. The null hypothesis is the default or status quo assumption.\n",
    "    2. It typically represents a statement of no effect, no difference, or no association.\n",
    "    \n",
    "    Examples of Null HYpothesis:\n",
    "    \n",
    "        1. The average height of male adults is equal to 175 centimeters.\n",
    "        2. There is no difference in test scores between two teaching methods.\n",
    "\n",
    "\n",
    "2. Alternate Hypothesis:\n",
    "    1. The alternative hypothesis is the statement that you want to test or the assertion that there is an effect, difference, or association in the population.\n",
    "    2. It contradicts the null hypothesis and represents the researcher's hypothesis or research question.\n",
    "    \n",
    "    Examples of Alternate Hypothesis:\n",
    "    \n",
    "        1. The average height of male adults is not equal to 175 centimeters.\n",
    "        2. There is a difference in test scores between two teaching methods.\n"
   ]
  },
  {
   "cell_type": "markdown",
   "id": "6c045c9a",
   "metadata": {},
   "source": [
    "## Q7"
   ]
  },
  {
   "cell_type": "markdown",
   "id": "278838fe",
   "metadata": {},
   "source": [
    "1. Formulate Hypothesis\n",
    "    1. Null HYpothesis\n",
    "    2. Alternate HYpothesis\n",
    "2. select a significance level\n",
    "3. Collect Data\n",
    "4. Choose a statistical test.\n",
    "5. Calculate a Test Statistic.\n",
    "6. Compute the Test Statistic's Probability (p-value).\n",
    "7. Compare the p-value to alpha.\n",
    "8. Draw a conclusion."
   ]
  },
  {
   "cell_type": "markdown",
   "id": "f09e310f",
   "metadata": {},
   "source": [
    "## Q8"
   ]
  },
  {
   "cell_type": "markdown",
   "id": "104497e5",
   "metadata": {},
   "source": [
    "The p-value, short for \"probability value,\" is a crucial concept in hypothesis testing. It is a statistical measure that quantifies the strength of evidence against the null hypothesis (H0) based on the observed data. The p-value represents the probability of obtaining a test statistic as extreme as, or more extreme than, the one computed from the sample data, assuming that the null hypothesis is true.\n",
    "\n",
    "Significance : \n",
    "\n",
    "1. Low p-value (p<alpha):\n",
    "    \n",
    "    1. If the calculated p-value is less than or equal to the chosen significance level (α), typically set at 0.05 or 0.01, it suggests that the observed results are unlikely to have occurred due to random chance alone.\n",
    "    2. In this case, you would typically reject the null hypothesis (H0) in favor of the alternative hypothesis (Ha or H1).\n",
    "    3. A low p-value indicates strong evidence against the null hypothesis and suggests that there is a statistically significant effect, difference, or relationship in the data.\n",
    "    \n",
    "    \n",
    "2. High p-value (p > alpha):\n",
    "\n",
    "    1. If the calculated p-value is greater than the chosen significance level (α), it suggests that the observed results could plausibly occur due to random variability.\n",
    "    2. In this case, you would fail to reject the null hypothesis.\n",
    "    3. A high p-value implies a lack of evidence to support the alternative hypothesis, indicating that the observed results are not statistically significant.\n"
   ]
  },
  {
   "cell_type": "markdown",
   "id": "6cc2afb4",
   "metadata": {},
   "source": [
    "## Q9"
   ]
  },
  {
   "cell_type": "code",
   "execution_count": 7,
   "id": "543cacd4",
   "metadata": {},
   "outputs": [
    {
     "data": {
      "image/png": "[encoded data removed]",
      "text/plain": [
       "<Figure size 800x500 with 1 Axes>"
      ]
     },
     "metadata": {},
     "output_type": "display_data"
    }
   ],
   "source": [
    "import numpy as np\n",
    "import matplotlib.pyplot as plt\n",
    "import scipy.stats as stats\n",
    "\n",
    "df = 10\n",
    "\n",
    "x = np.linspace(-4, 4, 1000) \n",
    "\n",
    "pdf_values = stats.t.pdf(x, df)\n",
    "\n",
    "plt.figure(figsize=(8, 5))\n",
    "plt.plot(x, pdf_values, label=f'Student\\'s t-distribution (df={df})', color='b')\n",
    "plt.title(f'Student\\'s t-distribution (df={df})')\n",
    "plt.xlabel('x')\n",
    "plt.ylabel('PDF')\n",
    "plt.legend()\n",
    "plt.grid(True)\n",
    "\n",
    "plt.show()\n"
   ]
  },
  {
   "cell_type": "markdown",
   "id": "1a8e36b5",
   "metadata": {},
   "source": [
    "## Q10"
   ]
  },
  {
   "cell_type": "code",
   "execution_count": 9,
   "id": "60963cc2",
   "metadata": {},
   "outputs": [
    {
     "name": "stdout",
     "output_type": "stream",
     "text": [
      "Sample 1 Mean: 100.47778819383868\n",
      "Sample 2 Mean: 101.0827947564839\n",
      "Test Statistic (t): -0.22086867670546806\n",
      "P-value: 0.8259703779576085\n",
      "Fail to reject the hypothesis\n"
     ]
    }
   ],
   "source": [
    "import numpy as np\n",
    "from scipy import stats\n",
    "\n",
    "sample_size = 30\n",
    "sample1 = np.random.normal(100,10,sample_size)\n",
    "sample2 = np.random.normal(105,10,sample_size)\n",
    "\n",
    "alpha_value = 0.05\n",
    "t_statistics, p_value = stats.ttest_ind(sample1,sample2)\n",
    "\n",
    "print(\"Sample 1 Mean:\", np.mean(sample1))\n",
    "print(\"Sample 2 Mean:\", np.mean(sample2))\n",
    "print(\"Test Statistic (t):\", t_statistics)\n",
    "print(\"P-value:\", p_value)\n",
    "\n",
    "if p_value < alpha :\n",
    "    print(\"Reject the Null Hypothesis\")\n",
    "else:\n",
    "    print(\"Fail to reject the hypothesis\")"
   ]
  },
  {
   "cell_type": "markdown",
   "id": "db11bca8",
   "metadata": {},
   "source": [
    "## Q11"
   ]
  },
  {
   "cell_type": "markdown",
   "id": "15f02ff2",
   "metadata": {},
   "source": [
    "Student's t-distribution, often referred to simply as the t-distribution, is a probability distribution that plays a crucial role in statistics, particularly in hypothesis testing and confidence interval estimation. It is used when the sample size is small, and the population standard deviation is unknown. The t-distribution is similar in shape to the standard normal (z) distribution but has heavier tails, making it more suitable for dealing with uncertainty in small samples.\n",
    "\n",
    "when to use:\n",
    "\n",
    "1. Small Sample Sizes: The t-distribution is especially useful when dealing with small samples (typically when n < 30). In such cases, the sample standard deviation is often used as an estimate of the population standard deviation, and the t-distribution accounts for the additional uncertainty introduced by using the sample standard deviation instead of the population standard deviation.\n",
    "\n",
    "\n",
    "2. Population Standard Deviation Unknown: When the population standard deviation is unknown, the t-distribution is used for inference in both small and large samples. The z-distribution (standard normal distribution) is appropriate only when the population standard deviation is known."
   ]
  },
  {
   "cell_type": "markdown",
   "id": "c98aabb0",
   "metadata": {},
   "source": [
    "## Q12"
   ]
  },
  {
   "cell_type": "markdown",
   "id": "8ea2b98e",
   "metadata": {},
   "source": [
    "The t-statistic (also known as the Student's t-statistic) is a statistical measure used in hypothesis testing to assess whether the means of two groups are significantly different from each other, or to test whether a sample mean is significantly different from a known population mean. It quantifies the difference between the sample statistic (usually a sample mean) and the population parameter (the hypothesized population mean) while taking into account the variability in the data.\n",
    "\n",
    "Formula for One-Sample-T-test:\n",
    "\n",
    "t = ((sample_mean) - (population_mean)) * math.sqrt(n) / sample_std_dev\n"
   ]
  },
  {
   "cell_type": "markdown",
   "id": "ce7218bc",
   "metadata": {},
   "source": [
    "## Q13"
   ]
  },
  {
   "cell_type": "markdown",
   "id": "29732509",
   "metadata": {},
   "source": [
    "To estimate the population mean revenue with a 95% confidence interval, you can use the formula for the confidence interval for a population mean when the sample size is sufficiently large (typically when n > 30) and the population standard deviation is known:\n",
    "\n",
    "CI = (sample_mean) +-( (z * population standard deviation)/ sqrt(sample_size) )\n",
    "\n",
    "\n",
    "\n",
    "Given:\n",
    "\n",
    "    1. sample_size = 50\n",
    "    2. sample_mean = 500\n",
    "    3. population standard deviation = 50\n",
    "    4. CI = 95%\n",
    "    5. alpha = 0.05\n",
    "    \n",
    "You also need to find the critical value (\n",
    "Z) for a 95% confidence level. For a 95% confidence interval, \n",
    "Z corresponds to the 97.5th percentile of the standard normal distribution since you want to capture 95% of the data in the middle (with 2.5% in each tail).\n",
    "\n",
    "Using a standard normal distribution table, you can find that \n",
    "Z for the 97.5th percentile is approximately 1.96\n",
    "\n",
    "Now plug these values into formulas\n",
    "\n",
    "So, the 95% confidence interval for the population mean revenue is approximately 486.11 to 513.89."
   ]
  },
  {
   "cell_type": "markdown",
   "id": "d4e7c1fa",
   "metadata": {},
   "source": [
    "## Q14"
   ]
  },
  {
   "cell_type": "markdown",
   "id": "325c0023",
   "metadata": {},
   "source": [
    "To test the hypothesis that a new drug decreases blood pressure by 10 mmHg, you can conduct a one-sample t-test. The null hypothesis (H0)\n",
    "  is that the drug does not decrease blood pressure by 10 mmHg, and the alternative hypothesis (H1) is that the drug does decrease blood pressure by 10 mmHg.\n",
    "  \n",
    "  \n",
    "Sample_mean = 8 mmhg\n",
    "sample_size = 100\n",
    "sample_standard_deviation = 3 mmhg\n",
    "CI = 95%\n",
    "\n",
    "\n",
    "Lets calculate t -value\n",
    "\n",
    "Now, we need to find the critical value for a one-tailed test with a significance level of 0.05 and 99 degrees of freedom (n−1).\n",
    "\n",
    "Using a t-distribution table or calculator, you can find that the critical t-value is approximately -1.660 (for a one-tailed test with 99 degrees of freedom and \n",
    "0.05\n",
    "α=0.05).\n",
    "\n",
    "Since the calculated t-statistic (-6.67) is much less than the critical t-value (-1.660), we can reject the null hypothesis (H0).\n",
    "\n",
    "Therefore, at a significance level of 0.05, there is strong evidence to suggest that the new drug decreases blood pressure by more than 10 mmHg.\n",
    "\n",
    "\n",
    "\n",
    "\n"
   ]
  },
  {
   "cell_type": "markdown",
   "id": "70b7f800",
   "metadata": {},
   "source": [
    "## Q15"
   ]
  },
  {
   "cell_type": "markdown",
   "id": "a8a40cb5",
   "metadata": {},
   "source": [
    "To test the hypothesis that the true mean weight of the products is less than 5 pounds, you can conduct a one-sample t-test. The null hypothesis (H0) is that the true mean weight is 5 pounds, and the alternative hypothesis (H1) is that the true mean weight is less than 5 pounds.\n",
    "\n",
    "\n",
    "Given:\n",
    "\n",
    "1. population Mean = 5\n",
    "2. population standard deviation = 0.5\n",
    "3. sample_size = 25\n",
    "4. sample mean = 4.8\n",
    "5. CI = 99%\n",
    "\n",
    "Now, we need to find the critical t-value for a one-tailed test with a significance level of 0.01 and 24 degrees of freedom (n−1).\n",
    "\n",
    "Using a t-distribution table or calculator, you can find that the critical t-value is approximately -2.492 (for a one-tailed test with 24 degrees of freedom and \n",
    "0.01\n",
    "α=0.01).\n",
    "\n",
    "Since the calculated t-statistic (-2) is greater (in magnitude) than the critical t-value (-2.492), we can reject the null hypothesis ().\n",
    "\n",
    "Therefore, at a significance level of 0.01, there is evidence to suggest that the true mean weight of the products is less than 5 pounds."
   ]
  },
  {
   "cell_type": "markdown",
   "id": "ef64cc60",
   "metadata": {},
   "source": [
    "## Q16"
   ]
  },
  {
   "cell_type": "markdown",
   "id": "90cd4ca5",
   "metadata": {},
   "source": [
    "To test the hypothesis that the population means for the two groups are equal, you can conduct a two-sample t-test for independent samples. The null hypothesis (H0) is that the population means are equal, and the alternative hypothesis (H1) is that they are not equal.\n",
    "\n",
    "For Group 1:\n",
    "sample_size = 30\n",
    "sample mean = 80\n",
    "sample standard deviation = 10\n",
    "\n",
    "For Group 2:\n",
    "sample_size = 40\n",
    "sample mean = 75\n",
    "sample standard deviation = 10\n",
    "\n",
    "We can perform the two-sample t-test using the  formula\n",
    "\n",
    "Now, we need to find the critical t-value for a two-tailed test with a significance level of 0.01 and degrees of freedom (\n",
    "df) equal to the smaller of (n1 - 1) and (n2 -1 ). In this case, \n",
    "\n",
    "df is 29 (the smaller of 29 and 39).\n",
    "\n",
    "Using a t-distribution table or calculator, you can find the critical t-value for a two-tailed test with \n",
    "0.005\n",
    "α/2=0.005. The critical t-value is approximately \n",
    "±\n",
    "2.756.\n",
    "\n",
    "Since the calculated t-statistic (2.25) is less than the critical t-value (2.756) in magnitude, we fail to reject the null hypothesis (H0).\n",
    "\n",
    "Therefore, at a significance level of 0.01, there is not enough evidence to conclude that the population means for the two groups are different."
   ]
  },
  {
   "cell_type": "markdown",
   "id": "e5cb6d4a",
   "metadata": {},
   "source": [
    "## Q17"
   ]
  },
  {
   "cell_type": "markdown",
   "id": "547fa986",
   "metadata": {},
   "source": [
    "To estimate the population mean with a 99% confidence interval, you can use the formula for the confidence interval for a population mean when the sample size is sufficiently large (typically when n > 30) and the population standard deviation is unknown.\n",
    "\n",
    "CI = (sample mean) +- ((t * sample standard deviation) / sqrt(sample size))\n",
    "\n",
    "Given\n",
    "1. Sample mean\n",
    "2. sample size\n",
    "3. sample standard deviation\n",
    "4. CI\n",
    "\n",
    "\n",
    "You need to find the critical value (\n",
    "t) for a 99% confidence level. For a 99% confidence interval, \n",
    "\n",
    "t corresponds to the 99.5th percentile of the t-distribution with \n",
    "\n",
    "n−1 degrees of freedom (49\n",
    "n−1=50−1=49). You can find this value using a t-distribution table or calculator.\n",
    "\n",
    "Using a t-distribution table or calculator, you can find that the critical t-value is approximately 2.678 (for a two-tailed test with 49 degrees of freedom and\n",
    "0.005\n",
    "α=0.01/2=0.005 on each tail).\n",
    "\n",
    "On using confidence interval\n",
    "\n",
    "So, the 99% confidence interval for the population mean number of ads watched by viewers during a TV program is approximately 3.430 to 4.570.\n",
    "\n",
    "This means that you can be 99% confident that the true average number of ads watched by viewers falls within this interval based on your sample data.\n"
   ]
  },
  {
   "cell_type": "code",
   "execution_count": null,
   "id": "39bb8525",
   "metadata": {},
   "outputs": [],
   "source": []
  }
 ],
 "metadata": {
  "kernelspec": {
   "display_name": "Python 3 (ipykernel)",
   "language": "python",
   "name": "python3"
  },
  "language_info": {
   "codemirror_mode": {
    "name": "ipython",
    "version": 3
   },
   "file_extension": ".py",
   "mimetype": "text/x-python",
   "name": "python",
   "nbconvert_exporter": "python",
   "pygments_lexer": "ipython3",
   "version": "3.11.4"
  }
 },
 "nbformat": 4,
 "nbformat_minor": 5
}
