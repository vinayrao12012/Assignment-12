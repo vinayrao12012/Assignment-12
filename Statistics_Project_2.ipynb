{
 "cells": [
  {
   "cell_type": "markdown",
   "id": "f2890342",
   "metadata": {},
   "source": [
    "## Q1"
   ]
  },
  {
   "cell_type": "markdown",
   "id": "c380b0dc",
   "metadata": {},
   "source": [
    "The three measures of central tendency :\n",
    "\n",
    "    1. Mean\n",
    "    2. Median\n",
    "    3. Mode"
   ]
  },
  {
   "cell_type": "markdown",
   "id": "c8b29e5b",
   "metadata": {},
   "source": [
    "## Q2"
   ]
  },
  {
   "cell_type": "markdown",
   "id": "0e5b01fb",
   "metadata": {},
   "source": [
    "Mean, median, and mode are three different measures of central tendency used to describe the center or typical value of a dataset.\n",
    "\n",
    "1. Mean : The mean, often referred to as the average, is calculated by adding up all the values in a dataset and dividing by the total number of values.\n",
    "\n",
    "2. Median : The median is the middle value in a dataset when the data is ordered in ascending or descending order. If there's an even number of data points, it's the average of the two middle values.\n",
    "\n",
    "3. Mode : The mode is the value that occurs most frequently in a dataset.\n",
    "\n",
    "\n",
    "How They Measure Central Tendency:\n",
    "\n",
    "\n",
    "1. Mean: The mean provides a measure of central tendency by finding the balance point of the data. It considers all values and can be influenced by extreme values. It's useful for data with a symmetric distribution.\n",
    "\n",
    "\n",
    "2. Median: The median measures central tendency by finding the middle value of the ordered dataset. It's not influenced by extreme values and is appropriate for skewed distributions or data with outliers.\n",
    "\n",
    "\n",
    "3. Mode : The mode identifies the most frequent values in the dataset, offering insight into the most typical category or value. It's used for both nominal and continuous data and can provide information about the peak in the distribution."
   ]
  },
  {
   "cell_type": "markdown",
   "id": "85988abe",
   "metadata": {},
   "source": [
    "## Q3"
   ]
  },
  {
   "cell_type": "code",
   "execution_count": 6,
   "id": "dad48865",
   "metadata": {},
   "outputs": [
    {
     "name": "stdout",
     "output_type": "stream",
     "text": [
      "Mean:  177.01875\n",
      "Median:  177.0\n",
      "Mode:  ModeResult(mode=array([177.]), count=array([3]))\n"
     ]
    },
    {
     "name": "stderr",
     "output_type": "stream",
     "text": [
      "/tmp/ipykernel_14654/594747693.py:7: FutureWarning: Unlike other reduction functions (e.g. `skew`, `kurtosis`), the default behavior of `mode` typically preserves the axis it acts along. In SciPy 1.11.0, this behavior will change: the default value of `keepdims` will become False, the `axis` over which the statistic is taken will be eliminated, and the value None will no longer be accepted. Set `keepdims` to True or False to avoid this warning.\n",
      "  cal_mode = stats.mode(lst)\n"
     ]
    }
   ],
   "source": [
    "import numpy as np\n",
    "from scipy import stats \n",
    "\n",
    "lst =  [178,177,176,177,178.2,178,175,179,180,175,178.9,176.2,177,172.5,178,176.5]\n",
    "cal_mean = np.mean(lst)\n",
    "cal_median = np.median(lst)\n",
    "cal_mode = stats.mode(lst)\n",
    "print(\"Mean: \",cal_mean)\n",
    "print(\"Median: \",cal_median)\n",
    "print(\"Mode: \",cal_mode)"
   ]
  },
  {
   "cell_type": "markdown",
   "id": "663c0922",
   "metadata": {},
   "source": [
    "## Q4"
   ]
  },
  {
   "cell_type": "code",
   "execution_count": 7,
   "id": "2fc8b60d",
   "metadata": {},
   "outputs": [
    {
     "name": "stdout",
     "output_type": "stream",
     "text": [
      "Standard Deviation:  1.7885814036548633\n"
     ]
    }
   ],
   "source": [
    "heights = [178,177,176,177,178.2,178,175,179,180,175,178.9,176.2,177,172.5,178,176.5]\n",
    "cal_std = np.std(heights)\n",
    "print(\"Standard Deviation: \",cal_std)"
   ]
  },
  {
   "cell_type": "markdown",
   "id": "cef5234c",
   "metadata": {},
   "source": [
    "## Q5"
   ]
  },
  {
   "cell_type": "markdown",
   "id": "37209641",
   "metadata": {},
   "source": [
    "Measures of dispersion, including range, variance, and standard deviation, are used to describe the spread or variability within a dataset. They provide insights into how data points are distributed around the central tendency (mean, median, or mode).\n",
    "\n",
    "1. Range:\n",
    "\n",
    "Definition : The range is the simplest measure of dispersion and represents the difference between the maximum and minimum values in a dataset.\n",
    "\n",
    "Use: The range provides a basic understanding of how spread out the data is. It's easy to calculate but is sensitive to extreme values (outliers).\n",
    "\n",
    "\n",
    "2. Variance:\n",
    "\n",
    "Definition : Variance measures the average of the squared differences between each data point and the mean.\n",
    "\n",
    "Use :  Variance quantifies how data points deviate from the mean. A larger variance indicates greater dispersion.\n",
    "\n",
    "\n",
    "3. Standart Deviation :\n",
    "\n",
    "Definition : The standard deviation is the square root of the variance and measures the average deviation from the mean in the original units of the data.\n",
    "\n",
    "Use : Standard deviation provides a measure of the typical deviation from the mean. It's commonly used for interpretation because it's in the same units as the data.\n"
   ]
  },
  {
   "cell_type": "markdown",
   "id": "fcb90e3f",
   "metadata": {},
   "source": [
    "## Q6"
   ]
  },
  {
   "cell_type": "markdown",
   "id": "bd464a80",
   "metadata": {},
   "source": [
    "A Venn diagram is a visual representation used to depict the relationships and commonalities between different sets or groups of items. It consists of overlapping circles, each representing a distinct set, and the areas of overlap represent the elements shared between those sets."
   ]
  },
  {
   "cell_type": "markdown",
   "id": "6d84cafa",
   "metadata": {},
   "source": [
    "## Q7"
   ]
  },
  {
   "cell_type": "code",
   "execution_count": 10,
   "id": "8aec5546",
   "metadata": {},
   "outputs": [
    {
     "data": {
      "text/plain": [
       "array([ 0,  2,  3,  4,  5,  6,  7,  8, 10])"
      ]
     },
     "execution_count": 10,
     "metadata": {},
     "output_type": "execute_result"
    }
   ],
   "source": [
    "import numpy as np\n",
    "A = (2,3,4,5,6,7)\n",
    "B = (0,2,6,8,10)\n",
    "\n",
    "union_result = np.union1d(A,B)\n",
    "union_result"
   ]
  },
  {
   "cell_type": "code",
   "execution_count": 11,
   "id": "4f4b0432",
   "metadata": {},
   "outputs": [
    {
     "data": {
      "text/plain": [
       "array([2, 6])"
      ]
     },
     "execution_count": 11,
     "metadata": {},
     "output_type": "execute_result"
    }
   ],
   "source": [
    "intersection_result = np.intersect1d(A,B)\n",
    "intersection_result"
   ]
  },
  {
   "cell_type": "markdown",
   "id": "30de3297",
   "metadata": {},
   "source": [
    "## Q8"
   ]
  },
  {
   "cell_type": "markdown",
   "id": "7393d75e",
   "metadata": {},
   "source": [
    "Skewness is a statistical measure that quantifies the asymmetry or lack of symmetry in the distribution of data. It provides insights into the shape of a dataset's probability distribution or frequency distribution. In essence, skewness tells us whether the data is skewed to the left (negatively skewed), skewed to the right (positively skewed), or roughly symmetrical (normally distributed)."
   ]
  },
  {
   "cell_type": "markdown",
   "id": "a01976fc",
   "metadata": {},
   "source": [
    "## Q9"
   ]
  },
  {
   "cell_type": "markdown",
   "id": "a4add6d5",
   "metadata": {},
   "source": [
    "1. In a right-skewed distribution, where the tail is on the right and there are relatively few high values, the mean is typically greater than the median.\n",
    "\n",
    "2. The median, being robust to outliers, is a better representation of the central tendency of the data in such cases.\n",
    "\n",
    "3. In graphical terms, in a right-skewed distribution, you'll often see the following arrangement from left to right: Median < Mean."
   ]
  },
  {
   "cell_type": "markdown",
   "id": "c3bb88e6",
   "metadata": {},
   "source": [
    "## Q10"
   ]
  },
  {
   "cell_type": "markdown",
   "id": "4b871a0c",
   "metadata": {},
   "source": [
    "Covariance :\n",
    "\n",
    "1. Definition: Covariance measures the degree to which two random variables change together. It indicates whether an increase in one variable corresponds to an increase or decrease in the other variable.\n",
    "\n",
    "2. Covariance can take any real values,Covariance doesnot have a specific limit value.Therefore, the magnitude of covariance is not standardized and can be challenging to interpret.\n",
    "\n",
    "3. A positive covariance indicates a positive relationship, meaning that as one variable increases, the other tends to increase as well, and vice versa. A negative covariance indicates a negative relationship, where one variable tends to decrease as the other increases. A covariance of zero suggests no linear relationship, but it does not imply independence.\n",
    "\n",
    "\n",
    "Correalation:\n",
    "\n",
    "1. Definition: Correlation is a standardized measure that quantifies the strength and direction of the linear relationship between two random variables. It is designed to provide a consistent way to assess the strength of relationships regardless of the scale of the variables.\n",
    "\n",
    "2.  Correlation coefficients range between -1 and 1, where -1 represents a perfect negative linear relationship, 1 represents a perfect positive linear relationship, and 0 indicates no linear relationship. The scale is standardized, making it easy to interpret.\n",
    "\n",
    "3. A positive correlation (ρ > 0) indicates that as one variable increases, the other tends to increase, while a negative correlation (ρ < 0) suggests that as one variable increases, the other tends to decrease. A correlation of 0 implies no linear relationship.\n"
   ]
  },
  {
   "cell_type": "markdown",
   "id": "119ec5d7",
   "metadata": {},
   "source": [
    "## Q11"
   ]
  },
  {
   "cell_type": "markdown",
   "id": "0ed511c4",
   "metadata": {},
   "source": [
    "sample mean = Summation (data points x) / n(Total number of data points)\n",
    " "
   ]
  },
  {
   "cell_type": "code",
   "execution_count": 12,
   "id": "ad0fc76b",
   "metadata": {},
   "outputs": [
    {
     "name": "stdout",
     "output_type": "stream",
     "text": [
      "Mean :  177.01875\n"
     ]
    }
   ],
   "source": [
    "lst =  [178,177,176,177,178.2,178,175,179,180,175,178.9,176.2,177,172.5,178,176.5]\n",
    "mean = sum(lst) / len(lst)\n",
    "print(\"Mean : \",mean)"
   ]
  },
  {
   "cell_type": "markdown",
   "id": "0734f28f",
   "metadata": {},
   "source": [
    "## Q12"
   ]
  },
  {
   "cell_type": "markdown",
   "id": "08a973ec",
   "metadata": {},
   "source": [
    "For a normal Distribution:\n",
    "\n",
    "Mean = Median = Mode"
   ]
  },
  {
   "cell_type": "markdown",
   "id": "6edf9b00",
   "metadata": {},
   "source": [
    "## Q13"
   ]
  },
  {
   "cell_type": "markdown",
   "id": "c42ed122",
   "metadata": {},
   "source": [
    "Covariance measures the direction of the linear relationship between variables but is not standardized and can have any value.\n",
    "\n",
    "Correlation is a standardized measure that quantifies both the strength and direction of the linear relationship, making it easier to interpret and compare across datasets.\n"
   ]
  },
  {
   "cell_type": "markdown",
   "id": "4ac3543b",
   "metadata": {},
   "source": [
    "## Q14"
   ]
  },
  {
   "cell_type": "markdown",
   "id": "c36d6ab0",
   "metadata": {},
   "source": [
    "Outliers can significantly affect measures of central tendency (mean, median, and mode) and measures of dispersion (range, variance, and standard deviation) in a dataset. An outlier is an observation that deviates significantly from the rest of the data, and it can distort the summary statistics of a dataset.\n",
    "\n",
    "\n",
    "Measures of central Tendency:\n",
    "\n",
    "1. Mean : Outliers can have a substantial impact on the mean. If there are extreme values in the dataset, they can pull the mean towards them. In the presence of positive outliers (very high values) or negative outliers (very low values), the mean may not accurately represent the typical value.\n",
    "\n",
    "2. Example: Consider the following dataset of exam scores: [75, 80, 85, 88, 90, 95, 20]. The presence of the outlier \"20\" significantly lowers the mean, which would otherwise be around 85.\n"
   ]
  },
  {
   "cell_type": "code",
   "execution_count": 19,
   "id": "eafefb9d",
   "metadata": {},
   "outputs": [
    {
     "name": "stdout",
     "output_type": "stream",
     "text": [
      "76.14285714285714\n"
     ]
    }
   ],
   "source": [
    "import numpy as np\n",
    "exam_scores = [75, 80, 85, 88, 90, 95, 20]\n",
    "mean = np.mean(exam_scores)\n",
    "print(mean)"
   ]
  },
  {
   "cell_type": "markdown",
   "id": "cd14a401",
   "metadata": {},
   "source": [
    "1. Median : The median is less affected by outliers compared to the mean. It represents the middle value when data is ordered and is robust to extreme values. Outliers may shift the median slightly but not to the same extent as the mean.\n",
    "\n",
    "2. Example: Using the same dataset, the median remains relatively unaffected by the outlier and is still close to the middle value of the sorted data, which is around 85."
   ]
  },
  {
   "cell_type": "code",
   "execution_count": 20,
   "id": "0199c264",
   "metadata": {},
   "outputs": [
    {
     "name": "stdout",
     "output_type": "stream",
     "text": [
      "85.0\n"
     ]
    }
   ],
   "source": [
    "import numpy as np\n",
    "exam_scores = [75, 80, 85, 88, 90, 95, 20]\n",
    "median = np.median(exam_scores)\n",
    "print(median)"
   ]
  },
  {
   "cell_type": "markdown",
   "id": "5f7ff8de",
   "metadata": {},
   "source": [
    "1. Mode: The mode is the most frequent value in the dataset. Outliers typically do not affect the mode unless they occur frequently enough to change the most common value.\n",
    "\n",
    "2. Example: The outlier \"20\" does not impact the mode, as it is not the most frequent value in the dataset."
   ]
  },
  {
   "cell_type": "markdown",
   "id": "2cf64c81",
   "metadata": {},
   "source": [
    "Measure the Dispersion:\n",
    "\n",
    "1. Range: Outliers can significantly impact the range because the range is defined by the difference between the maximum and minimum values. If an outlier is an extreme value, it can widen the range considerably.\n",
    "\n",
    "2. Example: In the exam scores dataset with the outlier \"20,\" the range is much larger due to the presence of the outlier."
   ]
  },
  {
   "cell_type": "code",
   "execution_count": 21,
   "id": "4a53eb78",
   "metadata": {},
   "outputs": [
    {
     "name": "stdout",
     "output_type": "stream",
     "text": [
      "Range :  75\n"
     ]
    }
   ],
   "source": [
    "exam_scores = [75, 80, 85, 88, 90, 95, 20]\n",
    "maximum = max(exam_scores)\n",
    "minimum = min(exam_scores)\n",
    "\n",
    "range1 = maximum - minimum\n",
    "print(\"Range : \",range1)"
   ]
  },
  {
   "cell_type": "markdown",
   "id": "419bf4df",
   "metadata": {},
   "source": [
    "1. Variance and Standard Deviation: Outliers can increase the variance and standard deviation, which measure the spread of data points from the mean. Outliers are treated as deviations from the mean, and their squared differences can inflate these measures.\n",
    "\n",
    "2. Example: The presence of an extreme outlier can increase the variance and standard deviation of the dataset, indicating greater variability."
   ]
  },
  {
   "cell_type": "code",
   "execution_count": null,
   "id": "6972aec4",
   "metadata": {},
   "outputs": [],
   "source": []
  }
 ],
 "metadata": {
  "kernelspec": {
   "display_name": "Python 3 (ipykernel)",
   "language": "python",
   "name": "python3"
  },
  "language_info": {
   "codemirror_mode": {
    "name": "ipython",
    "version": 3
   },
   "file_extension": ".py",
   "mimetype": "text/x-python",
   "name": "python",
   "nbconvert_exporter": "python",
   "pygments_lexer": "ipython3",
   "version": "3.11.4"
  }
 },
 "nbformat": 4,
 "nbformat_minor": 5
}
