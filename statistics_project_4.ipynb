{
 "cells": [
  {
   "cell_type": "markdown",
   "id": "7f5b32a9",
   "metadata": {},
   "source": [
    "## Q1"
   ]
  },
  {
   "cell_type": "markdown",
   "id": "c01e2e50",
   "metadata": {},
   "source": [
    "1. Probability Mass Function(PMF)\n",
    "\n",
    "    1. The PMF is used for discrete random variables, which can take on a countable set of distinct values.\n",
    "    2. It assigns a probability to each possible value of the random variable.\n",
    "    3. The PMF must satisfy two properties: each probability must be non-negative, and the sum of all probabilities must be equal to 1.\n",
    "    \n",
    "2. Probability Density Function(PDF)\n",
    "\n",
    "    1. The PDF is used for continuous random variables, which can take on an uncountably infinite set of values within a range.\n",
    "    2. The area under the PDF curve over a specific interval represents the probability of the random variable falling within that interval.\n",
    "    3. Like the PMF, the PDF must also satisfy two properties: it must be non-negative, and the total area under the curve must equal 1.\n",
    "    \n",
    "\n",
    "Example\n",
    "\n",
    "1. Discrete Random Variable(PMF)\n",
    "\n",
    "    1. Suppose you flip a fair coin three times, and you are interested in the number of heads (H) that occur. H can take values from 0 to 3\n",
    "    2. The PMF for this scenario is as follows:\n",
    "        P(H = 0) = 1/8\n",
    "        P(H = 1) = 3/8\n",
    "        P(H = 2) = 3/8\n",
    "        P(H = 3) = 1/8\n",
    "    3. Each probability represents the likelihood of getting a specific number of heads in three coin flips.    \n",
    "\n",
    "\n",
    "2. Continuous Random Variable(PDF)\n",
    "\n",
    "    1. Suppose you measure the height of individuals in a population. Height is a continuous random variable, and it can take any value within a certain range (e.g., 150 cm to 200 cm).\n",
    "    2. The PDF for height might be represented by a bell-shaped curve, like the normal distribution. This curve describes the probability density of finding individuals with different heights."
   ]
  },
  {
   "cell_type": "markdown",
   "id": "a70f1b41",
   "metadata": {},
   "source": [
    "## Q2"
   ]
  },
  {
   "cell_type": "markdown",
   "id": "7552acaf",
   "metadata": {},
   "source": [
    "The Cumulative Density Function (CDF) is a fundamental concept in probability and statistics. It provides a way to describe the probability distribution of a random variable by showing the probability that the random variable takes on a value less than or equal to a specific value. In other words, the CDF accumulates the probabilities as you move along the possible values of the random variable, hence the name \"cumulative.\"\n",
    "\n",
    "Example: \n",
    "    Suppose you have a fair six-sided die (with faces numbered 1 to 6), and you are interested in the CDF for the outcome of a single roll. The CDF would look like this:\n",
    "\n",
    "    F(1) = P(X ≤ 1) = 1/6 (since there's a 1/6 chance of rolling a 1 or less)\n",
    "    F(2) = P(X ≤ 2) = 2/6 (a 2/6 chance of rolling a 2 or less)\n",
    "    F(3) = P(X ≤ 3) = 3/6 (a 3/6 chance of rolling a 3 or less)\n",
    "    F(4) = P(X ≤ 4) = 4/6 (a 4/6 chance of rolling a 4 or less)\n",
    "    F(5) = P(X ≤ 5) = 5/6 (a 5/6 chance of rolling a 5 or less)\n",
    "    F(6) = P(X ≤ 6) = 1 (a 100% chance of rolling a 6 or less)\n",
    "    This cumulative probability distribution provides a clear picture of the likelihood of obtaining different outcomes when rolling the die. For example, if you want to know the probability of rolling a 3 or less, you can simply look at F(3), which is 3/6 or 50%.\n",
    "    \n",
    "The CDF is useful for several reasons:\n",
    "\n",
    "    1. Visual Representation\n",
    "    2. Cummulative Information.\n",
    "\n"
   ]
  },
  {
   "cell_type": "markdown",
   "id": "a7d2915a",
   "metadata": {},
   "source": [
    "## Q3"
   ]
  },
  {
   "cell_type": "markdown",
   "id": "fd92beed",
   "metadata": {},
   "source": [
    "The normal distribution, also known as the Gaussian distribution or the bell curve, is widely used to model various phenomena in science, engineering, and statistics. It is characterized by a symmetric, bell-shaped curve. Here are some examples of situations where the normal distribution might be used as a model:\n",
    "\n",
    "    1. Height of Individuals.\n",
    "    2. Test Scores.\n",
    "    3. Stock Returns.\n",
    "    \n",
    "Parameters of the Normal Distribution and Their Relationship to the Shape:\n",
    "\n",
    "The normal distribution is characterized by two parameters: the mean (μ) and the standard deviation (σ). These parameters play a crucial role in shaping the distribution:\n",
    "\n",
    "    1. Mean: The mean represents the central location of the distribution. It is the point around which the data cluster, and it corresponds to the peak of the bell curve. Shifting the mean to the left or right will shift the entire distribution accordingly. A larger mean shifts the distribution to the right, and a smaller mean shifts it to the left.\n",
    "    \n",
    "    2. Standard Deviation: The standard deviation measures the spread or variability of the data. A larger standard deviation results in a wider, flatter bell curve, indicating greater variability in the data. Conversely, a smaller standard deviation results in a narrower, taller bell curve, indicating less variability.\n",
    "    \n",
    "    \n",
    ". The empirical rule (68-95-99.7 rule) illustrates the relationship between the standard deviation and the percentage of data within certain ranges in a normal distribution:\n",
    "\n",
    "    1. Approximately 68% of the data falls within one standard deviation of the mean (μ ± σ).\n",
    "    2. Approximately 95% of the data falls within two standard deviations of the mean (μ ± 2σ).\n",
    "    3. Approximately 99.7% of the data falls within three standard deviations of the mean (μ ± 3σ).\n",
    "\n",
    "    "
   ]
  },
  {
   "cell_type": "markdown",
   "id": "d7682094",
   "metadata": {},
   "source": [
    "## Q4"
   ]
  },
  {
   "cell_type": "markdown",
   "id": "d1854628",
   "metadata": {},
   "source": [
    "The Normal Distribution, also known as the Gaussian distribution or the bell curve, holds significant importance in various fields of science, engineering, and statistics due to several compelling reasons:\n",
    "\n",
    "1. Central Limit Theorem: The central limit theorem states that the sampling distribution of the mean will always be normally distributed as long as the size of the sample is large enough. Regardless of whether the population has normal,poisson,uniform or any other distribution.The samplng dstribution of the mean will be normal.\n",
    "\n",
    "\n",
    "Examples of Real-Life Situations Modeled by the Normal Distribution:\n",
    "\n",
    "    1. Height of Individuals.\n",
    "    2. IQ Scores.\n",
    "    3. Stock Returns."
   ]
  },
  {
   "cell_type": "markdown",
   "id": "554e0bbf",
   "metadata": {},
   "source": [
    "## Q5"
   ]
  },
  {
   "cell_type": "markdown",
   "id": "61b263c7",
   "metadata": {},
   "source": [
    "The Bernoulli Distribution is a discrete probability distribution that models a random experiment with two possible outcomes: \"success\" with probability p and \"failure\" with probability q, where q = 1 - p. It is named after Swiss mathematician Jacob Bernoulli.\n",
    "\n",
    "Example:\n",
    "\n",
    "Consider a single toss of a biased coin, where \"heads\" (H) is considered a success, and \"tails\" (T) is considered a failure. If the probability of getting a \"heads\" is p = 0.7, then the Bernoulli Distribution for this experiment would be:\n",
    "\n",
    "1. P(X = 1) = p = 0.7 (probability of getting a \"heads\")\n",
    "2. P(X = 0) = q = 1 - p = 0.3 (probability of getting a \"tails\")\n",
    "\n",
    "In this example, X represents the outcome of a single coin toss, and it follows a Bernoulli Distribution.\n",
    "\n",
    "Difference between Bernoulli and Binomial Distribution.\n",
    "\n",
    "1. Number of Trials:\n",
    "\n",
    "    1. Bernoulli Distribution: Describes a single trial or experiment with two possible outcomes (success or failure).\n",
    "    2. Binomial Distribution: Describes the number of successes (k) in a fixed number of independent, identical Bernoulli trials (n).\n",
    "    \n",
    "2. Random Variable:\n",
    "\n",
    "    1. Bernoulli Distribution: Models the outcome of a single trial and represents a single random variable (X).\n",
    "    2. Binomial Distribution: Models the number of successes in multiple trials, and the random variable (X) can take on values from 0 to n."
   ]
  },
  {
   "cell_type": "markdown",
   "id": "ef514410",
   "metadata": {},
   "source": [
    "## Q6"
   ]
  },
  {
   "cell_type": "code",
   "execution_count": 1,
   "id": "90325147",
   "metadata": {},
   "outputs": [
    {
     "name": "stdout",
     "output_type": "stream",
     "text": [
      "The Probability X > 60 is approximately 0.1587\n"
     ]
    }
   ],
   "source": [
    "import scipy.stats as stat\n",
    "\n",
    "mean = 50\n",
    "std_dev= 10\n",
    "\n",
    "value = 60\n",
    "\n",
    "z_score = (value - mean) / std_dev\n",
    "\n",
    "probability = 1 - stat.norm.cdf(z_score)\n",
    "print(f\"The Probability X > {value} is approximately {probability:.4f}\")"
   ]
  },
  {
   "cell_type": "markdown",
   "id": "a2cf8739",
   "metadata": {},
   "source": [
    "## Q7"
   ]
  },
  {
   "cell_type": "markdown",
   "id": "09d33eb3",
   "metadata": {},
   "source": [
    "The Uniform Distribution, also known as the rectangular distribution, is a probability distribution in which all values within a specific range are equally likely to occur. In other words, it's a constant probability distribution where each value in the range has the same probability of being observed. The uniform distribution is characterized by two parameters: the minimum value (a) and the maximum value (b) within the range.\n",
    "\n",
    "Example:\n",
    "\n",
    "Let's consider a simple example of a continuous uniform distribution i.e if the number of candies sold daily at a shop is uniformly distributed with a minimum of 10 and maximum of 40.Then what is the probability of daily sales to fall between 15 and 30 .\n",
    "b = maximum value(40)\n",
    "a = minimum value(10)\n",
    "\n",
    "Pr(15<= x >= 30) = (30-15) * 1/b-a\n",
    "Pr(15<= x >= 30) = (30-15) * 1/30\n",
    "                 =  0.5 \n",
    "                 \n",
    "that means 50% of the data falls under (15<= x >= 30).                "
   ]
  },
  {
   "cell_type": "markdown",
   "id": "d3aba7f5",
   "metadata": {},
   "source": [
    "## Q8"
   ]
  },
  {
   "cell_type": "markdown",
   "id": "9d8500ae",
   "metadata": {},
   "source": [
    "The z-score, also known as the standard score, is a statistical measure that quantifies the number of standard deviations a data point is away from the mean (average).\n",
    "\n",
    "Formula for z-score \n",
    "    z-score = (x-mean) / std_dev\n",
    "    \n",
    "Key points about the z-score and its importance:\n",
    "\n",
    "1. Standardization: The primary purpose of the z-score is to standardize data, transforming it into a common scale with a mean of 0 and a standard deviation of 1. This transformation makes it easier to compare and analyze data points from different datasets or variables.\n",
    "\n",
    "2. Outlier Detection: Z-scores are commonly used to identify outliers in a dataset. Outliers are data points that are significantly different from the rest of the data. Typically, data points with z-scores greater than a certain threshold (e.g., ±2 or ±3) are considered outliers."
   ]
  },
  {
   "cell_type": "markdown",
   "id": "e3f81021",
   "metadata": {},
   "source": [
    "## Q9"
   ]
  },
  {
   "cell_type": "markdown",
   "id": "b71003f5",
   "metadata": {},
   "source": [
    "The Central Limit Theorem (CLT) is a fundamental concept in statistics that describes the behavior of the sampling distribution of the sample mean (or other sample statistics) from a population, regardless of the shape of the population distribution. \n",
    "\n",
    " The central limit theorem states that the sampling distribution of the mean will always be normally distributed as long as the size of the sample is large enough. Regardless of whether the population has normal,poisson,uniform or any other distribution.The samplng dstribution of the mean will be normal.\n",
    " \n",
    "Significance of the Central Limit Theorem: \n",
    "\n",
    "1. Normality Assumption: The CLT allows statisticians to make inferences about population parameters, such as the population mean, even when the population distribution is not known or is not normally distributed. It forms the basis for many statistical techniques, such as hypothesis testing and confidence interval estimation.\n",
    "\n",
    "2. Sample Size Considerations: The CLT emphasizes the importance of sample size. As the sample size (n) increases, the sampling distribution of the sample mean becomes more normal and its standard error (σ/√n) decreases. This means that larger samples provide more accurate estimates."
   ]
  },
  {
   "cell_type": "markdown",
   "id": "0d5807d2",
   "metadata": {},
   "source": [
    "## Q10"
   ]
  },
  {
   "cell_type": "markdown",
   "id": "150e005b",
   "metadata": {},
   "source": [
    "1. Sample Size should be large enough (n>= 30).\n",
    "2. The data must be sampled at random.\n",
    "3. population mean and population and standard deviation should be provided."
   ]
  },
  {
   "cell_type": "code",
   "execution_count": null,
   "id": "c1de42ab",
   "metadata": {},
   "outputs": [],
   "source": []
  }
 ],
 "metadata": {
  "kernelspec": {
   "display_name": "Python 3 (ipykernel)",
   "language": "python",
   "name": "python3"
  },
  "language_info": {
   "codemirror_mode": {
    "name": "ipython",
    "version": 3
   },
   "file_extension": ".py",
   "mimetype": "text/x-python",
   "name": "python",
   "nbconvert_exporter": "python",
   "pygments_lexer": "ipython3",
   "version": "3.11.4"
  }
 },
 "nbformat": 4,
 "nbformat_minor": 5
}
