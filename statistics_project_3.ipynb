{
 "cells": [
  {
   "cell_type": "markdown",
   "id": "79078e45",
   "metadata": {},
   "source": [
    "## Q1"
   ]
  },
  {
   "cell_type": "markdown",
   "id": "f1a031ee",
   "metadata": {},
   "source": [
    "The Probability Density Function (PDF) is a fundamental concept in probability theory and statistics. It is used to describe the probability distribution of a continuous random variable. In other words, it specifies the likelihood of a continuous random variable taking on a particular value or falling within a certain range of values."
   ]
  },
  {
   "cell_type": "markdown",
   "id": "6274f2a2",
   "metadata": {},
   "source": [
    "## Q2"
   ]
  },
  {
   "cell_type": "markdown",
   "id": "ce346027",
   "metadata": {},
   "source": [
    "There are several types of probability distributions, and they can be broadly categorized into two main classes: discrete probability distributions and continuous probability distributions.\n",
    "\n",
    "1. Discrete Probability Distributions: These distributions are defined for discrete random variables, which take on distinct, separate values.\n",
    "\n",
    "    1.Bernoulli Distribution\n",
    "    \n",
    "    2.Binomial Distribution\n",
    "    \n",
    "    3.Poisson Distribution\n",
    "    \n",
    "2. Continuous Probability Distributions : These distributions are defined for continuous random variables, which can take on any real value within a range.\n",
    "\n",
    "    1.Normal / Gaussian Distribution.\n",
    "    \n",
    "    2.Uniform Distribution.\n",
    "    \n",
    "    3.Log Normal Distribution.\n",
    "\n"
   ]
  },
  {
   "cell_type": "markdown",
   "id": "9f34a0e5",
   "metadata": {},
   "source": [
    "## Q3"
   ]
  },
  {
   "cell_type": "code",
   "execution_count": 4,
   "id": "51482253",
   "metadata": {},
   "outputs": [
    {
     "name": "stdout",
     "output_type": "stream",
     "text": [
      "The PDF at 1.5 : 0.12951759566589174\n"
     ]
    }
   ],
   "source": [
    "import math\n",
    "def normal_pdf(x,mean,std_dev):\n",
    "    z = (x - mean) / std_dev\n",
    "    pdf_value = (1 / (std_dev * math.sqrt(2 * math.pi))) * math.exp(-0.5 * z**2)\n",
    "    return pdf_value\n",
    "\n",
    "\n",
    "mean = 0.0\n",
    "std_dev = 1.0\n",
    "x = 1.5\n",
    "pdf_at_x = normal_pdf(x,mean,std_dev)\n",
    "print(f\"The PDF at {x} : {pdf_at_x}\")\n"
   ]
  },
  {
   "cell_type": "markdown",
   "id": "6b933f46",
   "metadata": {},
   "source": [
    "## Q4"
   ]
  },
  {
   "cell_type": "markdown",
   "id": "8954bd7d",
   "metadata": {},
   "source": [
    "The Binomial Distribution has several key properties that make it a useful model for certain types of random events. Here are some of its properties:\n",
    "\n",
    "    1. Two Outcomes: In each trial, there are only two possible outcomes: success and failure.\n",
    "    2. Fixed Number of Trials (n): The distribution is defined for a fixed number of trials or experiments, denoted        as \"n.\"\n",
    "    3. Independence: Each trial is independent of the others, meaning the outcome of one trial does not affect the        outcomes of subsequent trials.\n",
    "    4. Constant Probability: The probability of success (often denoted as \"p\") remains constant from trial to              trial, while the probability of failure (denoted as \"q,\" where q = 1 - p) also remains constant.\n",
    "    5. Discrete: The Binomial Distribution is a discrete distribution, meaning it models events where you are              counting whole numbers of successes (0, 1, 2, ...) in a fixed number of trials.\n",
    "    \n",
    "    \n",
    "Examples:\n",
    "\n",
    "1. Coin Flips: Consider flipping a fair coin (where heads is considered a \"success\" and tails is a \"failure\") 10 times. You can use the Binomial Distribution to calculate the probability of getting a specific number of heads (e.g., exactly 5 heads) in those 10 flips.\n",
    "\n",
    "2. Survey Responses: Imagine conducting a survey where each respondent can either respond \"yes\" (success) or \"no\" (failure) to a specific question. If you're interested in the number of respondents who answer \"yes\" out of a fixed number of respondents, the Binomial Distribution can help you calculate the probability of obtaining a certain number of positive responses."
   ]
  },
  {
   "cell_type": "markdown",
   "id": "121116da",
   "metadata": {},
   "source": [
    "## Q5"
   ]
  },
  {
   "cell_type": "code",
   "execution_count": 10,
   "id": "b064be19",
   "metadata": {},
   "outputs": [
    {
     "data": {
      "image/png": "[encoded data removed]",
      "text/plain": [
       "<Figure size 640x480 with 1 Axes>"
      ]
     },
     "metadata": {},
     "output_type": "display_data"
    }
   ],
   "source": [
    "import numpy as np\n",
    "import matplotlib.pyplot as plt\n",
    "\n",
    "n = 1000\n",
    "p = 0.4\n",
    "\n",
    "random_sample = np.random.binomial(n=1,p=p,size=n)\n",
    "plt.hist(random_sample,bins=2,align='mid',color='skyblue',edgecolor='black')\n",
    "plt.title(\"Histogram of Binomial Distribution\")\n",
    "plt.xlabel(\"Success or Failure\")\n",
    "plt.ylabel(\"Frequency\")\n",
    "plt.show()"
   ]
  },
  {
   "cell_type": "markdown",
   "id": "06241662",
   "metadata": {},
   "source": [
    "## Q6"
   ]
  },
  {
   "cell_type": "code",
   "execution_count": 13,
   "id": "77891a52",
   "metadata": {},
   "outputs": [
    {
     "name": "stdout",
     "output_type": "stream",
     "text": [
      "The Poisson CDF at k = 5 is 0.9161\n"
     ]
    }
   ],
   "source": [
    "import math\n",
    "\n",
    "def poisson_cdf(k, mean):\n",
    "    \n",
    "    cdf_value = 0\n",
    "    for i in range(k + 1):\n",
    "        cdf_value += (math.exp(-mean) * mean**i) / math.factorial(i)\n",
    "    \n",
    "    return cdf_value\n",
    "\n",
    "\n",
    "mean = 3.0\n",
    "k_value = 5\n",
    "cdf_at_k = poisson_cdf(k_value, mean)\n",
    "print(f\"The Poisson CDF at k = {k_value} is {cdf_at_k:.4f}\")"
   ]
  },
  {
   "cell_type": "markdown",
   "id": "4d6262ed",
   "metadata": {},
   "source": [
    "## Q7"
   ]
  },
  {
   "cell_type": "markdown",
   "id": "a1356b9f",
   "metadata": {},
   "source": [
    "Number of Trials : \n",
    "\n",
    "     1. Binomial Distribution: It is used when you have a fixed number of trials or experiments (n) and you are             interested in counting the number of successes (k) among those trials. Each trial can result in one of two         outcomes (success or failure).\n",
    "     \n",
    "     2. Poisson Distribution: It is used when the number of trials or observations is not fixed; instead, it               represents the number of events occurring in a fixed interval of time or space. The trials or events are           often rare, and the focus is on the number of events in a continuous or large number of opportunities."
   ]
  },
  {
   "cell_type": "markdown",
   "id": "7a140bda",
   "metadata": {},
   "source": [
    "## Q8"
   ]
  },
  {
   "cell_type": "code",
   "execution_count": 15,
   "id": "0b9a06d0",
   "metadata": {},
   "outputs": [
    {
     "name": "stdout",
     "output_type": "stream",
     "text": [
      "Sample Mean: 4.924\n",
      "Sample Variance: 5.162224\n"
     ]
    }
   ],
   "source": [
    "import numpy as np\n",
    "\n",
    "mean = 5\n",
    "sample_size = 1000\n",
    "\n",
    "random_sample = np.random.poisson(mean,sample_size)\n",
    "\n",
    "sample_mean = np.mean(random_sample)\n",
    "sample_var = np.var(random_sample)\n",
    "\n",
    "print(f\"Sample Mean: {sample_mean}\")\n",
    "print(f\"Sample Variance: {sample_var}\")"
   ]
  },
  {
   "cell_type": "markdown",
   "id": "0b8c0f8f",
   "metadata": {},
   "source": [
    "## Q9"
   ]
  },
  {
   "cell_type": "markdown",
   "id": "1d17cf83",
   "metadata": {},
   "source": [
    "Binomial Distribution:\n",
    "\n",
    "In the Binomial distribution, which models the number of successes (k) in a fixed number of trials (n) with a probability of success (p) on each trial, the mean and variance are related as follows:\n",
    "\n",
    "\n",
    "    1. Mean (μ): The mean of the Binomial distribution is given by μ = np, where n is the number of trials and p is the probability of success on an individual trial.\n",
    "\n",
    "    2. Variance (σ^2): The variance of the Binomial distribution is given by σ^2 = npq, where q is the probability of failure on an individual trial (q = 1 - p).\n",
    "    \n",
    "    \n",
    "So, in the Binomial distribution, the variance is directly proportional to both the number of trials (n) and the probability of success (p), and it can be expressed as a function of the mean.\n",
    "\n",
    "\n"
   ]
  },
  {
   "cell_type": "markdown",
   "id": "60722230",
   "metadata": {},
   "source": [
    "Poisson Distribution:\n",
    "\n",
    "In the Poisson distribution, which models the number of events (k) occurring in a fixed interval of time or space, the mean and variance are related differently:\n",
    "\n",
    "    1. Mean (λ): The mean of the Poisson distribution is given by λt,where λ represents the expected number of events to occur at every time interval and t represents the time interval.\n",
    "\n",
    "    2. Variance (σ^2): The variance of the Poisson distribution is also given by σ^2 = λt.\n",
    "    \n",
    "    \n",
    "In the Poisson distribution, the mean and variance are equal and have the same value, which is λt. This is a unique property of the Poisson distribution and indicates that the spread or variability of the distribution is directly linked to the mean rate of events.     "
   ]
  },
  {
   "cell_type": "markdown",
   "id": "958fc0e0",
   "metadata": {},
   "source": [
    "## Q10"
   ]
  },
  {
   "cell_type": "markdown",
   "id": "5fb50edc",
   "metadata": {},
   "source": [
    "The least frequent data in a normal distribution appear in the tails of the distribution, which are the regions farthest from the mean. The majority of data points are clustered around the mean, and the distribution is symmetric, with a bell-shaped curve.\n",
    "\n",
    " As you move away from the mean in either direction along the x-axis (left or right), the frequency of data points decreases. The farther you go from the mean, the fewer data points you encounter. The tails of the distribution represent the least frequent data."
   ]
  },
  {
   "cell_type": "code",
   "execution_count": null,
   "id": "5d2431d5",
   "metadata": {},
   "outputs": [],
   "source": []
  }
 ],
 "metadata": {
  "kernelspec": {
   "display_name": "Python 3 (ipykernel)",
   "language": "python",
   "name": "python3"
  },
  "language_info": {
   "codemirror_mode": {
    "name": "ipython",
    "version": 3
   },
   "file_extension": ".py",
   "mimetype": "text/x-python",
   "name": "python",
   "nbconvert_exporter": "python",
   "pygments_lexer": "ipython3",
   "version": "3.11.4"
  }
 },
 "nbformat": 4,
 "nbformat_minor": 5
}
