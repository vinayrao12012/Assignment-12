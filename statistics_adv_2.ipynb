{
 "cells": [
  {
   "cell_type": "markdown",
   "id": "66a5e400",
   "metadata": {},
   "source": [
    "## Q1"
   ]
  },
  {
   "cell_type": "code",
   "execution_count": 4,
   "id": "20174bf4",
   "metadata": {},
   "outputs": [
    {
     "name": "stdout",
     "output_type": "stream",
     "text": [
      "95% Confidence Interval:  (49.02001800772997, 50.97998199227003)\n"
     ]
    }
   ],
   "source": [
    "import scipy.stats as stat\n",
    "\n",
    "sample_mean = 50\n",
    "sample_std_dev = 5\n",
    "sample_size = 100\n",
    "\n",
    "# standard error of the mean\n",
    "sem = sample_std_dev / (sample_size ** 0.5)\n",
    "\n",
    "z_score = stat.norm.ppf(0.975)\n",
    "margin_of_error = z_score * sem\n",
    "\n",
    "Confidence_interval = (sample_mean - margin_of_error , sample_mean + margin_of_error) \n",
    "\n",
    "print(\"95% Confidence Interval: \",Confidence_interval)"
   ]
  },
  {
   "cell_type": "markdown",
   "id": "cfdfe11a",
   "metadata": {},
   "source": [
    "## Q2"
   ]
  },
  {
   "cell_type": "code",
   "execution_count": 8,
   "id": "ff0ffa0f",
   "metadata": {},
   "outputs": [],
   "source": [
    "import scipy.stats as stat\n",
    "import numpy as np"
   ]
  },
  {
   "cell_type": "code",
   "execution_count": 12,
   "id": "d5d8782e",
   "metadata": {},
   "outputs": [],
   "source": [
    "expected_value = [100,100,100,50,50,100]\n",
    "observed_value = [140,90,80,70,30,90]"
   ]
  },
  {
   "cell_type": "code",
   "execution_count": 15,
   "id": "6a27f3e4",
   "metadata": {},
   "outputs": [],
   "source": [
    "chi_square_test_statistics, p_value = stats.chisquare(observed_value,expected_value)"
   ]
  },
  {
   "cell_type": "code",
   "execution_count": 20,
   "id": "6a2343c5",
   "metadata": {},
   "outputs": [
    {
     "name": "stdout",
     "output_type": "stream",
     "text": [
      "38.0\n",
      "3.7732391387324825e-07\n"
     ]
    }
   ],
   "source": [
    "print(chi_square_test_statistics)\n",
    "print(p_value)"
   ]
  },
  {
   "cell_type": "code",
   "execution_count": 18,
   "id": "98066774",
   "metadata": {},
   "outputs": [],
   "source": [
    "significance_value = 0.05\n",
    "dof = len(expected_value) - 1\n",
    "critical_value = stat.chi2.ppf(1-significance_value,dof)"
   ]
  },
  {
   "cell_type": "code",
   "execution_count": 21,
   "id": "eae6ae22",
   "metadata": {},
   "outputs": [
    {
     "name": "stdout",
     "output_type": "stream",
     "text": [
      "11.070497693516351\n"
     ]
    }
   ],
   "source": [
    "print(critical_value)"
   ]
  },
  {
   "cell_type": "code",
   "execution_count": 19,
   "id": "3128e0a9",
   "metadata": {},
   "outputs": [
    {
     "name": "stdout",
     "output_type": "stream",
     "text": [
      "Reject the Null Hypothesis\n"
     ]
    }
   ],
   "source": [
    "if chi_square_test_statistics > critical_value:\n",
    "    print(\"Reject the Null Hypothesis\")\n",
    "else:\n",
    "    print(\"Accept the Null Hypothesis\")"
   ]
  },
  {
   "cell_type": "markdown",
   "id": "77f7f76f",
   "metadata": {},
   "source": [
    "## Q3"
   ]
  },
  {
   "cell_type": "code",
   "execution_count": 31,
   "id": "33e315f9",
   "metadata": {},
   "outputs": [],
   "source": [
    "from scipy.stats import chi2_contingency\n",
    "import numpy as np"
   ]
  },
  {
   "cell_type": "code",
   "execution_count": 29,
   "id": "8ce3ee97",
   "metadata": {},
   "outputs": [
    {
     "data": {
      "text/plain": [
       "array([[20, 15],\n",
       "       [10, 25],\n",
       "       [15, 20]])"
      ]
     },
     "execution_count": 29,
     "metadata": {},
     "output_type": "execute_result"
    }
   ],
   "source": [
    "observed_data = np.array([[20,15],[10,25],[15,20]])\n",
    "observed_data"
   ]
  },
  {
   "cell_type": "code",
   "execution_count": 33,
   "id": "a67accab",
   "metadata": {},
   "outputs": [],
   "source": [
    "chi2, p ,_,_ = chi2_contingency(observed_data)"
   ]
  },
  {
   "cell_type": "code",
   "execution_count": 34,
   "id": "cf366cde",
   "metadata": {},
   "outputs": [
    {
     "name": "stdout",
     "output_type": "stream",
     "text": [
      "Chi-square statistic: 5.833333333333334\n",
      "P-value: 0.05411376622282158\n"
     ]
    }
   ],
   "source": [
    "print(\"Chi-square statistic:\", chi2)\n",
    "print(\"P-value:\", p)"
   ]
  },
  {
   "cell_type": "markdown",
   "id": "f0c12eb5",
   "metadata": {},
   "source": [
    "## Q4"
   ]
  },
  {
   "cell_type": "code",
   "execution_count": 45,
   "id": "d7da86b7",
   "metadata": {},
   "outputs": [],
   "source": [
    "import scipy.stats as stat\n",
    "import numpy as np"
   ]
  },
  {
   "cell_type": "code",
   "execution_count": 46,
   "id": "610a8756",
   "metadata": {},
   "outputs": [
    {
     "name": "stdout",
     "output_type": "stream",
     "text": [
      "Confidence Interval:  (59.97151638887131, 60.02848361112869)\n"
     ]
    }
   ],
   "source": [
    "sample_size = 500\n",
    "sample_smokers = 60\n",
    "\n",
    "sample_proportion = sample_smokers / sample_size\n",
    "\n",
    "confidence_level = 0.95\n",
    "\n",
    "standard_error = np.sqrt((sample_proportion * (1-sample_proportion)) / sample_size)\n",
    "\n",
    "z_score = stat.norm.ppf((1+confidence_level) / 2)\n",
    "\n",
    "margin_of_error = z_score * standard_error\n",
    "\n",
    "Confidence_interval = (sample_smokers - margin_of_error , sample_smokers + margin_of_error)\n",
    "print(\"Confidence Interval: \",Confidence_interval)"
   ]
  },
  {
   "cell_type": "markdown",
   "id": "b4aab3a9",
   "metadata": {},
   "source": [
    "## Q5"
   ]
  },
  {
   "cell_type": "code",
   "execution_count": 49,
   "id": "a36c0ef8",
   "metadata": {},
   "outputs": [
    {
     "name": "stdout",
     "output_type": "stream",
     "text": [
      "Confidence Interval:  (74.99802617564765, 75.00197382435235)\n"
     ]
    }
   ],
   "source": [
    "import scipy.stats as stat\n",
    "\n",
    "sample_mean = 75\n",
    "sample_std_dev = 12\n",
    "sample_size = 100\n",
    "confidence_level = 0.90\n",
    "\n",
    "sem = sample_std_dev / sample_size ** 2\n",
    "z_score = stat.norm.ppf((1+confidence_level) / 2)\n",
    "\n",
    "margin_of_error = z_score * sem\n",
    "\n",
    "confidence_interval = (sample_mean - margin_of_error,sample_mean + margin_of_error)\n",
    "print(\"Confidence Interval: \",confidence_interval)"
   ]
  },
  {
   "cell_type": "markdown",
   "id": "0007b271",
   "metadata": {},
   "source": [
    "## Q6"
   ]
  },
  {
   "cell_type": "code",
   "execution_count": 50,
   "id": "ca994b0b",
   "metadata": {},
   "outputs": [],
   "source": [
    "import numpy as np\n",
    "import scipy.stats as stat\n",
    "import matplotlib.pyplot as plt\n"
   ]
  },
  {
   "cell_type": "code",
   "execution_count": 52,
   "id": "e1ec2394",
   "metadata": {},
   "outputs": [
    {
     "data": {
      "image/png": "[encoded data removed]",
      "text/plain": [
       "<Figure size 640x480 with 1 Axes>"
      ]
     },
     "metadata": {},
     "output_type": "display_data"
    }
   ],
   "source": [
    "dof = 10\n",
    "x = np.linspace(0,30,500)\n",
    "\n",
    "pdf = stat.chi2.pdf(x,dof)\n",
    "fig, ax = plt.subplots()\n",
    "\n",
    "# Plot the chi-square PDF\n",
    "ax.plot(x, pdf, label=f'Chi-Square (df={dof}) PDF')\n",
    "\n",
    "ax.set_xlabel('Chi-Square Value')\n",
    "ax.set_ylabel('Probability Density')\n",
    "ax.set_title(f'Chi-Square Distribution with {dof} Degrees of Freedom')\n",
    "ax.legend()\n",
    "\n",
    "\n",
    "plt.grid()\n",
    "plt.show()"
   ]
  },
  {
   "cell_type": "markdown",
   "id": "a522b2a8",
   "metadata": {},
   "source": [
    "## Q7"
   ]
  },
  {
   "cell_type": "code",
   "execution_count": 54,
   "id": "533b42c5",
   "metadata": {},
   "outputs": [
    {
     "name": "stdout",
     "output_type": "stream",
     "text": [
      "Confidence Interval:  (519.9593051576779, 520.0406948423221)\n"
     ]
    }
   ],
   "source": [
    "import numpy as np\n",
    "import scipy.stats as stat\n",
    "\n",
    "sample_size = 1000\n",
    "preference_coke = 520\n",
    "confidence_level = 0.99\n",
    "\n",
    "sample_proportion = preference_coke / sample_size\n",
    "\n",
    "standard_error = np.sqrt((sample_proportion * (1 - sample_proportion)) / sample_size) \n",
    "z_score = stat.norm.ppf((1+confidence_level) / 2)\n",
    "\n",
    "margin_of_error = z_score * standard_error\n",
    "\n",
    "confidence_interval = (preference_coke - margin_of_error ,preference_coke + margin_of_error)\n",
    "print(\"Confidence Interval: \",confidence_interval)"
   ]
  },
  {
   "cell_type": "markdown",
   "id": "d71c6375",
   "metadata": {},
   "source": [
    "## Q8"
   ]
  },
  {
   "cell_type": "code",
   "execution_count": 55,
   "id": "4a243e34",
   "metadata": {},
   "outputs": [],
   "source": [
    "import scipy.stats as stat\n",
    "import numpy as np"
   ]
  },
  {
   "cell_type": "code",
   "execution_count": 66,
   "id": "f12328bb",
   "metadata": {},
   "outputs": [],
   "source": [
    "observed_tail = 45\n",
    "expected_tail = 50\n",
    "\n",
    "observed_head = 55\n",
    "expected_head = 50\n",
    "\n",
    "chi_square_tail = ((observed_tail - expected_tail)**2 / expected_tail)\n",
    "chi_square_head = ((observed_head - expected_head)**2 / expected_head)\n",
    "actual_chi_square_test_statistic = chi_square_tail + chi_square_head\n",
    "\n",
    "significance_level = 0.05\n",
    "dof = 1\n",
    "critical_value = stat.chi2.ppf(1-significance_level ,dof)"
   ]
  },
  {
   "cell_type": "code",
   "execution_count": 67,
   "id": "ec1b0092",
   "metadata": {},
   "outputs": [
    {
     "name": "stdout",
     "output_type": "stream",
     "text": [
      "Accept the Null Hypothesis\n"
     ]
    }
   ],
   "source": [
    "if actual_chi_square_test_statistic > critical_value:\n",
    "    print(\"Reject the Null Hypothesis\")\n",
    "else:   \n",
    "    print(\"Accept the Null Hypothesis\")"
   ]
  },
  {
   "cell_type": "markdown",
   "id": "71be27ba",
   "metadata": {},
   "source": [
    "## Q9"
   ]
  },
  {
   "cell_type": "code",
   "execution_count": 68,
   "id": "e834d814",
   "metadata": {},
   "outputs": [],
   "source": [
    "import numpy as np\n",
    "from scipy.stats import chi2_contingency"
   ]
  },
  {
   "cell_type": "code",
   "execution_count": 76,
   "id": "cc1a1bb4",
   "metadata": {},
   "outputs": [
    {
     "name": "stdout",
     "output_type": "stream",
     "text": [
      "12.057347670250895\n",
      "0.0005158863863703744\n"
     ]
    }
   ],
   "source": [
    "x = np.array([[60,140],[30,170]])\n",
    "chi1,p_value1,_,_ = chi2_contingency(x)\n",
    "print(chi1)\n",
    "print(p_value1)"
   ]
  },
  {
   "cell_type": "code",
   "execution_count": 77,
   "id": "77c627c1",
   "metadata": {},
   "outputs": [
    {
     "name": "stdout",
     "output_type": "stream",
     "text": [
      "Reject the Null Hypothesis\n"
     ]
    }
   ],
   "source": [
    "significance_level_1 = 0.05\n",
    "if p_value < significance_level_1:\n",
    "    print(\"Reject the Null Hypothesis\")\n",
    "else:\n",
    "    print(\"Accept the Null Hypothesis\")"
   ]
  },
  {
   "cell_type": "markdown",
   "id": "94ae2e5c",
   "metadata": {},
   "source": [
    "We can conclude that there is a significant association between smoking status and lung cancer diagnosis"
   ]
  },
  {
   "cell_type": "markdown",
   "id": "479245e7",
   "metadata": {},
   "source": [
    "## Q10"
   ]
  },
  {
   "cell_type": "code",
   "execution_count": 78,
   "id": "5c6f4bdb",
   "metadata": {},
   "outputs": [],
   "source": [
    "import numpy as np\n",
    "from scipy.stats import chi2_contingency"
   ]
  },
  {
   "cell_type": "code",
   "execution_count": 79,
   "id": "2c92a640",
   "metadata": {},
   "outputs": [
    {
     "data": {
      "text/plain": [
       "array([[200, 150, 150],\n",
       "       [225, 175, 100]])"
      ]
     },
     "execution_count": 79,
     "metadata": {},
     "output_type": "execute_result"
    }
   ],
   "source": [
    "obs_data = np.array([[200,150,150],[225,175,100]])\n",
    "obs_data"
   ]
  },
  {
   "cell_type": "code",
   "execution_count": 80,
   "id": "9e0dfd60",
   "metadata": {},
   "outputs": [],
   "source": [
    "chi_2 ,p_value2,_,_ = chi2_contingency(obs_data)"
   ]
  },
  {
   "cell_type": "code",
   "execution_count": 81,
   "id": "7e050dea",
   "metadata": {},
   "outputs": [
    {
     "name": "stdout",
     "output_type": "stream",
     "text": [
      "Reject the Null Hypothesis\n"
     ]
    }
   ],
   "source": [
    "if p_value2 < 0.01:\n",
    "    print(\"Reject the Null Hypothesis\")\n",
    "else:\n",
    "    print(\"Accept the Null Hypothesis\")"
   ]
  },
  {
   "cell_type": "markdown",
   "id": "ce5880d3",
   "metadata": {},
   "source": [
    "We can conclude that there is a significant association between chocolate preference and country of origin."
   ]
  },
  {
   "cell_type": "markdown",
   "id": "0222d87c",
   "metadata": {},
   "source": [
    "## Q11"
   ]
  },
  {
   "cell_type": "code",
   "execution_count": 85,
   "id": "7766a8b6",
   "metadata": {},
   "outputs": [],
   "source": [
    "from scipy.stats import t\n",
    "import math"
   ]
  },
  {
   "cell_type": "code",
   "execution_count": 86,
   "id": "14cbe2ec",
   "metadata": {},
   "outputs": [
    {
     "name": "stdout",
     "output_type": "stream",
     "text": [
      "Reject the Null Hypothesis\n"
     ]
    }
   ],
   "source": [
    "population_mean = 70\n",
    "sample_mean = 72\n",
    "sample_standard_dev = 10\n",
    "siginificance_value_11 = 0.05\n",
    "sample_size11 = 30\n",
    "dof_11 = sample_size11 - 1\n",
    "\n",
    "standard_error11 = sample_standard_dev / math.sqrt(sample_size)\n",
    "test_statistics = (sample_mean - population_mean) / standard_error11\n",
    "\n",
    "critical_t_value = t.ppf(1 - siginificance_value_11 / 2, dof_11)\n",
    "\n",
    "if test_statistics > critical_t_value:\n",
    "    print(\"Reject the Null Hypothesis\")\n",
    "else:\n",
    "    print(\"Accept the Null Hypothesis\")\n"
   ]
  },
  {
   "cell_type": "markdown",
   "id": "46acde5b",
   "metadata": {},
   "source": [
    "We can conclude that the population mean is significantly different from 70"
   ]
  },
  {
   "cell_type": "code",
   "execution_count": null,
   "id": "bef8466f",
   "metadata": {},
   "outputs": [],
   "source": []
  }
 ],
 "metadata": {
  "kernelspec": {
   "display_name": "Python 3 (ipykernel)",
   "language": "python",
   "name": "python3"
  },
  "language_info": {
   "codemirror_mode": {
    "name": "ipython",
    "version": 3
   },
   "file_extension": ".py",
   "mimetype": "text/x-python",
   "name": "python",
   "nbconvert_exporter": "python",
   "pygments_lexer": "ipython3",
   "version": "3.11.4"
  }
 },
 "nbformat": 4,
 "nbformat_minor": 5
}
