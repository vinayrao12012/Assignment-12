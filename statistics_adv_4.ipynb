{
 "cells": [
  {
   "cell_type": "markdown",
   "id": "07f86180",
   "metadata": {},
   "source": [
    "## Q1"
   ]
  },
  {
   "cell_type": "code",
   "execution_count": 1,
   "id": "9433d16c",
   "metadata": {},
   "outputs": [],
   "source": [
    "import scipy.stats as stat"
   ]
  },
  {
   "cell_type": "code",
   "execution_count": 2,
   "id": "3a2cd608",
   "metadata": {},
   "outputs": [
    {
     "name": "stdout",
     "output_type": "stream",
     "text": [
      "F value :  3.5617391304347823\n",
      "P value :  0.0958296056310052\n"
     ]
    }
   ],
   "source": [
    "def calculate_f_value_and_p_value(array1,array2):\n",
    "    f_value, p_value = stat.f_oneway(array1,array2)\n",
    "    return f_value,p_value\n",
    "\n",
    "data1 = [23, 34, 29, 35, 37]\n",
    "data2 = [19, 22, 25, 32, 28]\n",
    "f_value,p_value = calculate_f_value_and_p_value(data1,data2)\n",
    "print(f\"F value : \",f_value)\n",
    "print(f\"P value : \",p_value)"
   ]
  },
  {
   "cell_type": "markdown",
   "id": "6137a372",
   "metadata": {},
   "source": [
    "## Q2"
   ]
  },
  {
   "cell_type": "code",
   "execution_count": 3,
   "id": "315c0a96",
   "metadata": {},
   "outputs": [
    {
     "name": "stdout",
     "output_type": "stream",
     "text": [
      "Critical F value:  4.474184809637748\n"
     ]
    }
   ],
   "source": [
    "def calculate_critical_value(alpha,df1,df2):\n",
    "    critical_f_value = stat.f.ppf(1 - alpha / 2,df1,df2)\n",
    "    return critical_f_value\n",
    "\n",
    "\n",
    "\n",
    "alpha = 0.05\n",
    "df1 = 3\n",
    "df2 = 12\n",
    "critical_f_value = calculate_critical_value(alpha,df1,df2)\n",
    "print(f\"Critical F value: \",critical_f_value)"
   ]
  },
  {
   "cell_type": "markdown",
   "id": "ee7064fe",
   "metadata": {},
   "source": [
    "## Q3"
   ]
  },
  {
   "cell_type": "code",
   "execution_count": 5,
   "id": "c54d2905",
   "metadata": {},
   "outputs": [],
   "source": [
    "import numpy as np\n",
    "import scipy.stats as stat"
   ]
  },
  {
   "cell_type": "code",
   "execution_count": 12,
   "id": "e837ddb6",
   "metadata": {},
   "outputs": [
    {
     "name": "stdout",
     "output_type": "stream",
     "text": [
      "F test:  3.5617391304347823\n",
      "Degree of Freedom 1:  29\n",
      "Degree of Freedom 2:  29\n",
      "P value:  0.0010121174551018797\n",
      "Reject the Null Hypothesis The variances are not equal\n"
     ]
    }
   ],
   "source": [
    "def f_test_for_equal_variance(sample1,sample2):\n",
    "    var1 = np.var(sample1,ddof = 1)\n",
    "    var2 = np.var(sample2,ddof = 1)\n",
    "    \n",
    "    f_test = var1 / var2 if var1 > var2 else var2 / var1\n",
    "    df1 = len(sample1) -1\n",
    "    df2 = len(sample2) -1\n",
    "    \n",
    "    p_value = 2 * min(stats.f.cdf(f_value, df1, df2), 1 - stats.f.cdf(f_value, df1, df2))\n",
    "    \n",
    "    return f_value, df1, df2, p_value\n",
    "\n",
    "\n",
    "\n",
    "\n",
    "variance1 = 1.0\n",
    "variance2 = 1.5\n",
    "sample_size = 30\n",
    "sample1 = np.random.normal(0,np.sqrt(variance1),sample_size)\n",
    "sample2 = np.random.normal(0,np.sqrt(variance2),sample_size)\n",
    "f_test,df1,df2,p_value = f_test_for_equal_variance(sample1,sample2)\n",
    "print(\"F test: \",f_test)\n",
    "print(\"Degree of Freedom 1: \",df1)\n",
    "print(\"Degree of Freedom 2: \",df2)\n",
    "print(\"P value: \",p_value)\n",
    "\n",
    "\n",
    "if p_value < 0.05:\n",
    "    print(\"Reject the Null Hypothesis The variances are not equal\")\n",
    "else:\n",
    "    print(\"Accept the Null Hypothesis The variances are equal\")"
   ]
  },
  {
   "cell_type": "markdown",
   "id": "3b52d8f8",
   "metadata": {},
   "source": [
    "## Q4"
   ]
  },
  {
   "cell_type": "code",
   "execution_count": 13,
   "id": "6874d66d",
   "metadata": {},
   "outputs": [],
   "source": [
    "import scipy.stats as stat"
   ]
  },
  {
   "cell_type": "code",
   "execution_count": 19,
   "id": "81476db9",
   "metadata": {},
   "outputs": [
    {
     "name": "stdout",
     "output_type": "stream",
     "text": [
      "F test :  1.5\n",
      "P value :  0.5123897987357995\n",
      "Accept the Null Hypothesis The vaiance are not significantly different\n"
     ]
    }
   ],
   "source": [
    "variance1 = 10\n",
    "variance2 = 15\n",
    "\n",
    "sample_size = 12\n",
    "df1 = sample_size - 1\n",
    "df2 = sample_size -1 \n",
    "\n",
    "\n",
    "f_test = variance2 / variance1\n",
    "p_value = 2 * min(stats.f.cdf(f_test, df1, df2), 1 - stats.f.cdf(f_test, df1, df2))\n",
    "\n",
    "alpha = 0.05\n",
    "print(\"F test : \",f_test)\n",
    "print(\"P value : \",p_value)\n",
    "\n",
    "\n",
    "if p_value < 0.05:\n",
    "    print(\"Reject the Null Hypothesis The variances are significantly different\")\n",
    "else:\n",
    "    print(\"Accept the Null Hypothesis The vaiance are not significantly different\")"
   ]
  },
  {
   "cell_type": "markdown",
   "id": "b3a5d636",
   "metadata": {},
   "source": [
    "## Q5"
   ]
  },
  {
   "cell_type": "code",
   "execution_count": 23,
   "id": "dab34232",
   "metadata": {},
   "outputs": [
    {
     "name": "stdout",
     "output_type": "stream",
     "text": [
      "F-value: 1.2\n",
      "Degrees of Freedom (Numerator): 24\n",
      "Degrees of Freedom (Denominator): 1\n",
      "P-value: 0.7407800760081285\n",
      "The Manufacturer's claim is justified Accept the Null Hypothesis\n"
     ]
    }
   ],
   "source": [
    "import scipy.stats as stat\n",
    "\n",
    "sample_variance = 0.006\n",
    "population_variance = 0.005\n",
    "\n",
    "sample_size = 25\n",
    "df1 = sample_size - 1\n",
    "df2 = 1\n",
    "\n",
    "F_test = sample_variance / population_variance\n",
    "p_value = 2 * min(stat.f.cdf(F_test,df1,df2), 1-stat.f.cdf(F_test,df1,df2))\n",
    "\n",
    "alpha = 0.01\n",
    "\n",
    "print(f\"F-value: {F_test}\")\n",
    "print(f\"Degrees of Freedom (Numerator): {df1}\")\n",
    "print(f\"Degrees of Freedom (Denominator): {df2}\")\n",
    "print(f\"P-value: {p_value}\")\n",
    "\n",
    "\n",
    "if p_value < alpha:\n",
    "    print(\"The Manufacturer's claim is not justified Reject the Null Hypothesis\")\n",
    "else:\n",
    "    print(\"The Manufacturer's claim is justified Accept the Null Hypothesis\")"
   ]
  },
  {
   "cell_type": "markdown",
   "id": "00a7bfac",
   "metadata": {},
   "source": [
    "## Q6"
   ]
  },
  {
   "cell_type": "code",
   "execution_count": 24,
   "id": "8b553e01",
   "metadata": {},
   "outputs": [
    {
     "name": "stdout",
     "output_type": "stream",
     "text": [
      "Mean :  1.25\n",
      "Variance :  1.3541666666666667\n"
     ]
    }
   ],
   "source": [
    "def calculate_f_distribution_mean_and_variance(df1,df2):\n",
    "    if df2 <= 2:\n",
    "        raise ValueError(\"Degrees of freedom for the denominator (df2) must be greater than 2 \")\n",
    "    \n",
    "    if df2 <= 4:\n",
    "        raise ValueError(\"Degrees of freedom for the denominator (df2) must be greater than 4 for variance calculation \")\n",
    "        \n",
    "    mean = df2 / (df2 - 2) \n",
    "    variance = (2 * df2**2 * (df1 + df2 - 2)) / (df1 * (df2 - 2)**2 * (df2 - 4))\n",
    "    return mean , variance\n",
    "\n",
    "\n",
    "df1 = 5\n",
    "df2 = 10\n",
    "mean,variance = calculate_f_distribution_mean_and_variance(df1,df2)\n",
    "print(\"Mean : \",mean)\n",
    "print(\"Variance : \",variance)"
   ]
  },
  {
   "cell_type": "markdown",
   "id": "0a15185e",
   "metadata": {},
   "source": [
    "## Q7"
   ]
  },
  {
   "cell_type": "code",
   "execution_count": 28,
   "id": "2796cc83",
   "metadata": {},
   "outputs": [
    {
     "name": "stdout",
     "output_type": "stream",
     "text": [
      "F test:  1.25\n",
      "P value:  0.7512439922413319\n",
      "The variances are not significantly different (Fail to reject the null hypothesis).\n"
     ]
    }
   ],
   "source": [
    "sample1 = 10\n",
    "sample2 = 15\n",
    "\n",
    "sample_variance_1 = 25\n",
    "sample_variance_2 = 20\n",
    "\n",
    "degree1 = sample1 - 1\n",
    "degree2 = sample2 - 1\n",
    "\n",
    "alpha = 0.1\n",
    "F_tst = sample_variance_1/ sample_variance_2\n",
    "\n",
    "p_value7 = 2 * min(stat.f.cdf(F_test,df1,df2), 1-stat.f.cdf(F_test,df1,df2))\n",
    "\n",
    "print(\"F test: \",F_tst)\n",
    "print(\"P value: \",p_value7)\n",
    "\n",
    "if p_value7 < alpha:\n",
    "    print(\"The variances are significantly different (Reject the null hypothesis).\")\n",
    "else:\n",
    "    print(\"The variances are not significantly different (Fail to reject the null hypothesis).\")"
   ]
  },
  {
   "cell_type": "markdown",
   "id": "b53add09",
   "metadata": {},
   "source": [
    "## Q8"
   ]
  },
  {
   "cell_type": "code",
   "execution_count": 37,
   "id": "bbab5229",
   "metadata": {},
   "outputs": [
    {
     "name": "stdout",
     "output_type": "stream",
     "text": [
      "F test : 1.496767651159843\n",
      "P value :  0.674826713928165\n",
      "The variances are not significantly different (Fail to reject the null hypothesis).\n"
     ]
    }
   ],
   "source": [
    "Restaurant_A = [24, 25, 28, 23, 22, 20, 27]\n",
    "Restaurant_B = [31, 33, 35, 30, 32, 36] \n",
    "    \n",
    "alpha = 0.05\n",
    "\n",
    "var1 = np.var(Restaurant_A)\n",
    "var2 = np.var(Restaurant_B)\n",
    "\n",
    "F_test8 = var1 / var2\n",
    "df1 = len(Restaurant_A) -1\n",
    "df2 = len(Restaurant_B) -1\n",
    "\n",
    "p_value8 = 2 * min(stat.f.cdf(F_test8,df1,df2) ,1-stat.f.cdf(F_test8,df1,df2))\n",
    "\n",
    "print(\"F test :\",F_test8)\n",
    "print(\"P value : \",p_value8)\n",
    "\n",
    "if p_value8 < alpha:\n",
    "    print(\"The variances are significantly different (Reject the null hypothesis).\")\n",
    "else:\n",
    "    print(\"The variances are not significantly different (Fail to reject the null hypothesis).\")"
   ]
  },
  {
   "cell_type": "markdown",
   "id": "de83699b",
   "metadata": {},
   "source": [
    "## Q9"
   ]
  },
  {
   "cell_type": "code",
   "execution_count": 40,
   "id": "e1dee2ee",
   "metadata": {},
   "outputs": [
    {
     "name": "stdout",
     "output_type": "stream",
     "text": [
      "F Test:  1.9442622950819677\n",
      "P Value :  0.4831043549070688\n",
      "The variances are not significantly different (Accept the Null Hypothesis)\n"
     ]
    }
   ],
   "source": [
    "import numpy as np\n",
    "import scipy.stats as stat\n",
    "\n",
    "alpha9 = 0.01\n",
    "Group_A =  [80, 85, 90, 92, 87, 83]\n",
    "Group_B =  [75, 78, 82, 79, 81, 84]\n",
    "\n",
    "variance1 = np.var(Group_A)\n",
    "variance2 = np.var(Group_B)\n",
    "\n",
    "dof1 = len(Group_A) - 1\n",
    "dof2 = len(Group_B) - 1\n",
    "\n",
    "F_test9 = variance1 / variance2 \n",
    "p_value9 = 2 * min(stat.f.cdf(F_test9,dof1,dof2), 1-stat.f.cdf(F_test9,dof1,dof2))\n",
    "\n",
    "print(\"F Test: \",F_test9)\n",
    "print(\"P Value : \",p_value9)\n",
    "\n",
    "if p_value9 < alpha9:\n",
    "    print(\"The variances are significantly different (Reject the Null Hypothesis)\")\n",
    "else:\n",
    "    print(\"The variances are not significantly different (Accept the Null Hypothesis)\")\n",
    "\n"
   ]
  },
  {
   "cell_type": "code",
   "execution_count": null,
   "id": "9e5b02b0",
   "metadata": {},
   "outputs": [],
   "source": []
  },
  {
   "cell_type": "code",
   "execution_count": null,
   "id": "9b88f813",
   "metadata": {},
   "outputs": [],
   "source": []
  }
 ],
 "metadata": {
  "kernelspec": {
   "display_name": "Python 3 (ipykernel)",
   "language": "python",
   "name": "python3"
  },
  "language_info": {
   "codemirror_mode": {
    "name": "ipython",
    "version": 3
   },
   "file_extension": ".py",
   "mimetype": "text/x-python",
   "name": "python",
   "nbconvert_exporter": "python",
   "pygments_lexer": "ipython3",
   "version": "3.11.4"
  }
 },
 "nbformat": 4,
 "nbformat_minor": 5
}
